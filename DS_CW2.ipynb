{
 "cells": [
  {
   "cell_type": "code",
   "execution_count": 1,
   "id": "understood-improvement",
   "metadata": {},
   "outputs": [],
   "source": [
    "import pandas as pd\n",
    "import numpy as np\n",
    "import matplotlib.pyplot as plt\n",
    "import math\n",
    "from collections import Counter\n",
    "from sklearn.preprocessing import LabelEncoder\n",
    "import ast\n",
    "from scipy import stats\n",
    "import scipy.stats as ss\n",
    "import scipy.special as special"
   ]
  },
  {
   "cell_type": "code",
   "execution_count": 2,
   "id": "polyphonic-zealand",
   "metadata": {},
   "outputs": [],
   "source": [
    "df = pd.read_csv('./yelp_dataset/resturants_cleaned.csv')"
   ]
  },
  {
   "cell_type": "code",
   "execution_count": 3,
   "id": "classical-tragedy",
   "metadata": {},
   "outputs": [
    {
     "data": {
      "text/html": [
       "<div>\n",
       "<style scoped>\n",
       "    .dataframe tbody tr th:only-of-type {\n",
       "        vertical-align: middle;\n",
       "    }\n",
       "\n",
       "    .dataframe tbody tr th {\n",
       "        vertical-align: top;\n",
       "    }\n",
       "\n",
       "    .dataframe thead th {\n",
       "        text-align: right;\n",
       "    }\n",
       "</style>\n",
       "<table border=\"1\" class=\"dataframe\">\n",
       "  <thead>\n",
       "    <tr style=\"text-align: right;\">\n",
       "      <th></th>\n",
       "      <th>business_id</th>\n",
       "      <th>name</th>\n",
       "      <th>city</th>\n",
       "      <th>state</th>\n",
       "      <th>review_count</th>\n",
       "      <th>is_open</th>\n",
       "      <th>Cursine</th>\n",
       "      <th>BusinessAcceptsBitcoin</th>\n",
       "      <th>OutdoorSeating</th>\n",
       "      <th>Smoking</th>\n",
       "      <th>...</th>\n",
       "      <th>upscale</th>\n",
       "      <th>divey</th>\n",
       "      <th>OpenMusic</th>\n",
       "      <th>brunch</th>\n",
       "      <th>dinner</th>\n",
       "      <th>breakfast</th>\n",
       "      <th>latenight</th>\n",
       "      <th>lunch</th>\n",
       "      <th>dessert</th>\n",
       "      <th>star_type</th>\n",
       "    </tr>\n",
       "  </thead>\n",
       "  <tbody>\n",
       "    <tr>\n",
       "      <th>0</th>\n",
       "      <td>pQeaRpvuhoEqudo3uymHIQ</td>\n",
       "      <td>The Empanadas House</td>\n",
       "      <td>71</td>\n",
       "      <td>6</td>\n",
       "      <td>5</td>\n",
       "      <td>1</td>\n",
       "      <td>5</td>\n",
       "      <td>0</td>\n",
       "      <td>0</td>\n",
       "      <td>0</td>\n",
       "      <td>...</td>\n",
       "      <td>0</td>\n",
       "      <td>0</td>\n",
       "      <td>0</td>\n",
       "      <td>0</td>\n",
       "      <td>0</td>\n",
       "      <td>0</td>\n",
       "      <td>0</td>\n",
       "      <td>0</td>\n",
       "      <td>0</td>\n",
       "      <td>1</td>\n",
       "    </tr>\n",
       "    <tr>\n",
       "      <th>1</th>\n",
       "      <td>Z7r_FJXEyfyvVsyv2y7gFQ</td>\n",
       "      <td>Cactus Grill</td>\n",
       "      <td>71</td>\n",
       "      <td>6</td>\n",
       "      <td>60</td>\n",
       "      <td>1</td>\n",
       "      <td>44</td>\n",
       "      <td>0</td>\n",
       "      <td>0</td>\n",
       "      <td>0</td>\n",
       "      <td>...</td>\n",
       "      <td>0</td>\n",
       "      <td>0</td>\n",
       "      <td>0</td>\n",
       "      <td>0</td>\n",
       "      <td>0</td>\n",
       "      <td>0</td>\n",
       "      <td>0</td>\n",
       "      <td>1</td>\n",
       "      <td>0</td>\n",
       "      <td>1</td>\n",
       "    </tr>\n",
       "    <tr>\n",
       "      <th>2</th>\n",
       "      <td>VHsNB3pdGVcRgs6C3jt6Zg</td>\n",
       "      <td>Dublin O'Neil's</td>\n",
       "      <td>71</td>\n",
       "      <td>6</td>\n",
       "      <td>130</td>\n",
       "      <td>0</td>\n",
       "      <td>35</td>\n",
       "      <td>0</td>\n",
       "      <td>1</td>\n",
       "      <td>0</td>\n",
       "      <td>...</td>\n",
       "      <td>0</td>\n",
       "      <td>0</td>\n",
       "      <td>0</td>\n",
       "      <td>0</td>\n",
       "      <td>1</td>\n",
       "      <td>0</td>\n",
       "      <td>0</td>\n",
       "      <td>1</td>\n",
       "      <td>0</td>\n",
       "      <td>1</td>\n",
       "    </tr>\n",
       "    <tr>\n",
       "      <th>3</th>\n",
       "      <td>ZMcbVIEXsLO7j1Q1GXKPSw</td>\n",
       "      <td>A-Ri-Rang</td>\n",
       "      <td>71</td>\n",
       "      <td>6</td>\n",
       "      <td>60</td>\n",
       "      <td>1</td>\n",
       "      <td>38</td>\n",
       "      <td>0</td>\n",
       "      <td>0</td>\n",
       "      <td>0</td>\n",
       "      <td>...</td>\n",
       "      <td>0</td>\n",
       "      <td>0</td>\n",
       "      <td>0</td>\n",
       "      <td>0</td>\n",
       "      <td>1</td>\n",
       "      <td>0</td>\n",
       "      <td>0</td>\n",
       "      <td>1</td>\n",
       "      <td>0</td>\n",
       "      <td>1</td>\n",
       "    </tr>\n",
       "    <tr>\n",
       "      <th>4</th>\n",
       "      <td>-fiUXzkxRfbHY9TKWwuptw</td>\n",
       "      <td>DESTIHL Restaurant &amp; Brew Works</td>\n",
       "      <td>71</td>\n",
       "      <td>6</td>\n",
       "      <td>712</td>\n",
       "      <td>1</td>\n",
       "      <td>2</td>\n",
       "      <td>0</td>\n",
       "      <td>1</td>\n",
       "      <td>0</td>\n",
       "      <td>...</td>\n",
       "      <td>0</td>\n",
       "      <td>0</td>\n",
       "      <td>0</td>\n",
       "      <td>0</td>\n",
       "      <td>1</td>\n",
       "      <td>0</td>\n",
       "      <td>0</td>\n",
       "      <td>1</td>\n",
       "      <td>0</td>\n",
       "      <td>1</td>\n",
       "    </tr>\n",
       "  </tbody>\n",
       "</table>\n",
       "<p>5 rows × 54 columns</p>\n",
       "</div>"
      ],
      "text/plain": [
       "              business_id                             name  city  state  \\\n",
       "0  pQeaRpvuhoEqudo3uymHIQ              The Empanadas House    71      6   \n",
       "1  Z7r_FJXEyfyvVsyv2y7gFQ                     Cactus Grill    71      6   \n",
       "2  VHsNB3pdGVcRgs6C3jt6Zg                  Dublin O'Neil's    71      6   \n",
       "3  ZMcbVIEXsLO7j1Q1GXKPSw                        A-Ri-Rang    71      6   \n",
       "4  -fiUXzkxRfbHY9TKWwuptw  DESTIHL Restaurant & Brew Works    71      6   \n",
       "\n",
       "   review_count  is_open  Cursine  BusinessAcceptsBitcoin  OutdoorSeating  \\\n",
       "0             5        1        5                       0               0   \n",
       "1            60        1       44                       0               0   \n",
       "2           130        0       35                       0               1   \n",
       "3            60        1       38                       0               0   \n",
       "4           712        1        2                       0               1   \n",
       "\n",
       "   Smoking  ...  upscale  divey  OpenMusic  brunch  dinner  breakfast  \\\n",
       "0        0  ...        0      0          0       0       0          0   \n",
       "1        0  ...        0      0          0       0       0          0   \n",
       "2        0  ...        0      0          0       0       1          0   \n",
       "3        0  ...        0      0          0       0       1          0   \n",
       "4        0  ...        0      0          0       0       1          0   \n",
       "\n",
       "   latenight  lunch  dessert  star_type  \n",
       "0          0      0        0          1  \n",
       "1          0      1        0          1  \n",
       "2          0      1        0          1  \n",
       "3          0      1        0          1  \n",
       "4          0      1        0          1  \n",
       "\n",
       "[5 rows x 54 columns]"
      ]
     },
     "execution_count": 3,
     "metadata": {},
     "output_type": "execute_result"
    }
   ],
   "source": [
    "df.head()"
   ]
  },
  {
   "cell_type": "code",
   "execution_count": 4,
   "id": "distinguished-found",
   "metadata": {},
   "outputs": [
    {
     "data": {
      "text/plain": [
       "(23284, 54)"
      ]
     },
     "execution_count": 4,
     "metadata": {},
     "output_type": "execute_result"
    }
   ],
   "source": [
    "df.shape"
   ]
  },
  {
   "cell_type": "code",
   "execution_count": 5,
   "id": "statutory-constitution",
   "metadata": {},
   "outputs": [
    {
     "data": {
      "text/plain": [
       "1    16818\n",
       "0     6466\n",
       "Name: is_open, dtype: int64"
      ]
     },
     "execution_count": 5,
     "metadata": {},
     "output_type": "execute_result"
    }
   ],
   "source": [
    "df.is_open.value_counts()"
   ]
  },
  {
   "cell_type": "code",
   "execution_count": 6,
   "id": "framed-vegetation",
   "metadata": {},
   "outputs": [
    {
     "data": {
      "text/plain": [
       "1    14107\n",
       "0     2711\n",
       "Name: star_type, dtype: int64"
      ]
     },
     "execution_count": 6,
     "metadata": {},
     "output_type": "execute_result"
    }
   ],
   "source": [
    "df[df.is_open == 1].star_type.value_counts()"
   ]
  },
  {
   "cell_type": "code",
   "execution_count": 7,
   "id": "stainless-ghost",
   "metadata": {},
   "outputs": [
    {
     "data": {
      "text/plain": [
       "1    5340\n",
       "0    1126\n",
       "Name: star_type, dtype: int64"
      ]
     },
     "execution_count": 7,
     "metadata": {},
     "output_type": "execute_result"
    }
   ],
   "source": [
    "df[df.is_open == 0].star_type.value_counts()"
   ]
  },
  {
   "cell_type": "code",
   "execution_count": 8,
   "id": "rubber-level",
   "metadata": {},
   "outputs": [],
   "source": [
    "target = df['is_open']"
   ]
  },
  {
   "cell_type": "code",
   "execution_count": 9,
   "id": "historical-series",
   "metadata": {},
   "outputs": [
    {
     "name": "stdout",
     "output_type": "stream",
     "text": [
      "['city', 'state', 'review_count', 'Cursine', 'BusinessAcceptsBitcoin', 'OutdoorSeating', 'Smoking', 'BYOBCorkage', 'BikeParking', 'WiFi', 'Caters', 'GoodForDancing', 'RestaurantsGoodForGroups', 'Alcohol', 'RestaurantsTableService', 'AgesAllowed', 'HasTV', 'RestaurantsTakeOut', 'DogsAllowed', 'HappyHour', 'RestaurantsReservations', 'BusinessAcceptsCreditCards', 'RestaurantsDelivery', 'Corkage', 'CoatCheck', 'WheelchairAccessible', 'GoodForKids', 'RestaurantsPriceRange2', 'NoiseLevel', 'DriveThru', 'RestaurantsAttire', 'open_weekend', 'open_count', 'Parking', 'hipster', 'trendy', 'intimate', 'romantic', 'touristy', 'casual', 'classy', 'upscale', 'divey', 'OpenMusic', 'brunch', 'dinner', 'breakfast', 'latenight', 'lunch', 'dessert', 'star_type']\n"
     ]
    }
   ],
   "source": [
    "columns = [column for column in list(df.columns) if column not in ['business_id', 'name', 'is_open']]\n",
    "print(columns)"
   ]
  },
  {
   "cell_type": "code",
   "execution_count": 10,
   "id": "animal-budapest",
   "metadata": {},
   "outputs": [
    {
     "name": "stdout",
     "output_type": "stream",
     "text": [
      "city -2.6821901867392097\n",
      "state 0.021444991104316545\n",
      "review_count 18.04224649899985\n",
      "Cursine -0.026895556517553872\n",
      "BusinessAcceptsBitcoin 3.3313573182648674e-05\n",
      "OutdoorSeating -0.003889007349446466\n",
      "Smoking 0.002641017443599332\n",
      "BYOBCorkage 0.0007926527567335966\n",
      "BikeParking -0.010036202741698978\n",
      "WiFi -0.008715015205119012\n",
      "Caters -0.015518805261195246\n",
      "GoodForDancing -0.0004279742728903137\n",
      "RestaurantsGoodForGroups -0.002782067038670444\n",
      "Alcohol 0.005770855313189876\n",
      "RestaurantsTableService 0.024930443066907847\n",
      "AgesAllowed -3.0904518554933355e-05\n",
      "HasTV 0.034704512627109656\n",
      "RestaurantsTakeOut 0.003932307616162389\n",
      "DogsAllowed 0.0031993647356149623\n",
      "HappyHour 0.009103459584692383\n",
      "RestaurantsReservations -0.020781464413470854\n",
      "BusinessAcceptsCreditCards 1.281262897710503e-05\n",
      "RestaurantsDelivery 0.022528065910672187\n",
      "Corkage 0.0003383670326872867\n",
      "CoatCheck 0.0002546403944392034\n",
      "WheelchairAccessible -0.002054351769773069\n",
      "GoodForKids 0.01307418664173229\n",
      "RestaurantsPriceRange2 -0.016386467051145923\n",
      "NoiseLevel -0.03721859908522474\n",
      "DriveThru 0.0027525422849405796\n",
      "RestaurantsAttire -0.009871508994852887\n",
      "open_weekend 0.0026238810596089213\n",
      "open_count -60.23660703419011\n",
      "Parking 0.005339630845618083\n",
      "hipster 0.0002895366390388257\n",
      "trendy 0.0022947628783024482\n",
      "intimate -0.0008367351361311004\n",
      "romantic -0.0007697538255326328\n",
      "touristy 0.0004387209438406\n",
      "casual 0.020431347244506015\n",
      "classy 0.031090244492334766\n",
      "upscale 0.0007744428124113927\n",
      "divey -0.0011083569677086914\n",
      "OpenMusic 0.0017463580092909679\n",
      "brunch 0.007507783699772674\n",
      "dinner 0.05617895101173028\n",
      "breakfast 0.008986356656678705\n",
      "latenight 0.006226469153110588\n",
      "lunch 0.052955189525344844\n",
      "dessert 0.005648908451445431\n",
      "star_type 0.0025967284683991363\n"
     ]
    }
   ],
   "source": [
    "#https://numpy.org/doc/stable/reference/generated/numpy.cov.html\n",
    "cov_dict = {}\n",
    "for column in columns:\n",
    "    cov_dict[column] = np.cov(df[column], target)[0][1]\n",
    "    print(column, cov_dict[column])"
   ]
  },
  {
   "cell_type": "code",
   "execution_count": 11,
   "id": "motivated-authority",
   "metadata": {},
   "outputs": [],
   "source": [
    "#however, some variable is considered as continous e.g., open_count, review_count\n",
    "#https://stats.stackexchange.com/questions/385610/analytical-solution-to-the-covariance-between-a-continuous-and-a-categorical-var"
   ]
  },
  {
   "cell_type": "code",
   "execution_count": 12,
   "id": "vocal-mixture",
   "metadata": {},
   "outputs": [],
   "source": [
    "#https://stackoverflow.com/questions/15317822/calculating-covariance-with-python-and-numpy/39098306\n",
    "#this will give the same value as np.cov(a, b) but it's much slower\n",
    "def cov(a, b):\n",
    "\n",
    "    if len(a) != len(b):\n",
    "        return\n",
    "\n",
    "    a_mean = np.mean(a)\n",
    "    b_mean = np.mean(b)\n",
    "\n",
    "    sum = 0\n",
    "\n",
    "    for i in range(0, len(a)):\n",
    "        sum = ((a - a_mean) * (b - b_mean)).sum()\n",
    "\n",
    "    return sum/(len(a)-1)"
   ]
  },
  {
   "cell_type": "code",
   "execution_count": 13,
   "id": "magnetic-transformation",
   "metadata": {},
   "outputs": [],
   "source": [
    "#too slow to run - use np.cov()\n",
    "# cov_dict2 = {}\n",
    "# for column in columns:\n",
    "#     cov_dict2[column] = cov(df[column], target)\n",
    "#     print(column, cov_dict[column])"
   ]
  },
  {
   "cell_type": "markdown",
   "id": "elect-citation",
   "metadata": {},
   "source": [
    "Find Correlation https://www.andrews.edu/~calkins/math/edrm611/edrm13.htm"
   ]
  },
  {
   "cell_type": "markdown",
   "id": "opponent-terror",
   "metadata": {},
   "source": [
    "## Point Biserial Correlation"
   ]
  },
  {
   "cell_type": "code",
   "execution_count": 14,
   "id": "committed-genetics",
   "metadata": {},
   "outputs": [
    {
     "name": "stdout",
     "output_type": "stream",
     "text": [
      "open_count PointbiserialrResult(correlation=-0.08565393134852245, pvalue=3.592554170974775e-39)\n",
      "review_count PointbiserialrResult(correlation=0.15282505224522214, pvalue=1.138070721504263e-121)\n"
     ]
    }
   ],
   "source": [
    "#X: Numerical Quantitative, Y: Nominal\n",
    "#https://docs.scipy.org/doc/scipy-0.14.0/reference/generated/scipy.stats.pointbiserialr.html\n",
    "quan_dict = {}\n",
    "quan_columns = ['open_count', 'review_count']\n",
    "for column in quan_columns:\n",
    "    quan_dict[column] = stats.pointbiserialr(df[column],target)\n",
    "    print(column, quan_dict[column])"
   ]
  },
  {
   "cell_type": "code",
   "execution_count": 15,
   "id": "extra-checkout",
   "metadata": {},
   "outputs": [
    {
     "name": "stderr",
     "output_type": "stream",
     "text": [
      "/Users/TinyJiew/opt/anaconda3/envs/learnPython/lib/python3.8/site-packages/pandas/core/generic.py:5489: SettingWithCopyWarning: \n",
      "A value is trying to be set on a copy of a slice from a DataFrame.\n",
      "Try using .loc[row_indexer,col_indexer] = value instead\n",
      "\n",
      "See the caveats in the documentation: https://pandas.pydata.org/pandas-docs/stable/user_guide/indexing.html#returning-a-view-versus-a-copy\n",
      "  self[name] = value\n"
     ]
    },
    {
     "data": {
      "text/html": [
       "<div>\n",
       "<style scoped>\n",
       "    .dataframe tbody tr th:only-of-type {\n",
       "        vertical-align: middle;\n",
       "    }\n",
       "\n",
       "    .dataframe tbody tr th {\n",
       "        vertical-align: top;\n",
       "    }\n",
       "\n",
       "    .dataframe thead th {\n",
       "        text-align: right;\n",
       "    }\n",
       "</style>\n",
       "<table border=\"1\" class=\"dataframe\">\n",
       "  <thead>\n",
       "    <tr style=\"text-align: right;\">\n",
       "      <th></th>\n",
       "      <th>open_count</th>\n",
       "      <th>review_count</th>\n",
       "      <th>is_open</th>\n",
       "    </tr>\n",
       "  </thead>\n",
       "  <tbody>\n",
       "    <tr>\n",
       "      <th>open_count</th>\n",
       "      <td>1.000000</td>\n",
       "      <td>0.146481</td>\n",
       "      <td>-0.085654</td>\n",
       "    </tr>\n",
       "    <tr>\n",
       "      <th>review_count</th>\n",
       "      <td>0.146481</td>\n",
       "      <td>1.000000</td>\n",
       "      <td>0.152825</td>\n",
       "    </tr>\n",
       "    <tr>\n",
       "      <th>is_open</th>\n",
       "      <td>-0.085654</td>\n",
       "      <td>0.152825</td>\n",
       "      <td>1.000000</td>\n",
       "    </tr>\n",
       "  </tbody>\n",
       "</table>\n",
       "</div>"
      ],
      "text/plain": [
       "              open_count  review_count   is_open\n",
       "open_count      1.000000      0.146481 -0.085654\n",
       "review_count    0.146481      1.000000  0.152825\n",
       "is_open        -0.085654      0.152825  1.000000"
      ]
     },
     "execution_count": 15,
     "metadata": {},
     "output_type": "execute_result"
    }
   ],
   "source": [
    "#Point Biserial Correlation\n",
    "#https://dzone.com/articles/correlation-between-categorical-and-continuous-var-1\n",
    "#X: Numerical Quantitative, Y: Nominal\n",
    "#X = open_count, review_count\n",
    "quan_columns = ['open_count', 'review_count', 'is_open']\n",
    "df_pbc = df[quan_columns]\n",
    "df_pbc.is_open = df_pbc.is_open.astype(int)\n",
    "df_pbc.corr()"
   ]
  },
  {
   "cell_type": "markdown",
   "id": "damaged-garage",
   "metadata": {},
   "source": [
    "## Rank based Correlations\n",
    "- https://warwick.ac.uk/fac/sci/moac/people/students/peter_cock/python/rank_correlations\n",
    "- The two main correlations used for comparing such ranked data are known as the Spearman Rank Correlation (Spearman's ρ or Spearman's Rho) and Kendall's Tau (τ).\n",
    "- Gary Strangman's library in SciPy gives Kendall's tb which has the standard tie correction included (and it calculates the two-tailed p-value):"
   ]
  },
  {
   "cell_type": "code",
   "execution_count": 16,
   "id": "unusual-marine",
   "metadata": {},
   "outputs": [
    {
     "data": {
      "text/plain": [
       "KendalltauResult(correlation=-0.05605592176119059, pvalue=1.2296768607638745e-18)"
      ]
     },
     "execution_count": 16,
     "metadata": {},
     "output_type": "execute_result"
    }
   ],
   "source": [
    "#Rank Biserial Correlation\n",
    "#Kendall's Tau\n",
    "#X: Ordinal, Y: Nominal\n",
    "\n",
    "kendalltau = stats.kendalltau(df['RestaurantsPriceRange2'],target)\n",
    "kendalltau"
   ]
  },
  {
   "cell_type": "code",
   "execution_count": 17,
   "id": "beautiful-garbage",
   "metadata": {},
   "outputs": [],
   "source": [
    "#Cramér's V\n",
    "#https://www.andrews.edu/~calkins/math/edrm611/edrm13.htm\n",
    "#https://stackoverflow.com/questions/20892799/using-pandas-calculate-cram%C3%A9rs-coefficient-matrix\n",
    "#\n",
    "#X: Nominal, Y: Nominal\n",
    "\n",
    "def cramers_v(x, y):\n",
    "    confusion_matrix = pd.crosstab(x,y)\n",
    "    chi2 = ss.chi2_contingency(confusion_matrix)[0]\n",
    "    n = confusion_matrix.sum().sum()\n",
    "    phi2 = chi2/n\n",
    "    r,k = confusion_matrix.shape\n",
    "    phi2corr = max(0, phi2-((k-1)*(r-1))/(n-1))\n",
    "    rcorr = r-((r-1)**2)/(n-1)\n",
    "    kcorr = k-((k-1)**2)/(n-1)\n",
    "    return np.sqrt(phi2corr/min((kcorr-1),(rcorr-1)))"
   ]
  },
  {
   "cell_type": "code",
   "execution_count": 18,
   "id": "presidential-divide",
   "metadata": {},
   "outputs": [
    {
     "name": "stdout",
     "output_type": "stream",
     "text": [
      "city 0.08953295724321178\n",
      "state 0.051368627959938205\n",
      "Cursine 0.09349891620347965\n",
      "BusinessAcceptsBitcoin 0.0\n",
      "OutdoorSeating 0.016348466645549547\n",
      "Smoking 0.02655651648909981\n",
      "BYOBCorkage 0.013288026114261995\n",
      "BikeParking 0.05733497071393457\n",
      "WiFi 0.037551157156094125\n",
      "Caters 0.07403912230603386\n",
      "GoodForDancing 0.0055508432297652855\n",
      "RestaurantsGoodForGroups 0.019933311139369476\n",
      "Alcohol 0.05686229618807018\n",
      "RestaurantsTableService 0.11743161970161436\n",
      "AgesAllowed 0.0\n",
      "HasTV 0.18309109540393478\n",
      "RestaurantsTakeOut 0.0354173086258125\n",
      "DogsAllowed 0.037305123563801786\n",
      "HappyHour 0.04914910312447499\n",
      "RestaurantsReservations 0.09254072795532868\n",
      "BusinessAcceptsCreditCards 0.0\n",
      "RestaurantsDelivery 0.10428451154726734\n",
      "Corkage 0.006388466418299156\n",
      "CoatCheck 0.0\n",
      "WheelchairAccessible 0.02482401487753848\n",
      "GoodForKids 0.07804453884175445\n",
      "NoiseLevel 0.11128104896885746\n",
      "DriveThru 0.05279754840623242\n",
      "RestaurantsAttire 0.06906621763512963\n",
      "open_weekend 0.04057738439876088\n",
      "Parking 0.024908026705802094\n",
      "hipster 0.0\n",
      "trendy 0.018616830585888283\n",
      "intimate 0.01088702160102391\n",
      "romantic 0.010438440502881426\n",
      "touristy 0.01281118597682322\n",
      "casual 0.09092625083038626\n",
      "classy 0.18698592741519282\n",
      "upscale 0.012942904855464699\n",
      "divey 0.01832069124785853\n",
      "OpenMusic 0.019982577255992975\n",
      "brunch 0.06156537189847439\n",
      "dinner 0.2560667708400266\n",
      "breakfast 0.08504150164099127\n",
      "latenight 0.06471861226043212\n",
      "lunch 0.24116936077635615\n",
      "dessert 0.057687993583958735\n",
      "star_type 0.01404499099374586\n"
     ]
    }
   ],
   "source": [
    "nominal_dict = {}\n",
    "non_nominal_columns = ['business_id', 'name','open_count', 'review_count', 'is_open', 'RestaurantsPriceRange2']\n",
    "nominal_columns = [column for column in list(df.columns) if column not in non_nominal_columns]\n",
    "for column in nominal_columns:\n",
    "    nominal_dict[column] = cramers_v(df[column],target)\n",
    "    print(column, nominal_dict[column])"
   ]
  },
  {
   "cell_type": "markdown",
   "id": "bound-gardening",
   "metadata": {},
   "source": [
    "One is called Pearson's contingency coefficient and is termed C whereas the second is called Cramer's V coefficient. Both utilize the chi-square statistic so will be deferred into the next lesson. However, the Goodman and Kruskal lambda coefficient does not, but is another commonly used association measure. There are two flavors, one called symmetric when the researcher does not specify which variable is the dependent variable and one called asymmetric which is used when such a designation is made. We leave the details to any good statistics book."
   ]
  },
  {
   "cell_type": "code",
   "execution_count": 19,
   "id": "conservative-journey",
   "metadata": {},
   "outputs": [],
   "source": [
    "#https://towardsdatascience.com/the-search-for-categorical-correlation-a1cf7f1888c9\n",
    "#This valuable information is lost when using Cramer’s V due to its symmetry, \n",
    "#so to preserve it we need an asymmetric measure of association between categorical features.\n",
    "\n",
    "#code from https://www.kaggle.com/akshay22071995/alone-in-the-woods-using-theil-s-u-for-survival\n",
    "def conditional_entropy(x,y):\n",
    "    # entropy of x given y\n",
    "    y_counter = Counter(y)\n",
    "    xy_counter = Counter(list(zip(x,y)))\n",
    "    total_occurrences = sum(y_counter.values())\n",
    "    entropy = 0\n",
    "    for xy in xy_counter.keys():\n",
    "        p_xy = xy_counter[xy] / total_occurrences\n",
    "        p_y = y_counter[xy[1]] / total_occurrences\n",
    "        entropy += p_xy * math.log(p_y/p_xy)\n",
    "    return entropy\n",
    "\n",
    "def theil_u(x,y):\n",
    "    s_xy = conditional_entropy(x,y)\n",
    "    x_counter = Counter(x)\n",
    "    total_occurrences = sum(x_counter.values())\n",
    "    p_x = list(map(lambda n: n/total_occurrences, x_counter.values()))\n",
    "    s_x = ss.entropy(p_x)\n",
    "    if s_x == 0:\n",
    "        return 1\n",
    "    else:\n",
    "        return (s_x - s_xy) / s_x"
   ]
  },
  {
   "cell_type": "code",
   "execution_count": 20,
   "id": "clean-quest",
   "metadata": {},
   "outputs": [
    {
     "name": "stdout",
     "output_type": "stream",
     "text": [
      "city 0.00466959716168176\n",
      "state 0.0008860714343969516\n",
      "Cursine 0.0020097795939057906\n",
      "BusinessAcceptsBitcoin 0.00025339038424080035\n",
      "OutdoorSeating 0.00023225373378208926\n",
      "Smoking 0.002766257168815644\n",
      "BYOBCorkage 0.0015354460664120846\n",
      "BikeParking 0.0036281042845749184\n",
      "WiFi 0.0010561712568457227\n",
      "Caters 0.0045317022466074665\n",
      "GoodForDancing 0.0006438676208536035\n",
      "RestaurantsGoodForGroups 0.0007247908361190952\n",
      "Alcohol 0.0016407895676424048\n",
      "RestaurantsTableService 0.011210067897721858\n",
      "AgesAllowed 0.007587702661573024\n",
      "HasTV 0.02929152351533646\n",
      "RestaurantsTakeOut 0.00269257628137601\n",
      "DogsAllowed 0.005008711879472303\n",
      "HappyHour 0.002450371448250505\n",
      "RestaurantsReservations 0.00623075671591484\n",
      "BusinessAcceptsCreditCards 5.681001976072725e-07\n",
      "RestaurantsDelivery 0.00855582562279988\n",
      "Corkage 0.0013608739485227814\n",
      "CoatCheck 0.00037553390417523696\n",
      "WheelchairAccessible 0.002484400327704269\n",
      "GoodForKids 0.006576755951125067\n",
      "NoiseLevel 0.007806203123570819\n",
      "DriveThru 0.026063048557934697\n",
      "RestaurantsAttire 0.006688059507096667\n",
      "open_weekend 0.008005346635649623\n",
      "Parking 0.0005388554626675887\n",
      "hipster 0.00010491487788718845\n",
      "trendy 0.0007912646039060613\n",
      "intimate 0.0008137224470312169\n",
      "romantic 0.0008403657793715225\n",
      "touristy 0.004623085652490616\n",
      "casual 0.006017947143890183\n",
      "classy 0.046955276325518984\n",
      "upscale 0.0016189929881103024\n",
      "divey 0.002316840402423737\n",
      "OpenMusic 0.001562885888501285\n",
      "brunch 0.007531476194152253\n",
      "dinner 0.05218883881648501\n",
      "breakfast 0.019053688097550415\n",
      "latenight 0.012561816962687157\n",
      "lunch 0.04592953662224447\n",
      "dessert 0.00958046055401809\n",
      "star_type 0.0002704010620313045\n"
     ]
    }
   ],
   "source": [
    "theil_u_dict = {}\n",
    "non_nominal_columns = ['business_id', 'name','open_count', 'review_count', 'is_open', 'RestaurantsPriceRange2']\n",
    "nominal_columns = [column for column in list(df.columns) if column not in non_nominal_columns]\n",
    "for column in nominal_columns:\n",
    "    theil_u_dict[column] = theil_u(df[column],target)\n",
    "    print(column, theil_u_dict[column])"
   ]
  },
  {
   "cell_type": "code",
   "execution_count": 21,
   "id": "protective-services",
   "metadata": {},
   "outputs": [
    {
     "name": "stdout",
     "output_type": "stream",
     "text": [
      "city 0.4761527800219079\n",
      "state 0.8924543357177261\n",
      "Cursine 0.7591036740909555\n",
      "BusinessAcceptsBitcoin 0.969159068329504\n",
      "OutdoorSeating 0.9717305501042486\n",
      "Smoking 0.6729637254278247\n",
      "BYOBCorkage 0.8147654818111159\n",
      "BikeParking 0.5798608382007084\n",
      "WiFi 0.8719724448511486\n",
      "Caters 0.48927449513959953\n",
      "GoodForDancing 0.9217392498225413\n",
      "RestaurantsGoodForGroups 0.911940998744643\n",
      "Alcohol 0.8023117619735366\n",
      "RestaurantsTableService 0.08717033289794843\n",
      "AgesAllowed 0.2469581897624252\n",
      "HasTV 7.809507216192017e-06\n",
      "RestaurantsTakeOut 0.681188777316209\n",
      "DogsAllowed 0.444719527728355\n",
      "HappyHour 0.7084898687459548\n",
      "RestaurantsReservations 0.34174891329422435\n",
      "BusinessAcceptsCreditCards 0.9999308375256345\n",
      "RestaurantsDelivery 0.1917242065350132\n",
      "Corkage 0.8355053801729523\n",
      "CoatCheck 0.9543062177521573\n",
      "WheelchairAccessible 0.7046304959791568\n",
      "GoodForKids 0.31561463473358997\n",
      "NoiseLevel 0.2336103267599137\n",
      "DriveThru 6.965897037786053e-05\n",
      "RestaurantsAttire 0.3074942237977145\n",
      "open_weekend 0.2218977151797522\n",
      "Parking 0.934471720203982\n",
      "hipster 0.9872278481639558\n",
      "trendy 0.903902235141263\n",
      "intimate 0.9011885600139882\n",
      "romantic 0.8979706341915249\n",
      "touristy 0.4805570149609777\n",
      "casual 0.35849149101761874\n",
      "classy 7.58130204147698e-13\n",
      "upscale 0.8048845520062288\n",
      "divey 0.7237058425459738\n",
      "OpenMusic 0.8115168948598518\n",
      "brunch 0.2504777445127051\n",
      "dinner 1.6055006826215298e-15\n",
      "breakfast 0.003642973555134792\n",
      "latenight 0.05526431347222894\n",
      "lunch 2.3534568335282545e-12\n",
      "dessert 0.14378322329261126\n",
      "star_type 0.9670897833488656\n"
     ]
    }
   ],
   "source": [
    "p_value_theil_u_dict = {}\n",
    "n = df.shape[0]\n",
    "for column in theil_u_dict.keys():\n",
    "    r = theil_u_dict.get(column)\n",
    "    ab = n/2 - 1\n",
    "    p_value_theil_u_dict[column] = 2*special.btdtr(ab, ab, 0.5*(1 - abs(np.float64(r))))\n",
    "    print(column, p_value_theil_u_dict[column])"
   ]
  },
  {
   "cell_type": "code",
   "execution_count": 22,
   "id": "spiritual-national",
   "metadata": {},
   "outputs": [],
   "source": [
    "filter_dict = {k: v for k, v in p_value_theil_u_dict.items() if v <0.05}"
   ]
  },
  {
   "cell_type": "code",
   "execution_count": 23,
   "id": "technological-textbook",
   "metadata": {},
   "outputs": [
    {
     "name": "stdout",
     "output_type": "stream",
     "text": [
      "{'HasTV': 0.02929152351533646, 'DriveThru': 0.026063048557934697, 'classy': 0.046955276325518984, 'dinner': 0.05218883881648501, 'breakfast': 0.019053688097550415, 'lunch': 0.04592953662224447}\n"
     ]
    }
   ],
   "source": [
    "filtered_theil_u_dict = { k: theil_u_dict[k] for k in filter_dict.keys() }\n",
    "print(filtered_theil_u_dict)"
   ]
  },
  {
   "cell_type": "code",
   "execution_count": 24,
   "id": "average-dryer",
   "metadata": {},
   "outputs": [
    {
     "data": {
      "text/plain": [
       "-0.05605592176119059"
      ]
     },
     "execution_count": 24,
     "metadata": {},
     "output_type": "execute_result"
    }
   ],
   "source": [
    "kendalltau[0]"
   ]
  },
  {
   "cell_type": "code",
   "execution_count": 25,
   "id": "immune-knight",
   "metadata": {},
   "outputs": [
    {
     "data": {
      "text/plain": [
       "{'open_count': PointbiserialrResult(correlation=-0.08565393134852245, pvalue=3.592554170974775e-39),\n",
       " 'review_count': PointbiserialrResult(correlation=0.15282505224522214, pvalue=1.138070721504263e-121)}"
      ]
     },
     "execution_count": 25,
     "metadata": {},
     "output_type": "execute_result"
    }
   ],
   "source": [
    "quan_dict"
   ]
  },
  {
   "cell_type": "code",
   "execution_count": 26,
   "id": "guided-tobago",
   "metadata": {},
   "outputs": [],
   "source": [
    "correlation_dict = filtered_theil_u_dict.copy()\n",
    "correlation_dict['RestaurantsPriceRange2'] = kendalltau[0]\n",
    "correlation_dict['open_count'] = quan_dict.get('open_count')[0]\n",
    "correlation_dict['review_count'] = quan_dict.get('review_count')[0]"
   ]
  },
  {
   "cell_type": "code",
   "execution_count": 27,
   "id": "stock-ivory",
   "metadata": {},
   "outputs": [
    {
     "data": {
      "text/plain": [
       "{'HasTV': 0.02929152351533646,\n",
       " 'DriveThru': 0.026063048557934697,\n",
       " 'classy': 0.046955276325518984,\n",
       " 'dinner': 0.05218883881648501,\n",
       " 'breakfast': 0.019053688097550415,\n",
       " 'lunch': 0.04592953662224447,\n",
       " 'RestaurantsPriceRange2': -0.05605592176119059,\n",
       " 'open_count': -0.08565393134852245,\n",
       " 'review_count': 0.15282505224522214}"
      ]
     },
     "execution_count": 27,
     "metadata": {},
     "output_type": "execute_result"
    }
   ],
   "source": [
    "correlation_dict"
   ]
  },
  {
   "cell_type": "code",
   "execution_count": 28,
   "id": "current-hammer",
   "metadata": {},
   "outputs": [
    {
     "data": {
      "text/plain": [
       "{'review_count': 0.15282505224522214,\n",
       " 'dinner': 0.05218883881648501,\n",
       " 'classy': 0.046955276325518984,\n",
       " 'lunch': 0.04592953662224447,\n",
       " 'HasTV': 0.02929152351533646,\n",
       " 'DriveThru': 0.026063048557934697,\n",
       " 'breakfast': 0.019053688097550415,\n",
       " 'RestaurantsPriceRange2': -0.05605592176119059,\n",
       " 'open_count': -0.08565393134852245}"
      ]
     },
     "execution_count": 28,
     "metadata": {},
     "output_type": "execute_result"
    }
   ],
   "source": [
    "dict(sorted(correlation_dict.items(), key=lambda item: item[1], reverse=True))"
   ]
  },
  {
   "cell_type": "code",
   "execution_count": 29,
   "id": "adolescent-looking",
   "metadata": {},
   "outputs": [],
   "source": [
    "insig_filter_dict = {k: v for k, v in p_value_theil_u_dict.items() if v >= 0.05}\n",
    "insig_filtered_theil_u_dict = { k: theil_u_dict[k] for k in insig_filter_dict.keys() }"
   ]
  },
  {
   "cell_type": "code",
   "execution_count": 30,
   "id": "floppy-ethernet",
   "metadata": {},
   "outputs": [
    {
     "data": {
      "text/plain": [
       "[('latenight', 0.012561816962687157),\n",
       " ('RestaurantsTableService', 0.011210067897721858),\n",
       " ('dessert', 0.00958046055401809),\n",
       " ('RestaurantsDelivery', 0.00855582562279988),\n",
       " ('open_weekend', 0.008005346635649623),\n",
       " ('NoiseLevel', 0.007806203123570819),\n",
       " ('AgesAllowed', 0.007587702661573024),\n",
       " ('brunch', 0.007531476194152253),\n",
       " ('RestaurantsAttire', 0.006688059507096667),\n",
       " ('GoodForKids', 0.006576755951125067),\n",
       " ('RestaurantsReservations', 0.00623075671591484),\n",
       " ('casual', 0.006017947143890183),\n",
       " ('DogsAllowed', 0.005008711879472303),\n",
       " ('city', 0.00466959716168176),\n",
       " ('touristy', 0.004623085652490616),\n",
       " ('Caters', 0.0045317022466074665),\n",
       " ('BikeParking', 0.0036281042845749184),\n",
       " ('Smoking', 0.002766257168815644),\n",
       " ('RestaurantsTakeOut', 0.00269257628137601),\n",
       " ('WheelchairAccessible', 0.002484400327704269),\n",
       " ('HappyHour', 0.002450371448250505),\n",
       " ('divey', 0.002316840402423737),\n",
       " ('Cursine', 0.0020097795939057906),\n",
       " ('Alcohol', 0.0016407895676424048),\n",
       " ('upscale', 0.0016189929881103024),\n",
       " ('OpenMusic', 0.001562885888501285),\n",
       " ('BYOBCorkage', 0.0015354460664120846),\n",
       " ('Corkage', 0.0013608739485227814),\n",
       " ('WiFi', 0.0010561712568457227),\n",
       " ('state', 0.0008860714343969516),\n",
       " ('romantic', 0.0008403657793715225),\n",
       " ('intimate', 0.0008137224470312169),\n",
       " ('trendy', 0.0007912646039060613),\n",
       " ('RestaurantsGoodForGroups', 0.0007247908361190952),\n",
       " ('GoodForDancing', 0.0006438676208536035),\n",
       " ('Parking', 0.0005388554626675887),\n",
       " ('CoatCheck', 0.00037553390417523696),\n",
       " ('star_type', 0.0002704010620313045),\n",
       " ('BusinessAcceptsBitcoin', 0.00025339038424080035),\n",
       " ('OutdoorSeating', 0.00023225373378208926),\n",
       " ('hipster', 0.00010491487788718845),\n",
       " ('BusinessAcceptsCreditCards', 5.681001976072725e-07)]"
      ]
     },
     "execution_count": 30,
     "metadata": {},
     "output_type": "execute_result"
    }
   ],
   "source": [
    "sorted_insig_filtered_theil_u_dict = (sorted(insig_filtered_theil_u_dict.items(), key=lambda item: item[1], reverse=True))\n",
    "sorted_insig_filtered_theil_u_dict"
   ]
  },
  {
   "cell_type": "code",
   "execution_count": null,
   "id": "sufficient-ecuador",
   "metadata": {},
   "outputs": [],
   "source": []
  },
  {
   "cell_type": "code",
   "execution_count": 31,
   "id": "environmental-attribute",
   "metadata": {},
   "outputs": [
    {
     "data": {
      "text/html": [
       "<div>\n",
       "<style scoped>\n",
       "    .dataframe tbody tr th:only-of-type {\n",
       "        vertical-align: middle;\n",
       "    }\n",
       "\n",
       "    .dataframe tbody tr th {\n",
       "        vertical-align: top;\n",
       "    }\n",
       "\n",
       "    .dataframe thead th {\n",
       "        text-align: right;\n",
       "    }\n",
       "</style>\n",
       "<table border=\"1\" class=\"dataframe\">\n",
       "  <thead>\n",
       "    <tr style=\"text-align: right;\">\n",
       "      <th></th>\n",
       "      <th>count</th>\n",
       "      <th>mean</th>\n",
       "      <th>std</th>\n",
       "      <th>min</th>\n",
       "      <th>25%</th>\n",
       "      <th>50%</th>\n",
       "      <th>75%</th>\n",
       "      <th>max</th>\n",
       "    </tr>\n",
       "    <tr>\n",
       "      <th>is_open</th>\n",
       "      <th></th>\n",
       "      <th></th>\n",
       "      <th></th>\n",
       "      <th></th>\n",
       "      <th></th>\n",
       "      <th></th>\n",
       "      <th></th>\n",
       "      <th></th>\n",
       "    </tr>\n",
       "  </thead>\n",
       "  <tbody>\n",
       "    <tr>\n",
       "      <th>0</th>\n",
       "      <td>6466.0</td>\n",
       "      <td>66.524899</td>\n",
       "      <td>141.832149</td>\n",
       "      <td>3.0</td>\n",
       "      <td>12.0</td>\n",
       "      <td>29.0</td>\n",
       "      <td>72.0</td>\n",
       "      <td>5494.0</td>\n",
       "    </tr>\n",
       "    <tr>\n",
       "      <th>1</th>\n",
       "      <td>16818.0</td>\n",
       "      <td>156.469913</td>\n",
       "      <td>293.629886</td>\n",
       "      <td>3.0</td>\n",
       "      <td>26.0</td>\n",
       "      <td>68.0</td>\n",
       "      <td>169.0</td>\n",
       "      <td>9264.0</td>\n",
       "    </tr>\n",
       "  </tbody>\n",
       "</table>\n",
       "</div>"
      ],
      "text/plain": [
       "           count        mean         std  min   25%   50%    75%     max\n",
       "is_open                                                                 \n",
       "0         6466.0   66.524899  141.832149  3.0  12.0  29.0   72.0  5494.0\n",
       "1        16818.0  156.469913  293.629886  3.0  26.0  68.0  169.0  9264.0"
      ]
     },
     "execution_count": 31,
     "metadata": {},
     "output_type": "execute_result"
    }
   ],
   "source": [
    "df.groupby(['is_open'])['review_count'].describe()"
   ]
  },
  {
   "cell_type": "code",
   "execution_count": 32,
   "id": "diverse-seventh",
   "metadata": {},
   "outputs": [
    {
     "data": {
      "text/plain": [
       "is_open  RestaurantsPriceRange2\n",
       "0        1                          1857\n",
       "         2                          3977\n",
       "         3                           547\n",
       "         4                            85\n",
       "1        1                          5624\n",
       "         2                         10064\n",
       "         3                           975\n",
       "         4                           155\n",
       "dtype: int64"
      ]
     },
     "execution_count": 32,
     "metadata": {},
     "output_type": "execute_result"
    }
   ],
   "source": [
    "df.groupby(['is_open', 'RestaurantsPriceRange2']).size()"
   ]
  },
  {
   "cell_type": "code",
   "execution_count": 33,
   "id": "aboriginal-unemployment",
   "metadata": {},
   "outputs": [
    {
     "data": {
      "text/html": [
       "<div>\n",
       "<style scoped>\n",
       "    .dataframe tbody tr th:only-of-type {\n",
       "        vertical-align: middle;\n",
       "    }\n",
       "\n",
       "    .dataframe tbody tr th {\n",
       "        vertical-align: top;\n",
       "    }\n",
       "\n",
       "    .dataframe thead th {\n",
       "        text-align: right;\n",
       "    }\n",
       "</style>\n",
       "<table border=\"1\" class=\"dataframe\">\n",
       "  <thead>\n",
       "    <tr style=\"text-align: right;\">\n",
       "      <th></th>\n",
       "      <th>count</th>\n",
       "      <th>mean</th>\n",
       "      <th>std</th>\n",
       "      <th>min</th>\n",
       "      <th>25%</th>\n",
       "      <th>50%</th>\n",
       "      <th>75%</th>\n",
       "      <th>max</th>\n",
       "    </tr>\n",
       "    <tr>\n",
       "      <th>is_open</th>\n",
       "      <th></th>\n",
       "      <th></th>\n",
       "      <th></th>\n",
       "      <th></th>\n",
       "      <th></th>\n",
       "      <th></th>\n",
       "      <th></th>\n",
       "      <th></th>\n",
       "    </tr>\n",
       "  </thead>\n",
       "  <tbody>\n",
       "    <tr>\n",
       "      <th>0</th>\n",
       "      <td>6466.0</td>\n",
       "      <td>1996.014228</td>\n",
       "      <td>1596.954654</td>\n",
       "      <td>1.0</td>\n",
       "      <td>529.0</td>\n",
       "      <td>1788.0</td>\n",
       "      <td>3891.0</td>\n",
       "      <td>4385.0</td>\n",
       "    </tr>\n",
       "    <tr>\n",
       "      <th>1</th>\n",
       "      <td>16818.0</td>\n",
       "      <td>1695.720002</td>\n",
       "      <td>1551.798549</td>\n",
       "      <td>1.0</td>\n",
       "      <td>255.0</td>\n",
       "      <td>1540.0</td>\n",
       "      <td>2420.0</td>\n",
       "      <td>4385.0</td>\n",
       "    </tr>\n",
       "  </tbody>\n",
       "</table>\n",
       "</div>"
      ],
      "text/plain": [
       "           count         mean          std  min    25%     50%     75%     max\n",
       "is_open                                                                       \n",
       "0         6466.0  1996.014228  1596.954654  1.0  529.0  1788.0  3891.0  4385.0\n",
       "1        16818.0  1695.720002  1551.798549  1.0  255.0  1540.0  2420.0  4385.0"
      ]
     },
     "execution_count": 33,
     "metadata": {},
     "output_type": "execute_result"
    }
   ],
   "source": [
    "df.groupby(['is_open'])['open_count'].describe()"
   ]
  },
  {
   "cell_type": "code",
   "execution_count": 34,
   "id": "affiliated-athens",
   "metadata": {},
   "outputs": [
    {
     "data": {
      "text/plain": [
       "21"
      ]
     },
     "execution_count": 34,
     "metadata": {},
     "output_type": "execute_result"
    }
   ],
   "source": [
    "len(df.state.unique())"
   ]
  },
  {
   "cell_type": "code",
   "execution_count": 35,
   "id": "novel-apollo",
   "metadata": {},
   "outputs": [
    {
     "data": {
      "text/plain": [
       "491"
      ]
     },
     "execution_count": 35,
     "metadata": {},
     "output_type": "execute_result"
    }
   ],
   "source": [
    "len(df.city.unique())"
   ]
  },
  {
   "cell_type": "code",
   "execution_count": 36,
   "id": "loose-starter",
   "metadata": {},
   "outputs": [
    {
     "data": {
      "text/plain": [
       "68"
      ]
     },
     "execution_count": 36,
     "metadata": {},
     "output_type": "execute_result"
    }
   ],
   "source": [
    "len(df.Cursine.unique())"
   ]
  },
  {
   "cell_type": "code",
   "execution_count": 37,
   "id": "destroyed-production",
   "metadata": {},
   "outputs": [
    {
     "data": {
      "text/plain": [
       "(23284, 54)"
      ]
     },
     "execution_count": 37,
     "metadata": {},
     "output_type": "execute_result"
    }
   ],
   "source": [
    "df.shape"
   ]
  },
  {
   "cell_type": "code",
   "execution_count": 38,
   "id": "tropical-editing",
   "metadata": {},
   "outputs": [
    {
     "data": {
      "text/plain": [
       "Index(['business_id', 'name', 'city', 'state', 'review_count', 'is_open',\n",
       "       'Cursine', 'BusinessAcceptsBitcoin', 'OutdoorSeating', 'Smoking',\n",
       "       'BYOBCorkage', 'BikeParking', 'WiFi', 'Caters', 'GoodForDancing',\n",
       "       'RestaurantsGoodForGroups', 'Alcohol', 'RestaurantsTableService',\n",
       "       'AgesAllowed', 'HasTV', 'RestaurantsTakeOut', 'DogsAllowed',\n",
       "       'HappyHour', 'RestaurantsReservations', 'BusinessAcceptsCreditCards',\n",
       "       'RestaurantsDelivery', 'Corkage', 'CoatCheck', 'WheelchairAccessible',\n",
       "       'GoodForKids', 'RestaurantsPriceRange2', 'NoiseLevel', 'DriveThru',\n",
       "       'RestaurantsAttire', 'open_weekend', 'open_count', 'Parking', 'hipster',\n",
       "       'trendy', 'intimate', 'romantic', 'touristy', 'casual', 'classy',\n",
       "       'upscale', 'divey', 'OpenMusic', 'brunch', 'dinner', 'breakfast',\n",
       "       'latenight', 'lunch', 'dessert', 'star_type'],\n",
       "      dtype='object')"
      ]
     },
     "execution_count": 38,
     "metadata": {},
     "output_type": "execute_result"
    }
   ],
   "source": [
    "df.columns"
   ]
  },
  {
   "cell_type": "code",
   "execution_count": 39,
   "id": "funky-register",
   "metadata": {},
   "outputs": [
    {
     "data": {
      "text/plain": [
       "491"
      ]
     },
     "execution_count": 39,
     "metadata": {},
     "output_type": "execute_result"
    }
   ],
   "source": [
    "len(df.city.value_counts())"
   ]
  },
  {
   "cell_type": "code",
   "execution_count": 40,
   "id": "radical-terminal",
   "metadata": {},
   "outputs": [
    {
     "data": {
      "text/plain": [
       "21"
      ]
     },
     "execution_count": 40,
     "metadata": {},
     "output_type": "execute_result"
    }
   ],
   "source": [
    "len(df.state.value_counts())"
   ]
  },
  {
   "cell_type": "code",
   "execution_count": 74,
   "id": "express-release",
   "metadata": {},
   "outputs": [
    {
     "data": {
      "image/png": "[encoded data removed]",
      "text/plain": [
       "<Figure size 1080x360 with 3 Axes>"
      ]
     },
     "metadata": {
      "needs_background": "light"
     },
     "output_type": "display_data"
    }
   ],
   "source": [
    "fig = plt.figure(figsize=(15,5))\n",
    "\n",
    "ax1 = fig.add_subplot(131)\n",
    "df.pivot(columns='is_open').review_count.plot(kind = 'hist', stacked=True, ax=ax1, color = ['red', 'green'])\n",
    "ax1.set_xlabel('ReviewCount')\n",
    "\n",
    "ax2 = fig.add_subplot(132)\n",
    "df.pivot(columns='is_open').open_count.plot(kind = 'hist', stacked=True, ax=ax2, color = ['red', 'green'])\n",
    "ax2.set_xlabel('OpenCount')\n",
    "\n",
    "ax3 = fig.add_subplot(133)\n",
    "plt.xticks(np.arange(5))\n",
    "df.groupby(['is_open']).RestaurantsPriceRange2.value_counts().unstack(0).plot.bar(ax=ax3, color = ['red', 'green'])\n",
    "# df.pivot(columns='is_open').RestaurantsPriceRange2.plot(kind = 'hist', stacked=True, ax=ax3, color = ['red', 'green'])\n",
    "ax3.set_xlabel('RestaurantsPriceRange2')\n",
    "\n",
    "plt.tight_layout()\n",
    "plt.show()"
   ]
  },
  {
   "cell_type": "code",
   "execution_count": 75,
   "id": "absolute-block",
   "metadata": {},
   "outputs": [
    {
     "data": {
      "image/png": "[encoded data removed]",
      "text/plain": [
       "<Figure size 720x360 with 3 Axes>"
      ]
     },
     "metadata": {
      "needs_background": "light"
     },
     "output_type": "display_data"
    }
   ],
   "source": [
    "fig = plt.figure(figsize=(10,5))\n",
    "\n",
    "ax1 = fig.add_subplot(131)\n",
    "df.groupby(['is_open']).breakfast.value_counts().unstack(0).plot.bar(ax=ax1, color = ['red', 'green'])\n",
    "ax1.set_xlabel('Breakfast')\n",
    "\n",
    "ax2 = fig.add_subplot(132)\n",
    "df.groupby(['is_open']).lunch.value_counts().unstack(0).plot.bar(ax=ax2, color = ['red', 'green'])\n",
    "ax2.get_legend().remove()\n",
    "ax2.set_xlabel('Lunch')\n",
    "\n",
    "ax3 = fig.add_subplot(133)\n",
    "df.groupby(['is_open']).dinner.value_counts().unstack(0).plot.bar(ax=ax3, color = ['red', 'green'])\n",
    "ax3.get_legend().remove()\n",
    "ax3.set_xlabel('Dinner')\n",
    "\n",
    "\n",
    "plt.show()"
   ]
  },
  {
   "cell_type": "code",
   "execution_count": 77,
   "id": "painted-checkout",
   "metadata": {},
   "outputs": [
    {
     "data": {
      "image/png": "[encoded data removed]",
      "text/plain": [
       "<Figure size 720x360 with 2 Axes>"
      ]
     },
     "metadata": {
      "needs_background": "light"
     },
     "output_type": "display_data"
    }
   ],
   "source": [
    "fig = plt.figure(figsize=(10,5))\n",
    "\n",
    "ax4 = fig.add_subplot(121)\n",
    "# plt.xticks(np.arange(2))\n",
    "# df.pivot(columns='is_open').HasTV.plot(kind = 'hist', stacked=True, ax=ax4, color = ['red', 'green'])\n",
    "\n",
    "df.groupby(['is_open']).HasTV.value_counts().unstack(0).plot.bar(ax=ax4, color = ['red', 'green'])\n",
    "ax4.set_xlabel('HasTV')\n",
    "\n",
    "ax5 = fig.add_subplot(122)\n",
    "# plt.xticks(np.arange(2))\n",
    "# df.pivot(columns='is_open').DriveThru.plot(kind = 'hist', stacked=True, ax=ax5, color = ['red', 'green'])\n",
    "\n",
    "df.groupby(['is_open']).DriveThru.value_counts().unstack(0).plot.bar(ax=ax5, color = ['red', 'green'])\n",
    "ax5.set_xlabel('DriveThru')\n",
    "\n",
    "plt.tight_layout()\n",
    "plt.show()"
   ]
  },
  {
   "cell_type": "code",
   "execution_count": 79,
   "id": "reported-release",
   "metadata": {},
   "outputs": [
    {
     "data": {
      "text/plain": [
       "is_open  DriveThru\n",
       "0        0             6444\n",
       "         1               22\n",
       "1        0            16530\n",
       "         1              288\n",
       "Name: DriveThru, dtype: int64"
      ]
     },
     "execution_count": 79,
     "metadata": {},
     "output_type": "execute_result"
    }
   ],
   "source": [
    "df.groupby(['is_open']).DriveThru.value_counts()"
   ]
  },
  {
   "cell_type": "code",
   "execution_count": null,
   "id": "bridal-oasis",
   "metadata": {},
   "outputs": [],
   "source": []
  }
 ],
 "metadata": {
  "kernelspec": {
   "display_name": "Python 3",
   "language": "python",
   "name": "python3"
  },
  "language_info": {
   "codemirror_mode": {
    "name": "ipython",
    "version": 3
   },
   "file_extension": ".py",
   "mimetype": "text/x-python",
   "name": "python",
   "nbconvert_exporter": "python",
   "pygments_lexer": "ipython3",
   "version": "3.8.5"
  }
 },
 "nbformat": 4,
 "nbformat_minor": 5
}
