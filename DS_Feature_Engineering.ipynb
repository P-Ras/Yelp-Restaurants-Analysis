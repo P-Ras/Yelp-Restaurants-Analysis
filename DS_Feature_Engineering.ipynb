{
 "cells": [
  {
   "cell_type": "code",
   "execution_count": 1,
   "id": "hawaiian-evening",
   "metadata": {},
   "outputs": [],
   "source": [
    "import pandas as pd\n",
    "import numpy as np\n",
    "import matplotlib.pyplot as plt\n",
    "import scipy.stats as ss\n",
    "import math\n",
    "from collections import Counter\n",
    "from sklearn.preprocessing import LabelEncoder\n",
    "import ast"
   ]
  },
  {
   "cell_type": "code",
   "execution_count": 2,
   "id": "smoking-geology",
   "metadata": {},
   "outputs": [],
   "source": [
    "def label_encode(df_column):\n",
    "    encoder = LabelEncoder()\n",
    "    encoded_column = encoder.fit_transform(df_column)\n",
    "    return encoded_column"
   ]
  },
  {
   "cell_type": "code",
   "execution_count": 3,
   "id": "foster-distinction",
   "metadata": {},
   "outputs": [],
   "source": [
    "def get_column_info(df_column):\n",
    "    print('Value Count: ')\n",
    "    print(df_column.value_counts())\n",
    "    print('Number of missing values ', df_column.isnull().sum())"
   ]
  },
  {
   "cell_type": "code",
   "execution_count": 4,
   "id": "driven-venture",
   "metadata": {},
   "outputs": [],
   "source": [
    "def literal_return(val):\n",
    "    try:\n",
    "        return ast.literal_eval(val)\n",
    "    except (ValueError, SyntaxError) as e:\n",
    "        return val"
   ]
  },
  {
   "cell_type": "code",
   "execution_count": 5,
   "id": "blind-chamber",
   "metadata": {},
   "outputs": [
    {
     "name": "stderr",
     "output_type": "stream",
     "text": [
      "/Users/TinyJiew/opt/anaconda3/envs/learnPython/lib/python3.8/site-packages/IPython/core/interactiveshell.py:3146: DtypeWarning: Columns (35) have mixed types.Specify dtype option on import or set low_memory=False.\n",
      "  has_raised = await self.run_ast_nodes(code_ast.body, cell_name,\n"
     ]
    }
   ],
   "source": [
    "df = pd.read_csv('./yelp_dataset/resturants_feature.csv')"
   ]
  },
  {
   "cell_type": "code",
   "execution_count": 6,
   "id": "hazardous-blame",
   "metadata": {},
   "outputs": [
    {
     "data": {
      "text/html": [
       "<div>\n",
       "<style scoped>\n",
       "    .dataframe tbody tr th:only-of-type {\n",
       "        vertical-align: middle;\n",
       "    }\n",
       "\n",
       "    .dataframe tbody tr th {\n",
       "        vertical-align: top;\n",
       "    }\n",
       "\n",
       "    .dataframe thead th {\n",
       "        text-align: right;\n",
       "    }\n",
       "</style>\n",
       "<table border=\"1\" class=\"dataframe\">\n",
       "  <thead>\n",
       "    <tr style=\"text-align: right;\">\n",
       "      <th></th>\n",
       "      <th>business_id</th>\n",
       "      <th>name</th>\n",
       "      <th>city</th>\n",
       "      <th>state</th>\n",
       "      <th>stars</th>\n",
       "      <th>review_count</th>\n",
       "      <th>is_open</th>\n",
       "      <th>Cursine</th>\n",
       "      <th>BusinessAcceptsBitcoin</th>\n",
       "      <th>OutdoorSeating</th>\n",
       "      <th>...</th>\n",
       "      <th>DietaryRestrictions</th>\n",
       "      <th>RestaurantsPriceRange2</th>\n",
       "      <th>NoiseLevel</th>\n",
       "      <th>DriveThru</th>\n",
       "      <th>AcceptsInsurance</th>\n",
       "      <th>ByAppointmentOnly</th>\n",
       "      <th>RestaurantsAttire</th>\n",
       "      <th>Music</th>\n",
       "      <th>open_weekend</th>\n",
       "      <th>open_count</th>\n",
       "    </tr>\n",
       "  </thead>\n",
       "  <tbody>\n",
       "    <tr>\n",
       "      <th>0</th>\n",
       "      <td>pQeaRpvuhoEqudo3uymHIQ</td>\n",
       "      <td>The Empanadas House</td>\n",
       "      <td>Champaign</td>\n",
       "      <td>IL</td>\n",
       "      <td>4.5</td>\n",
       "      <td>5</td>\n",
       "      <td>1</td>\n",
       "      <td>Argentine</td>\n",
       "      <td>NaN</td>\n",
       "      <td>False</td>\n",
       "      <td>...</td>\n",
       "      <td>NaN</td>\n",
       "      <td>1</td>\n",
       "      <td>u'quiet'</td>\n",
       "      <td>NaN</td>\n",
       "      <td>NaN</td>\n",
       "      <td>False</td>\n",
       "      <td>u'casual'</td>\n",
       "      <td>NaN</td>\n",
       "      <td>False</td>\n",
       "      <td>244</td>\n",
       "    </tr>\n",
       "    <tr>\n",
       "      <th>1</th>\n",
       "      <td>-LfTBo0oa_uD454ScEW2XA</td>\n",
       "      <td>Merry Ann's Diner</td>\n",
       "      <td>Champaign</td>\n",
       "      <td>IL</td>\n",
       "      <td>3.0</td>\n",
       "      <td>47</td>\n",
       "      <td>0</td>\n",
       "      <td>American (Traditional)</td>\n",
       "      <td>NaN</td>\n",
       "      <td>False</td>\n",
       "      <td>...</td>\n",
       "      <td>NaN</td>\n",
       "      <td>1</td>\n",
       "      <td>u'loud'</td>\n",
       "      <td>NaN</td>\n",
       "      <td>NaN</td>\n",
       "      <td>NaN</td>\n",
       "      <td>'casual'</td>\n",
       "      <td>NaN</td>\n",
       "      <td>True</td>\n",
       "      <td>244</td>\n",
       "    </tr>\n",
       "    <tr>\n",
       "      <th>2</th>\n",
       "      <td>Z7r_FJXEyfyvVsyv2y7gFQ</td>\n",
       "      <td>Cactus Grill</td>\n",
       "      <td>Champaign</td>\n",
       "      <td>IL</td>\n",
       "      <td>4.0</td>\n",
       "      <td>60</td>\n",
       "      <td>1</td>\n",
       "      <td>Mexican</td>\n",
       "      <td>NaN</td>\n",
       "      <td>False</td>\n",
       "      <td>...</td>\n",
       "      <td>NaN</td>\n",
       "      <td>1</td>\n",
       "      <td>u'average'</td>\n",
       "      <td>NaN</td>\n",
       "      <td>NaN</td>\n",
       "      <td>NaN</td>\n",
       "      <td>u'casual'</td>\n",
       "      <td>NaN</td>\n",
       "      <td>True</td>\n",
       "      <td>244</td>\n",
       "    </tr>\n",
       "    <tr>\n",
       "      <th>3</th>\n",
       "      <td>VHsNB3pdGVcRgs6C3jt6Zg</td>\n",
       "      <td>Dublin O'Neil's</td>\n",
       "      <td>Champaign</td>\n",
       "      <td>IL</td>\n",
       "      <td>3.5</td>\n",
       "      <td>130</td>\n",
       "      <td>0</td>\n",
       "      <td>Irish</td>\n",
       "      <td>NaN</td>\n",
       "      <td>True</td>\n",
       "      <td>...</td>\n",
       "      <td>NaN</td>\n",
       "      <td>2</td>\n",
       "      <td>u'average'</td>\n",
       "      <td>NaN</td>\n",
       "      <td>NaN</td>\n",
       "      <td>NaN</td>\n",
       "      <td>u'casual'</td>\n",
       "      <td>NaN</td>\n",
       "      <td>True</td>\n",
       "      <td>244</td>\n",
       "    </tr>\n",
       "    <tr>\n",
       "      <th>4</th>\n",
       "      <td>ZMcbVIEXsLO7j1Q1GXKPSw</td>\n",
       "      <td>A-Ri-Rang</td>\n",
       "      <td>Champaign</td>\n",
       "      <td>IL</td>\n",
       "      <td>4.0</td>\n",
       "      <td>60</td>\n",
       "      <td>1</td>\n",
       "      <td>Korean</td>\n",
       "      <td>NaN</td>\n",
       "      <td>False</td>\n",
       "      <td>...</td>\n",
       "      <td>NaN</td>\n",
       "      <td>1</td>\n",
       "      <td>u'average'</td>\n",
       "      <td>NaN</td>\n",
       "      <td>NaN</td>\n",
       "      <td>NaN</td>\n",
       "      <td>'casual'</td>\n",
       "      <td>NaN</td>\n",
       "      <td>True</td>\n",
       "      <td>244</td>\n",
       "    </tr>\n",
       "  </tbody>\n",
       "</table>\n",
       "<p>5 rows × 49 columns</p>\n",
       "</div>"
      ],
      "text/plain": [
       "              business_id                 name       city state  stars  \\\n",
       "0  pQeaRpvuhoEqudo3uymHIQ  The Empanadas House  Champaign    IL    4.5   \n",
       "1  -LfTBo0oa_uD454ScEW2XA    Merry Ann's Diner  Champaign    IL    3.0   \n",
       "2  Z7r_FJXEyfyvVsyv2y7gFQ         Cactus Grill  Champaign    IL    4.0   \n",
       "3  VHsNB3pdGVcRgs6C3jt6Zg      Dublin O'Neil's  Champaign    IL    3.5   \n",
       "4  ZMcbVIEXsLO7j1Q1GXKPSw            A-Ri-Rang  Champaign    IL    4.0   \n",
       "\n",
       "   review_count  is_open                 Cursine BusinessAcceptsBitcoin  \\\n",
       "0             5        1               Argentine                    NaN   \n",
       "1            47        0  American (Traditional)                    NaN   \n",
       "2            60        1                 Mexican                    NaN   \n",
       "3           130        0                   Irish                    NaN   \n",
       "4            60        1                  Korean                    NaN   \n",
       "\n",
       "  OutdoorSeating  ... DietaryRestrictions RestaurantsPriceRange2  NoiseLevel  \\\n",
       "0          False  ...                 NaN                      1    u'quiet'   \n",
       "1          False  ...                 NaN                      1     u'loud'   \n",
       "2          False  ...                 NaN                      1  u'average'   \n",
       "3           True  ...                 NaN                      2  u'average'   \n",
       "4          False  ...                 NaN                      1  u'average'   \n",
       "\n",
       "  DriveThru AcceptsInsurance ByAppointmentOnly RestaurantsAttire Music  \\\n",
       "0       NaN              NaN             False         u'casual'   NaN   \n",
       "1       NaN              NaN               NaN          'casual'   NaN   \n",
       "2       NaN              NaN               NaN         u'casual'   NaN   \n",
       "3       NaN              NaN               NaN         u'casual'   NaN   \n",
       "4       NaN              NaN               NaN          'casual'   NaN   \n",
       "\n",
       "  open_weekend open_count  \n",
       "0        False        244  \n",
       "1         True        244  \n",
       "2         True        244  \n",
       "3         True        244  \n",
       "4         True        244  \n",
       "\n",
       "[5 rows x 49 columns]"
      ]
     },
     "execution_count": 6,
     "metadata": {},
     "output_type": "execute_result"
    }
   ],
   "source": [
    "df.head()"
   ]
  },
  {
   "cell_type": "code",
   "execution_count": 7,
   "id": "annoying-samuel",
   "metadata": {},
   "outputs": [
    {
     "data": {
      "text/plain": [
       "(31839, 49)"
      ]
     },
     "execution_count": 7,
     "metadata": {},
     "output_type": "execute_result"
    }
   ],
   "source": [
    "df.shape"
   ]
  },
  {
   "cell_type": "code",
   "execution_count": 8,
   "id": "young-debate",
   "metadata": {},
   "outputs": [
    {
     "data": {
      "text/plain": [
       "Index(['business_id', 'name', 'city', 'state', 'stars', 'review_count',\n",
       "       'is_open', 'Cursine', 'BusinessAcceptsBitcoin', 'OutdoorSeating',\n",
       "       'GoodForMeal', 'Smoking', 'BYOBCorkage', 'BikeParking', 'WiFi',\n",
       "       'BusinessParking', 'BestNights', 'Ambience', 'Caters', 'GoodForDancing',\n",
       "       'RestaurantsGoodForGroups', 'Open24Hours', 'Alcohol',\n",
       "       'RestaurantsTableService', 'BYOB', 'AgesAllowed', 'HasTV',\n",
       "       'RestaurantsTakeOut', 'DogsAllowed', 'HappyHour',\n",
       "       'RestaurantsReservations', 'BusinessAcceptsCreditCards',\n",
       "       'RestaurantsCounterService', 'RestaurantsDelivery', 'Corkage',\n",
       "       'HairSpecializesIn', 'CoatCheck', 'WheelchairAccessible', 'GoodForKids',\n",
       "       'DietaryRestrictions', 'RestaurantsPriceRange2', 'NoiseLevel',\n",
       "       'DriveThru', 'AcceptsInsurance', 'ByAppointmentOnly',\n",
       "       'RestaurantsAttire', 'Music', 'open_weekend', 'open_count'],\n",
       "      dtype='object')"
      ]
     },
     "execution_count": 8,
     "metadata": {},
     "output_type": "execute_result"
    }
   ],
   "source": [
    "df.columns"
   ]
  },
  {
   "cell_type": "code",
   "execution_count": 9,
   "id": "single-cause",
   "metadata": {},
   "outputs": [
    {
     "data": {
      "text/plain": [
       "4.0    8839\n",
       "3.5    8282\n",
       "3.0    5561\n",
       "4.5    4199\n",
       "2.5    2674\n",
       "2.0    1226\n",
       "5.0     625\n",
       "1.5     333\n",
       "1.0     100\n",
       "Name: stars, dtype: int64"
      ]
     },
     "execution_count": 9,
     "metadata": {},
     "output_type": "execute_result"
    }
   ],
   "source": [
    "#hist plot how many resturants by review star\n",
    "df.stars.value_counts()"
   ]
  },
  {
   "cell_type": "code",
   "execution_count": 10,
   "id": "light-hughes",
   "metadata": {},
   "outputs": [
    {
     "data": {
      "text/plain": [
       "<AxesSubplot:>"
      ]
     },
     "execution_count": 10,
     "metadata": {},
     "output_type": "execute_result"
    },
    {
     "data": {
      "image/png": "[encoded data removed]",
      "text/plain": [
       "<Figure size 432x288 with 1 Axes>"
      ]
     },
     "metadata": {
      "needs_background": "light"
     },
     "output_type": "display_data"
    }
   ],
   "source": [
    "df.stars.hist()"
   ]
  },
  {
   "cell_type": "code",
   "execution_count": 11,
   "id": "grand-helping",
   "metadata": {},
   "outputs": [
    {
     "data": {
      "text/plain": [
       "Toronto            4328\n",
       "Las Vegas          3760\n",
       "Phoenix            2129\n",
       "Montréal           1890\n",
       "Charlotte          1507\n",
       "                   ... \n",
       "Sturgeon              1\n",
       "Mooers                1\n",
       "Iberville             1\n",
       "Peters Township       1\n",
       "Sheboygan             1\n",
       "Name: city, Length: 555, dtype: int64"
      ]
     },
     "execution_count": 11,
     "metadata": {},
     "output_type": "execute_result"
    }
   ],
   "source": [
    "#There are 555 cities\n",
    "df.city.value_counts()"
   ]
  },
  {
   "cell_type": "code",
   "execution_count": 12,
   "id": "collaborative-rabbit",
   "metadata": {},
   "outputs": [
    {
     "data": {
      "text/plain": [
       "ON    8160\n",
       "AZ    6368\n",
       "NV    4482\n",
       "OH    2763\n",
       "QC    2705\n",
       "NC    2350\n",
       "PA    2041\n",
       "AB    1526\n",
       "WI     915\n",
       "IL     320\n",
       "SC     192\n",
       "NY       5\n",
       "TX       3\n",
       "CO       2\n",
       "FL       1\n",
       "MB       1\n",
       "OR       1\n",
       "CA       1\n",
       "VA       1\n",
       "VT       1\n",
       "HI       1\n",
       "Name: state, dtype: int64"
      ]
     },
     "execution_count": 12,
     "metadata": {},
     "output_type": "execute_result"
    }
   ],
   "source": [
    "df.state.value_counts()"
   ]
  },
  {
   "cell_type": "markdown",
   "id": "delayed-renewal",
   "metadata": {},
   "source": [
    "# Feature Analysis"
   ]
  },
  {
   "cell_type": "code",
   "execution_count": 13,
   "id": "level-nickel",
   "metadata": {},
   "outputs": [
    {
     "name": "stdout",
     "output_type": "stream",
     "text": [
      "Value Count: \n",
      "{'straightperms': True, 'coloring': True, 'extensions': True, 'africanamerican': True, 'curly': True, 'kids': True, 'perms': True, 'asian': True}    1\n",
      "Name: HairSpecializesIn, dtype: int64\n",
      "Number of missing values  31838\n"
     ]
    }
   ],
   "source": [
    "get_column_info(df.HairSpecializesIn)"
   ]
  },
  {
   "cell_type": "code",
   "execution_count": 14,
   "id": "extraordinary-justice",
   "metadata": {},
   "outputs": [
    {
     "data": {
      "text/html": [
       "<div>\n",
       "<style scoped>\n",
       "    .dataframe tbody tr th:only-of-type {\n",
       "        vertical-align: middle;\n",
       "    }\n",
       "\n",
       "    .dataframe tbody tr th {\n",
       "        vertical-align: top;\n",
       "    }\n",
       "\n",
       "    .dataframe thead th {\n",
       "        text-align: right;\n",
       "    }\n",
       "</style>\n",
       "<table border=\"1\" class=\"dataframe\">\n",
       "  <thead>\n",
       "    <tr style=\"text-align: right;\">\n",
       "      <th></th>\n",
       "      <th>business_id</th>\n",
       "      <th>name</th>\n",
       "      <th>city</th>\n",
       "      <th>state</th>\n",
       "      <th>stars</th>\n",
       "      <th>review_count</th>\n",
       "      <th>is_open</th>\n",
       "      <th>Cursine</th>\n",
       "      <th>BusinessAcceptsBitcoin</th>\n",
       "      <th>OutdoorSeating</th>\n",
       "      <th>...</th>\n",
       "      <th>DietaryRestrictions</th>\n",
       "      <th>RestaurantsPriceRange2</th>\n",
       "      <th>NoiseLevel</th>\n",
       "      <th>DriveThru</th>\n",
       "      <th>AcceptsInsurance</th>\n",
       "      <th>ByAppointmentOnly</th>\n",
       "      <th>RestaurantsAttire</th>\n",
       "      <th>Music</th>\n",
       "      <th>open_weekend</th>\n",
       "      <th>open_count</th>\n",
       "    </tr>\n",
       "  </thead>\n",
       "  <tbody>\n",
       "    <tr>\n",
       "      <th>6621</th>\n",
       "      <td>8d8Q3ZhAJwzdfxdj-mFmqQ</td>\n",
       "      <td>Naty Dominican Hair Stylist</td>\n",
       "      <td>Charlotte</td>\n",
       "      <td>NC</td>\n",
       "      <td>4.0</td>\n",
       "      <td>25</td>\n",
       "      <td>1</td>\n",
       "      <td>Dominican</td>\n",
       "      <td>NaN</td>\n",
       "      <td>NaN</td>\n",
       "      <td>...</td>\n",
       "      <td>NaN</td>\n",
       "      <td>1</td>\n",
       "      <td>NaN</td>\n",
       "      <td>NaN</td>\n",
       "      <td>NaN</td>\n",
       "      <td>False</td>\n",
       "      <td>NaN</td>\n",
       "      <td>NaN</td>\n",
       "      <td>True</td>\n",
       "      <td>1788</td>\n",
       "    </tr>\n",
       "  </tbody>\n",
       "</table>\n",
       "<p>1 rows × 49 columns</p>\n",
       "</div>"
      ],
      "text/plain": [
       "                 business_id                         name       city state  \\\n",
       "6621  8d8Q3ZhAJwzdfxdj-mFmqQ  Naty Dominican Hair Stylist  Charlotte    NC   \n",
       "\n",
       "      stars  review_count  is_open    Cursine BusinessAcceptsBitcoin  \\\n",
       "6621    4.0            25        1  Dominican                    NaN   \n",
       "\n",
       "     OutdoorSeating  ... DietaryRestrictions RestaurantsPriceRange2  \\\n",
       "6621            NaN  ...                 NaN                      1   \n",
       "\n",
       "     NoiseLevel DriveThru AcceptsInsurance ByAppointmentOnly  \\\n",
       "6621        NaN       NaN              NaN             False   \n",
       "\n",
       "     RestaurantsAttire Music open_weekend open_count  \n",
       "6621               NaN   NaN         True       1788  \n",
       "\n",
       "[1 rows x 49 columns]"
      ]
     },
     "execution_count": 14,
     "metadata": {},
     "output_type": "execute_result"
    }
   ],
   "source": [
    "#drop the row and column\n",
    "df[df.HairSpecializesIn.notnull()]"
   ]
  },
  {
   "cell_type": "code",
   "execution_count": 15,
   "id": "reflected-library",
   "metadata": {},
   "outputs": [],
   "source": [
    "df = df.drop(1134)"
   ]
  },
  {
   "cell_type": "code",
   "execution_count": 16,
   "id": "optional-application",
   "metadata": {},
   "outputs": [
    {
     "data": {
      "text/plain": [
       "(31838, 48)"
      ]
     },
     "execution_count": 16,
     "metadata": {},
     "output_type": "execute_result"
    }
   ],
   "source": [
    "df.drop('HairSpecializesIn', axis=1, inplace=True)\n",
    "df.shape"
   ]
  },
  {
   "cell_type": "code",
   "execution_count": 17,
   "id": "subsequent-decade",
   "metadata": {},
   "outputs": [
    {
     "name": "stdout",
     "output_type": "stream",
     "text": [
      "Value Count: \n",
      "True     3\n",
      "False    1\n",
      "Name: AcceptsInsurance, dtype: int64\n",
      "Number of missing values  31834\n"
     ]
    }
   ],
   "source": [
    "get_column_info(df.AcceptsInsurance)"
   ]
  },
  {
   "cell_type": "code",
   "execution_count": 18,
   "id": "informal-freedom",
   "metadata": {},
   "outputs": [
    {
     "data": {
      "text/html": [
       "<div>\n",
       "<style scoped>\n",
       "    .dataframe tbody tr th:only-of-type {\n",
       "        vertical-align: middle;\n",
       "    }\n",
       "\n",
       "    .dataframe tbody tr th {\n",
       "        vertical-align: top;\n",
       "    }\n",
       "\n",
       "    .dataframe thead th {\n",
       "        text-align: right;\n",
       "    }\n",
       "</style>\n",
       "<table border=\"1\" class=\"dataframe\">\n",
       "  <thead>\n",
       "    <tr style=\"text-align: right;\">\n",
       "      <th></th>\n",
       "      <th>business_id</th>\n",
       "      <th>name</th>\n",
       "      <th>city</th>\n",
       "      <th>state</th>\n",
       "      <th>stars</th>\n",
       "      <th>review_count</th>\n",
       "      <th>is_open</th>\n",
       "      <th>Cursine</th>\n",
       "      <th>BusinessAcceptsBitcoin</th>\n",
       "      <th>OutdoorSeating</th>\n",
       "      <th>...</th>\n",
       "      <th>DietaryRestrictions</th>\n",
       "      <th>RestaurantsPriceRange2</th>\n",
       "      <th>NoiseLevel</th>\n",
       "      <th>DriveThru</th>\n",
       "      <th>AcceptsInsurance</th>\n",
       "      <th>ByAppointmentOnly</th>\n",
       "      <th>RestaurantsAttire</th>\n",
       "      <th>Music</th>\n",
       "      <th>open_weekend</th>\n",
       "      <th>open_count</th>\n",
       "    </tr>\n",
       "  </thead>\n",
       "  <tbody>\n",
       "    <tr>\n",
       "      <th>6290</th>\n",
       "      <td>I3Saf0s5ybDKprYPPNWqtA</td>\n",
       "      <td>Urbana Spa</td>\n",
       "      <td>Charlotte</td>\n",
       "      <td>NC</td>\n",
       "      <td>4.0</td>\n",
       "      <td>86</td>\n",
       "      <td>1</td>\n",
       "      <td>American (New)</td>\n",
       "      <td>NaN</td>\n",
       "      <td>False</td>\n",
       "      <td>...</td>\n",
       "      <td>NaN</td>\n",
       "      <td>3</td>\n",
       "      <td>u'quiet'</td>\n",
       "      <td>NaN</td>\n",
       "      <td>True</td>\n",
       "      <td>True</td>\n",
       "      <td>NaN</td>\n",
       "      <td>NaN</td>\n",
       "      <td>True</td>\n",
       "      <td>1788</td>\n",
       "    </tr>\n",
       "    <tr>\n",
       "      <th>9791</th>\n",
       "      <td>wqmyI0jPBAhcUcdNKr-09A</td>\n",
       "      <td>Spa My Blends by Clarins</td>\n",
       "      <td>Toronto</td>\n",
       "      <td>ON</td>\n",
       "      <td>4.5</td>\n",
       "      <td>34</td>\n",
       "      <td>1</td>\n",
       "      <td>British</td>\n",
       "      <td>NaN</td>\n",
       "      <td>NaN</td>\n",
       "      <td>...</td>\n",
       "      <td>NaN</td>\n",
       "      <td>3</td>\n",
       "      <td>u'quiet'</td>\n",
       "      <td>NaN</td>\n",
       "      <td>True</td>\n",
       "      <td>True</td>\n",
       "      <td>NaN</td>\n",
       "      <td>NaN</td>\n",
       "      <td>True</td>\n",
       "      <td>4385</td>\n",
       "    </tr>\n",
       "    <tr>\n",
       "      <th>16940</th>\n",
       "      <td>KlLCJN_KUP9xFQBJYrhgVg</td>\n",
       "      <td>Phoenix Children’s Hospital</td>\n",
       "      <td>Phoenix</td>\n",
       "      <td>AZ</td>\n",
       "      <td>3.0</td>\n",
       "      <td>195</td>\n",
       "      <td>1</td>\n",
       "      <td>Mediterranean</td>\n",
       "      <td>NaN</td>\n",
       "      <td>False</td>\n",
       "      <td>...</td>\n",
       "      <td>NaN</td>\n",
       "      <td>2</td>\n",
       "      <td>u'average'</td>\n",
       "      <td>NaN</td>\n",
       "      <td>True</td>\n",
       "      <td>False</td>\n",
       "      <td>u'casual'</td>\n",
       "      <td>NaN</td>\n",
       "      <td>True</td>\n",
       "      <td>2420</td>\n",
       "    </tr>\n",
       "  </tbody>\n",
       "</table>\n",
       "<p>3 rows × 48 columns</p>\n",
       "</div>"
      ],
      "text/plain": [
       "                  business_id                         name       city state  \\\n",
       "6290   I3Saf0s5ybDKprYPPNWqtA                   Urbana Spa  Charlotte    NC   \n",
       "9791   wqmyI0jPBAhcUcdNKr-09A     Spa My Blends by Clarins    Toronto    ON   \n",
       "16940  KlLCJN_KUP9xFQBJYrhgVg  Phoenix Children’s Hospital    Phoenix    AZ   \n",
       "\n",
       "       stars  review_count  is_open         Cursine BusinessAcceptsBitcoin  \\\n",
       "6290     4.0            86        1  American (New)                    NaN   \n",
       "9791     4.5            34        1         British                    NaN   \n",
       "16940    3.0           195        1   Mediterranean                    NaN   \n",
       "\n",
       "      OutdoorSeating  ... DietaryRestrictions RestaurantsPriceRange2  \\\n",
       "6290           False  ...                 NaN                      3   \n",
       "9791             NaN  ...                 NaN                      3   \n",
       "16940          False  ...                 NaN                      2   \n",
       "\n",
       "       NoiseLevel DriveThru AcceptsInsurance ByAppointmentOnly  \\\n",
       "6290     u'quiet'       NaN             True              True   \n",
       "9791     u'quiet'       NaN             True              True   \n",
       "16940  u'average'       NaN             True             False   \n",
       "\n",
       "      RestaurantsAttire Music open_weekend open_count  \n",
       "6290                NaN   NaN         True       1788  \n",
       "9791                NaN   NaN         True       4385  \n",
       "16940         u'casual'   NaN         True       2420  \n",
       "\n",
       "[3 rows x 48 columns]"
      ]
     },
     "execution_count": 18,
     "metadata": {},
     "output_type": "execute_result"
    }
   ],
   "source": [
    "#drop the row with True\n",
    "df[df.AcceptsInsurance == True]"
   ]
  },
  {
   "cell_type": "code",
   "execution_count": 19,
   "id": "featured-graphics",
   "metadata": {},
   "outputs": [],
   "source": [
    "#extra HairSpecializesIn, AcceptsInsurance\n",
    "df = df.drop([6290, 9791, 16940])"
   ]
  },
  {
   "cell_type": "code",
   "execution_count": 20,
   "id": "introductory-character",
   "metadata": {},
   "outputs": [
    {
     "data": {
      "text/plain": [
       "(31835, 47)"
      ]
     },
     "execution_count": 20,
     "metadata": {},
     "output_type": "execute_result"
    }
   ],
   "source": [
    "df.drop('AcceptsInsurance', axis=1, inplace=True)\n",
    "df.shape"
   ]
  },
  {
   "cell_type": "code",
   "execution_count": 21,
   "id": "nearby-vacation",
   "metadata": {},
   "outputs": [
    {
     "name": "stdout",
     "output_type": "stream",
     "text": [
      "Value Count: \n",
      "True     7\n",
      "False    3\n",
      "Name: RestaurantsCounterService, dtype: int64\n",
      "Number of missing values  31825\n"
     ]
    }
   ],
   "source": [
    "get_column_info(df.RestaurantsCounterService)"
   ]
  },
  {
   "cell_type": "code",
   "execution_count": 22,
   "id": "shared-budget",
   "metadata": {},
   "outputs": [
    {
     "name": "stdout",
     "output_type": "stream",
     "text": [
      "Value Count: \n",
      "False    17249\n",
      "True     11242\n",
      "None       461\n",
      "Name: RestaurantsDelivery, dtype: int64\n",
      "Number of missing values  2883\n"
     ]
    }
   ],
   "source": [
    "get_column_info(df.RestaurantsDelivery)"
   ]
  },
  {
   "cell_type": "code",
   "execution_count": 23,
   "id": "every-insider",
   "metadata": {},
   "outputs": [
    {
     "name": "stdout",
     "output_type": "stream",
     "text": [
      "Value Count: \n",
      "False    20593\n",
      "True     11242\n",
      "Name: RestaurantsDelivery, dtype: int64\n",
      "Number of missing values  0\n"
     ]
    }
   ],
   "source": [
    "#Change none and null value to False\n",
    "df.RestaurantsDelivery.fillna('False', inplace = True)\n",
    "df.loc[df.RestaurantsDelivery == 'None', 'RestaurantsDelivery'] = 'False'\n",
    "get_column_info(df.RestaurantsDelivery)"
   ]
  },
  {
   "cell_type": "code",
   "execution_count": 24,
   "id": "outside-valuation",
   "metadata": {},
   "outputs": [
    {
     "name": "stdout",
     "output_type": "stream",
     "text": [
      "Value Count: \n",
      "0    20593\n",
      "1    11242\n",
      "Name: RestaurantsDelivery, dtype: int64\n",
      "Number of missing values  0\n"
     ]
    }
   ],
   "source": [
    "#change to labelencoder\n",
    "df.RestaurantsDelivery = label_encode(df.RestaurantsDelivery)\n",
    "get_column_info(df.RestaurantsDelivery)"
   ]
  },
  {
   "cell_type": "code",
   "execution_count": 25,
   "id": "quarterly-survival",
   "metadata": {},
   "outputs": [
    {
     "name": "stdout",
     "output_type": "stream",
     "text": [
      "Value Count: \n",
      "u'21plus'     15\n",
      "u'allages'     6\n",
      "u'19plus'      2\n",
      "u'18plus'      1\n",
      "Name: AgesAllowed, dtype: int64\n",
      "Number of missing values  31811\n"
     ]
    }
   ],
   "source": [
    "get_column_info(df.AgesAllowed)"
   ]
  },
  {
   "cell_type": "code",
   "execution_count": 26,
   "id": "outside-trance",
   "metadata": {},
   "outputs": [
    {
     "name": "stdout",
     "output_type": "stream",
     "text": [
      "Value Count: \n",
      "allages      31811\n",
      "'21plus'        15\n",
      "'allages'        6\n",
      "'19plus'         2\n",
      "'18plus'         1\n",
      "Name: AgesAllowed, dtype: int64\n",
      "Number of missing values  0\n"
     ]
    }
   ],
   "source": [
    "#assume that if it doesnot specifiy - means that all ages can enter\n",
    "#however, let remove first character u from all values\n",
    "df.AgesAllowed = df.AgesAllowed.str[1:]\n",
    "df.AgesAllowed.fillna('allages', inplace = True)\n",
    "\n",
    "get_column_info(df.AgesAllowed)"
   ]
  },
  {
   "cell_type": "code",
   "execution_count": 27,
   "id": "verified-caution",
   "metadata": {},
   "outputs": [
    {
     "name": "stdout",
     "output_type": "stream",
     "text": [
      "Value Count: \n",
      "4    31811\n",
      "2       15\n",
      "3        6\n",
      "1        2\n",
      "0        1\n",
      "Name: AgesAllowed, dtype: int64\n",
      "Number of missing values  0\n"
     ]
    }
   ],
   "source": [
    "df.AgesAllowed = label_encode(df.AgesAllowed)\n",
    "get_column_info(df.AgesAllowed)"
   ]
  },
  {
   "cell_type": "code",
   "execution_count": 28,
   "id": "numeric-metabolism",
   "metadata": {},
   "outputs": [
    {
     "name": "stdout",
     "output_type": "stream",
     "text": [
      "Value Count: \n",
      "True     25656\n",
      "False     2787\n",
      "None        15\n",
      "Name: RestaurantsGoodForGroups, dtype: int64\n",
      "Number of missing values  3377\n"
     ]
    }
   ],
   "source": [
    "get_column_info(df.RestaurantsGoodForGroups)"
   ]
  },
  {
   "cell_type": "code",
   "execution_count": 29,
   "id": "likely-torture",
   "metadata": {},
   "outputs": [],
   "source": [
    "df.RestaurantsGoodForGroups.fillna('True', inplace = True)\n",
    "df.loc[df.RestaurantsGoodForGroups == 'None', 'RestaurantsGoodForGroups'] = 'True'"
   ]
  },
  {
   "cell_type": "code",
   "execution_count": 30,
   "id": "arranged-scope",
   "metadata": {},
   "outputs": [
    {
     "name": "stdout",
     "output_type": "stream",
     "text": [
      "Value Count: \n",
      "1    29048\n",
      "0     2787\n",
      "Name: RestaurantsGoodForGroups, dtype: int64\n",
      "Number of missing values  0\n"
     ]
    }
   ],
   "source": [
    "df.RestaurantsGoodForGroups = label_encode(df.RestaurantsGoodForGroups)\n",
    "get_column_info(df.RestaurantsGoodForGroups)"
   ]
  },
  {
   "cell_type": "code",
   "execution_count": 31,
   "id": "pressing-certificate",
   "metadata": {},
   "outputs": [
    {
     "name": "stdout",
     "output_type": "stream",
     "text": [
      "Value Count: \n",
      "True     6649\n",
      "False    1007\n",
      "None        8\n",
      "Name: WheelchairAccessible, dtype: int64\n",
      "Number of missing values  24171\n"
     ]
    }
   ],
   "source": [
    "get_column_info(df.WheelchairAccessible)"
   ]
  },
  {
   "cell_type": "code",
   "execution_count": 32,
   "id": "innovative-surgeon",
   "metadata": {},
   "outputs": [
    {
     "name": "stdout",
     "output_type": "stream",
     "text": [
      "Value Count: \n",
      "True     30828\n",
      "False     1007\n",
      "Name: WheelchairAccessible, dtype: int64\n",
      "Number of missing values  0\n"
     ]
    }
   ],
   "source": [
    "#assume that they're not  suiable for wheelchair\n",
    "df.WheelchairAccessible.fillna('True', inplace = True)\n",
    "df.loc[df.WheelchairAccessible == 'None', 'WheelchairAccessible'] = 'True'\n",
    "get_column_info(df.WheelchairAccessible)"
   ]
  },
  {
   "cell_type": "code",
   "execution_count": 33,
   "id": "progressive-homework",
   "metadata": {},
   "outputs": [
    {
     "name": "stdout",
     "output_type": "stream",
     "text": [
      "Value Count: \n",
      "1    30828\n",
      "0     1007\n",
      "Name: WheelchairAccessible, dtype: int64\n",
      "Number of missing values  0\n"
     ]
    }
   ],
   "source": [
    "df.WheelchairAccessible = label_encode(df.WheelchairAccessible)\n",
    "get_column_info(df.WheelchairAccessible)"
   ]
  },
  {
   "cell_type": "code",
   "execution_count": 34,
   "id": "educational-bumper",
   "metadata": {},
   "outputs": [
    {
     "name": "stdout",
     "output_type": "stream",
     "text": [
      "Value Count: \n",
      "2       17321\n",
      "1        9021\n",
      "3        1746\n",
      "4         267\n",
      "None       18\n",
      "Name: RestaurantsPriceRange2, dtype: int64\n",
      "Number of missing values  3462\n"
     ]
    }
   ],
   "source": [
    "get_column_info(df.RestaurantsPriceRange2)"
   ]
  },
  {
   "cell_type": "code",
   "execution_count": 35,
   "id": "national-maryland",
   "metadata": {},
   "outputs": [
    {
     "data": {
      "text/html": [
       "<div>\n",
       "<style scoped>\n",
       "    .dataframe tbody tr th:only-of-type {\n",
       "        vertical-align: middle;\n",
       "    }\n",
       "\n",
       "    .dataframe tbody tr th {\n",
       "        vertical-align: top;\n",
       "    }\n",
       "\n",
       "    .dataframe thead th {\n",
       "        text-align: right;\n",
       "    }\n",
       "</style>\n",
       "<table border=\"1\" class=\"dataframe\">\n",
       "  <thead>\n",
       "    <tr style=\"text-align: right;\">\n",
       "      <th></th>\n",
       "      <th>business_id</th>\n",
       "      <th>name</th>\n",
       "      <th>city</th>\n",
       "      <th>state</th>\n",
       "      <th>stars</th>\n",
       "      <th>review_count</th>\n",
       "      <th>is_open</th>\n",
       "      <th>Cursine</th>\n",
       "      <th>BusinessAcceptsBitcoin</th>\n",
       "      <th>OutdoorSeating</th>\n",
       "      <th>...</th>\n",
       "      <th>GoodForKids</th>\n",
       "      <th>DietaryRestrictions</th>\n",
       "      <th>RestaurantsPriceRange2</th>\n",
       "      <th>NoiseLevel</th>\n",
       "      <th>DriveThru</th>\n",
       "      <th>ByAppointmentOnly</th>\n",
       "      <th>RestaurantsAttire</th>\n",
       "      <th>Music</th>\n",
       "      <th>open_weekend</th>\n",
       "      <th>open_count</th>\n",
       "    </tr>\n",
       "  </thead>\n",
       "  <tbody>\n",
       "    <tr>\n",
       "      <th>248</th>\n",
       "      <td>J5go9hqKOmPy3Y14LizGYQ</td>\n",
       "      <td>Kohinoor Kabob House</td>\n",
       "      <td>Richmond Hill</td>\n",
       "      <td>ON</td>\n",
       "      <td>2.5</td>\n",
       "      <td>6</td>\n",
       "      <td>1</td>\n",
       "      <td>Pakistani</td>\n",
       "      <td>NaN</td>\n",
       "      <td>False</td>\n",
       "      <td>...</td>\n",
       "      <td>True</td>\n",
       "      <td>NaN</td>\n",
       "      <td>4</td>\n",
       "      <td>u'average'</td>\n",
       "      <td>NaN</td>\n",
       "      <td>NaN</td>\n",
       "      <td>'casual'</td>\n",
       "      <td>NaN</td>\n",
       "      <td>True</td>\n",
       "      <td>296</td>\n",
       "    </tr>\n",
       "    <tr>\n",
       "      <th>261</th>\n",
       "      <td>h8zFBTYBKSwDFcHuFgwpmQ</td>\n",
       "      <td>Day &amp; Night Angus Beef Hot Pot</td>\n",
       "      <td>Richmond Hill</td>\n",
       "      <td>ON</td>\n",
       "      <td>3.5</td>\n",
       "      <td>42</td>\n",
       "      <td>0</td>\n",
       "      <td>Chinese</td>\n",
       "      <td>NaN</td>\n",
       "      <td>False</td>\n",
       "      <td>...</td>\n",
       "      <td>True</td>\n",
       "      <td>NaN</td>\n",
       "      <td>4</td>\n",
       "      <td>u'average'</td>\n",
       "      <td>NaN</td>\n",
       "      <td>NaN</td>\n",
       "      <td>'casual'</td>\n",
       "      <td>NaN</td>\n",
       "      <td>True</td>\n",
       "      <td>296</td>\n",
       "    </tr>\n",
       "    <tr>\n",
       "      <th>459</th>\n",
       "      <td>tZtKBCfUJaS7l79fuK1Ozw</td>\n",
       "      <td>Captain S</td>\n",
       "      <td>Richmond Hill</td>\n",
       "      <td>ON</td>\n",
       "      <td>3.0</td>\n",
       "      <td>5</td>\n",
       "      <td>0</td>\n",
       "      <td>Japanese</td>\n",
       "      <td>NaN</td>\n",
       "      <td>NaN</td>\n",
       "      <td>...</td>\n",
       "      <td>True</td>\n",
       "      <td>NaN</td>\n",
       "      <td>4</td>\n",
       "      <td>NaN</td>\n",
       "      <td>NaN</td>\n",
       "      <td>NaN</td>\n",
       "      <td>'casual'</td>\n",
       "      <td>NaN</td>\n",
       "      <td>True</td>\n",
       "      <td>296</td>\n",
       "    </tr>\n",
       "    <tr>\n",
       "      <th>472</th>\n",
       "      <td>nFcS1gSkaAPSJB8jXZXlOw</td>\n",
       "      <td>Crab Harbour</td>\n",
       "      <td>Richmond Hill</td>\n",
       "      <td>ON</td>\n",
       "      <td>3.5</td>\n",
       "      <td>32</td>\n",
       "      <td>0</td>\n",
       "      <td>Canadian (New)</td>\n",
       "      <td>NaN</td>\n",
       "      <td>False</td>\n",
       "      <td>...</td>\n",
       "      <td>True</td>\n",
       "      <td>NaN</td>\n",
       "      <td>4</td>\n",
       "      <td>u'quiet'</td>\n",
       "      <td>NaN</td>\n",
       "      <td>NaN</td>\n",
       "      <td>'casual'</td>\n",
       "      <td>NaN</td>\n",
       "      <td>True</td>\n",
       "      <td>296</td>\n",
       "    </tr>\n",
       "    <tr>\n",
       "      <th>1197</th>\n",
       "      <td>VQGetWNN1f0dMWQ6ehDAVg</td>\n",
       "      <td>Morton's The Steakhouse</td>\n",
       "      <td>Cleveland</td>\n",
       "      <td>OH</td>\n",
       "      <td>3.5</td>\n",
       "      <td>108</td>\n",
       "      <td>1</td>\n",
       "      <td>American (Traditional)</td>\n",
       "      <td>NaN</td>\n",
       "      <td>False</td>\n",
       "      <td>...</td>\n",
       "      <td>False</td>\n",
       "      <td>NaN</td>\n",
       "      <td>4</td>\n",
       "      <td>u'average'</td>\n",
       "      <td>NaN</td>\n",
       "      <td>NaN</td>\n",
       "      <td>'dressy'</td>\n",
       "      <td>{'dj': False, 'background_music': False, 'no_m...</td>\n",
       "      <td>True</td>\n",
       "      <td>862</td>\n",
       "    </tr>\n",
       "    <tr>\n",
       "      <th>...</th>\n",
       "      <td>...</td>\n",
       "      <td>...</td>\n",
       "      <td>...</td>\n",
       "      <td>...</td>\n",
       "      <td>...</td>\n",
       "      <td>...</td>\n",
       "      <td>...</td>\n",
       "      <td>...</td>\n",
       "      <td>...</td>\n",
       "      <td>...</td>\n",
       "      <td>...</td>\n",
       "      <td>...</td>\n",
       "      <td>...</td>\n",
       "      <td>...</td>\n",
       "      <td>...</td>\n",
       "      <td>...</td>\n",
       "      <td>...</td>\n",
       "      <td>...</td>\n",
       "      <td>...</td>\n",
       "      <td>...</td>\n",
       "      <td>...</td>\n",
       "    </tr>\n",
       "    <tr>\n",
       "      <th>31353</th>\n",
       "      <td>7FNxzsZp3cUnxbxXFmZslQ</td>\n",
       "      <td>Barking Shark Bar &amp; Grill</td>\n",
       "      <td>Millvale</td>\n",
       "      <td>PA</td>\n",
       "      <td>3.0</td>\n",
       "      <td>5</td>\n",
       "      <td>1</td>\n",
       "      <td>American (Traditional)</td>\n",
       "      <td>NaN</td>\n",
       "      <td>NaN</td>\n",
       "      <td>...</td>\n",
       "      <td>NaN</td>\n",
       "      <td>NaN</td>\n",
       "      <td>4</td>\n",
       "      <td>NaN</td>\n",
       "      <td>NaN</td>\n",
       "      <td>NaN</td>\n",
       "      <td>NaN</td>\n",
       "      <td>NaN</td>\n",
       "      <td>True</td>\n",
       "      <td>8</td>\n",
       "    </tr>\n",
       "    <tr>\n",
       "      <th>31408</th>\n",
       "      <td>t_1myTZfYeEQ07Jr8JEF5Q</td>\n",
       "      <td>Cabane à Sucre Au Pied de Cochon</td>\n",
       "      <td>Mirabel</td>\n",
       "      <td>QC</td>\n",
       "      <td>4.0</td>\n",
       "      <td>80</td>\n",
       "      <td>1</td>\n",
       "      <td>French</td>\n",
       "      <td>NaN</td>\n",
       "      <td>False</td>\n",
       "      <td>...</td>\n",
       "      <td>True</td>\n",
       "      <td>NaN</td>\n",
       "      <td>4</td>\n",
       "      <td>u'loud'</td>\n",
       "      <td>NaN</td>\n",
       "      <td>NaN</td>\n",
       "      <td>u'casual'</td>\n",
       "      <td>NaN</td>\n",
       "      <td>True</td>\n",
       "      <td>1</td>\n",
       "    </tr>\n",
       "    <tr>\n",
       "      <th>31604</th>\n",
       "      <td>yCa7CSRK65U_ZtzRB3XtGw</td>\n",
       "      <td>Cru Uncorked</td>\n",
       "      <td>Moreland Hills</td>\n",
       "      <td>OH</td>\n",
       "      <td>4.5</td>\n",
       "      <td>38</td>\n",
       "      <td>1</td>\n",
       "      <td>American (New)</td>\n",
       "      <td>NaN</td>\n",
       "      <td>True</td>\n",
       "      <td>...</td>\n",
       "      <td>False</td>\n",
       "      <td>NaN</td>\n",
       "      <td>4</td>\n",
       "      <td>u'quiet'</td>\n",
       "      <td>NaN</td>\n",
       "      <td>NaN</td>\n",
       "      <td>u'formal'</td>\n",
       "      <td>{'dj': False, 'background_music': False, 'no_m...</td>\n",
       "      <td>True</td>\n",
       "      <td>4</td>\n",
       "    </tr>\n",
       "    <tr>\n",
       "      <th>31650</th>\n",
       "      <td>MgnC3c3IByQkOJ0vyBKfUA</td>\n",
       "      <td>Stage West Theatre Restaurants</td>\n",
       "      <td>Calgary</td>\n",
       "      <td>MB</td>\n",
       "      <td>4.0</td>\n",
       "      <td>34</td>\n",
       "      <td>1</td>\n",
       "      <td>Canadian (New)</td>\n",
       "      <td>NaN</td>\n",
       "      <td>False</td>\n",
       "      <td>...</td>\n",
       "      <td>True</td>\n",
       "      <td>NaN</td>\n",
       "      <td>4</td>\n",
       "      <td>u'average'</td>\n",
       "      <td>NaN</td>\n",
       "      <td>NaN</td>\n",
       "      <td>'dressy'</td>\n",
       "      <td>NaN</td>\n",
       "      <td>True</td>\n",
       "      <td>1</td>\n",
       "    </tr>\n",
       "    <tr>\n",
       "      <th>31701</th>\n",
       "      <td>Pt24B_tPolf9AhWoWD--qw</td>\n",
       "      <td>Di Menna</td>\n",
       "      <td>Saint-Léonard</td>\n",
       "      <td>QC</td>\n",
       "      <td>3.0</td>\n",
       "      <td>11</td>\n",
       "      <td>1</td>\n",
       "      <td>Italian</td>\n",
       "      <td>NaN</td>\n",
       "      <td>False</td>\n",
       "      <td>...</td>\n",
       "      <td>False</td>\n",
       "      <td>NaN</td>\n",
       "      <td>4</td>\n",
       "      <td>u'average'</td>\n",
       "      <td>NaN</td>\n",
       "      <td>NaN</td>\n",
       "      <td>'dressy'</td>\n",
       "      <td>NaN</td>\n",
       "      <td>True</td>\n",
       "      <td>8</td>\n",
       "    </tr>\n",
       "  </tbody>\n",
       "</table>\n",
       "<p>267 rows × 47 columns</p>\n",
       "</div>"
      ],
      "text/plain": [
       "                  business_id                              name  \\\n",
       "248    J5go9hqKOmPy3Y14LizGYQ              Kohinoor Kabob House   \n",
       "261    h8zFBTYBKSwDFcHuFgwpmQ    Day & Night Angus Beef Hot Pot   \n",
       "459    tZtKBCfUJaS7l79fuK1Ozw                         Captain S   \n",
       "472    nFcS1gSkaAPSJB8jXZXlOw                      Crab Harbour   \n",
       "1197   VQGetWNN1f0dMWQ6ehDAVg           Morton's The Steakhouse   \n",
       "...                       ...                               ...   \n",
       "31353  7FNxzsZp3cUnxbxXFmZslQ         Barking Shark Bar & Grill   \n",
       "31408  t_1myTZfYeEQ07Jr8JEF5Q  Cabane à Sucre Au Pied de Cochon   \n",
       "31604  yCa7CSRK65U_ZtzRB3XtGw                      Cru Uncorked   \n",
       "31650  MgnC3c3IByQkOJ0vyBKfUA    Stage West Theatre Restaurants   \n",
       "31701  Pt24B_tPolf9AhWoWD--qw                          Di Menna   \n",
       "\n",
       "                 city state  stars  review_count  is_open  \\\n",
       "248     Richmond Hill    ON    2.5             6        1   \n",
       "261     Richmond Hill    ON    3.5            42        0   \n",
       "459     Richmond Hill    ON    3.0             5        0   \n",
       "472     Richmond Hill    ON    3.5            32        0   \n",
       "1197        Cleveland    OH    3.5           108        1   \n",
       "...               ...   ...    ...           ...      ...   \n",
       "31353        Millvale    PA    3.0             5        1   \n",
       "31408         Mirabel    QC    4.0            80        1   \n",
       "31604  Moreland Hills    OH    4.5            38        1   \n",
       "31650         Calgary    MB    4.0            34        1   \n",
       "31701   Saint-Léonard    QC    3.0            11        1   \n",
       "\n",
       "                      Cursine BusinessAcceptsBitcoin OutdoorSeating  ...  \\\n",
       "248                 Pakistani                    NaN          False  ...   \n",
       "261                   Chinese                    NaN          False  ...   \n",
       "459                  Japanese                    NaN            NaN  ...   \n",
       "472            Canadian (New)                    NaN          False  ...   \n",
       "1197   American (Traditional)                    NaN          False  ...   \n",
       "...                       ...                    ...            ...  ...   \n",
       "31353  American (Traditional)                    NaN            NaN  ...   \n",
       "31408                  French                    NaN          False  ...   \n",
       "31604          American (New)                    NaN           True  ...   \n",
       "31650          Canadian (New)                    NaN          False  ...   \n",
       "31701                 Italian                    NaN          False  ...   \n",
       "\n",
       "      GoodForKids DietaryRestrictions RestaurantsPriceRange2  NoiseLevel  \\\n",
       "248          True                 NaN                      4  u'average'   \n",
       "261          True                 NaN                      4  u'average'   \n",
       "459          True                 NaN                      4         NaN   \n",
       "472          True                 NaN                      4    u'quiet'   \n",
       "1197        False                 NaN                      4  u'average'   \n",
       "...           ...                 ...                    ...         ...   \n",
       "31353         NaN                 NaN                      4         NaN   \n",
       "31408        True                 NaN                      4     u'loud'   \n",
       "31604       False                 NaN                      4    u'quiet'   \n",
       "31650        True                 NaN                      4  u'average'   \n",
       "31701       False                 NaN                      4  u'average'   \n",
       "\n",
       "      DriveThru ByAppointmentOnly RestaurantsAttire  \\\n",
       "248         NaN               NaN          'casual'   \n",
       "261         NaN               NaN          'casual'   \n",
       "459         NaN               NaN          'casual'   \n",
       "472         NaN               NaN          'casual'   \n",
       "1197        NaN               NaN          'dressy'   \n",
       "...         ...               ...               ...   \n",
       "31353       NaN               NaN               NaN   \n",
       "31408       NaN               NaN         u'casual'   \n",
       "31604       NaN               NaN         u'formal'   \n",
       "31650       NaN               NaN          'dressy'   \n",
       "31701       NaN               NaN          'dressy'   \n",
       "\n",
       "                                                   Music open_weekend  \\\n",
       "248                                                  NaN         True   \n",
       "261                                                  NaN         True   \n",
       "459                                                  NaN         True   \n",
       "472                                                  NaN         True   \n",
       "1197   {'dj': False, 'background_music': False, 'no_m...         True   \n",
       "...                                                  ...          ...   \n",
       "31353                                                NaN         True   \n",
       "31408                                                NaN         True   \n",
       "31604  {'dj': False, 'background_music': False, 'no_m...         True   \n",
       "31650                                                NaN         True   \n",
       "31701                                                NaN         True   \n",
       "\n",
       "      open_count  \n",
       "248          296  \n",
       "261          296  \n",
       "459          296  \n",
       "472          296  \n",
       "1197         862  \n",
       "...          ...  \n",
       "31353          8  \n",
       "31408          1  \n",
       "31604          4  \n",
       "31650          1  \n",
       "31701          8  \n",
       "\n",
       "[267 rows x 47 columns]"
      ]
     },
     "execution_count": 35,
     "metadata": {},
     "output_type": "execute_result"
    }
   ],
   "source": [
    "#some resturants may not specifiy the price ranges or have missing value\n",
    "#we have no information about which range means high price or low price\n",
    "#let see the resturants with 4 price range\n",
    "#after quick searching on google we can assume that 4 means higher price\n",
    "df[df.RestaurantsPriceRange2 == '4']"
   ]
  },
  {
   "cell_type": "code",
   "execution_count": 36,
   "id": "buried-gibraltar",
   "metadata": {},
   "outputs": [
    {
     "name": "stdout",
     "output_type": "stream",
     "text": [
      "Value Count: \n",
      "2    17321\n",
      "1     9021\n",
      "3     1746\n",
      "4      267\n",
      "Name: RestaurantsPriceRange2, dtype: int64\n",
      "Number of missing values  0\n"
     ]
    }
   ],
   "source": [
    "# there are 3462 resturants with missing values\n",
    "# drop these rows\n",
    "df = df.dropna(axis=0, subset=['RestaurantsPriceRange2'])\n",
    "df = df[df.RestaurantsPriceRange2 != 'None']\n",
    "get_column_info(df.RestaurantsPriceRange2)"
   ]
  },
  {
   "cell_type": "code",
   "execution_count": 37,
   "id": "tight-closure",
   "metadata": {},
   "outputs": [
    {
     "name": "stdout",
     "output_type": "stream",
     "text": [
      "Value Count: \n",
      "False    2735\n",
      "True       31\n",
      "Name: BusinessAcceptsBitcoin, dtype: int64\n",
      "Number of missing values  25589\n"
     ]
    }
   ],
   "source": [
    "get_column_info(df.BusinessAcceptsBitcoin)"
   ]
  },
  {
   "cell_type": "code",
   "execution_count": 38,
   "id": "circular-grave",
   "metadata": {},
   "outputs": [
    {
     "name": "stdout",
     "output_type": "stream",
     "text": [
      "Value Count: \n",
      "False    28324\n",
      "True        31\n",
      "Name: BusinessAcceptsBitcoin, dtype: int64\n",
      "Number of missing values  0\n"
     ]
    }
   ],
   "source": [
    "#There are only 31 of them accept Bitcoin for payment\n",
    "#there are lots of missing value - assume that they do not accept bitcoin payment\n",
    "df.BusinessAcceptsBitcoin.fillna(False, inplace = True)\n",
    "get_column_info(df.BusinessAcceptsBitcoin)"
   ]
  },
  {
   "cell_type": "code",
   "execution_count": 39,
   "id": "respiratory-council",
   "metadata": {},
   "outputs": [
    {
     "name": "stdout",
     "output_type": "stream",
     "text": [
      "Value Count: \n",
      "0    28324\n",
      "1       31\n",
      "Name: BusinessAcceptsBitcoin, dtype: int64\n",
      "Number of missing values  0\n"
     ]
    }
   ],
   "source": [
    "df.BusinessAcceptsBitcoin = label_encode(df.BusinessAcceptsBitcoin)\n",
    "get_column_info(df.BusinessAcceptsBitcoin)"
   ]
  },
  {
   "cell_type": "code",
   "execution_count": 40,
   "id": "owned-hometown",
   "metadata": {},
   "outputs": [
    {
     "name": "stdout",
     "output_type": "stream",
     "text": [
      "Value Count: \n",
      "False    5\n",
      "True     2\n",
      "Name: Open24Hours, dtype: int64\n",
      "Number of missing values  28348\n"
     ]
    }
   ],
   "source": [
    "get_column_info(df.Open24Hours)"
   ]
  },
  {
   "cell_type": "code",
   "execution_count": 41,
   "id": "strategic-composite",
   "metadata": {},
   "outputs": [
    {
     "data": {
      "text/plain": [
       "(28355, 46)"
      ]
     },
     "execution_count": 41,
     "metadata": {},
     "output_type": "execute_result"
    }
   ],
   "source": [
    "#all of them does not open for 24 hours so this can be dropped\n",
    "df.drop('Open24Hours', axis=1, inplace=True)\n",
    "df.shape"
   ]
  },
  {
   "cell_type": "code",
   "execution_count": 42,
   "id": "greater-recording",
   "metadata": {},
   "outputs": [
    {
     "name": "stdout",
     "output_type": "stream",
     "text": [
      "Value Count: \n",
      "True     7\n",
      "False    3\n",
      "Name: RestaurantsCounterService, dtype: int64\n",
      "Number of missing values  28345\n"
     ]
    }
   ],
   "source": [
    "get_column_info(df.RestaurantsCounterService)"
   ]
  },
  {
   "cell_type": "code",
   "execution_count": 43,
   "id": "radical-gateway",
   "metadata": {},
   "outputs": [
    {
     "data": {
      "text/plain": [
       "(28355, 45)"
      ]
     },
     "execution_count": 43,
     "metadata": {},
     "output_type": "execute_result"
    }
   ],
   "source": [
    "#no significant difference of this value - can be dropped\n",
    "df.drop('RestaurantsCounterService', axis=1, inplace=True)\n",
    "df.shape"
   ]
  },
  {
   "cell_type": "code",
   "execution_count": 44,
   "id": "saving-newport",
   "metadata": {},
   "outputs": [
    {
     "name": "stdout",
     "output_type": "stream",
     "text": [
      "Value Count: \n",
      "True     6040\n",
      "False    2734\n",
      "None        2\n",
      "Name: HappyHour, dtype: int64\n",
      "Number of missing values  19579\n"
     ]
    }
   ],
   "source": [
    "get_column_info(df.HappyHour)"
   ]
  },
  {
   "cell_type": "code",
   "execution_count": 45,
   "id": "thorough-banking",
   "metadata": {},
   "outputs": [
    {
     "name": "stdout",
     "output_type": "stream",
     "text": [
      "Value Count: \n",
      "False    22315\n",
      "True      6040\n",
      "Name: HappyHour, dtype: int64\n",
      "Number of missing values  0\n"
     ]
    }
   ],
   "source": [
    "#assigned to false \n",
    "df.loc[df.HappyHour == 'None', 'HappyHour'] = 'False'\n",
    "df.HappyHour.fillna('False', inplace = True)\n",
    "get_column_info(df.HappyHour)"
   ]
  },
  {
   "cell_type": "code",
   "execution_count": 46,
   "id": "incorrect-lotus",
   "metadata": {},
   "outputs": [
    {
     "name": "stdout",
     "output_type": "stream",
     "text": [
      "Value Count: \n",
      "0    22315\n",
      "1     6040\n",
      "Name: HappyHour, dtype: int64\n",
      "Number of missing values  0\n"
     ]
    }
   ],
   "source": [
    "df.HappyHour = label_encode(df.HappyHour)\n",
    "get_column_info(df.HappyHour)"
   ]
  },
  {
   "cell_type": "code",
   "execution_count": 47,
   "id": "double-constitution",
   "metadata": {},
   "outputs": [
    {
     "name": "stdout",
     "output_type": "stream",
     "text": [
      "Value Count: \n",
      "u'free'    8483\n",
      "u'no'      7841\n",
      "'no'       4042\n",
      "'free'     3599\n",
      "u'paid'      98\n",
      "'paid'       48\n",
      "None         31\n",
      "Name: WiFi, dtype: int64\n",
      "Number of missing values  4213\n"
     ]
    }
   ],
   "source": [
    "get_column_info(df.WiFi)"
   ]
  },
  {
   "cell_type": "code",
   "execution_count": 48,
   "id": "bacterial-blind",
   "metadata": {},
   "outputs": [
    {
     "name": "stdout",
     "output_type": "stream",
     "text": [
      "Value Count: \n",
      "u'free'    8483\n",
      "u'no'      7841\n",
      "no         4244\n",
      "'no'       4042\n",
      "'free'     3599\n",
      "u'paid'      98\n",
      "'paid'       48\n",
      "Name: WiFi, dtype: int64\n",
      "Number of missing values  0\n"
     ]
    }
   ],
   "source": [
    "#assume that missing and None have no wifi\n",
    "df.loc[df.WiFi == 'None', 'WiFi'] = 'no'\n",
    "df.WiFi.fillna('no', inplace = True)\n",
    "get_column_info(df.WiFi)"
   ]
  },
  {
   "cell_type": "code",
   "execution_count": 49,
   "id": "saved-model",
   "metadata": {},
   "outputs": [
    {
     "name": "stdout",
     "output_type": "stream",
     "text": [
      "Value Count: \n",
      "'free'    12082\n",
      "'no'      11883\n",
      "no         4244\n",
      "'paid'      146\n",
      "Name: WiFi, dtype: int64\n",
      "Number of missing values  0\n"
     ]
    }
   ],
   "source": [
    "#remove 'u'\n",
    "df.WiFi = np.where(df['WiFi'].str.contains(\"u\"), df.WiFi.str[1:], df.WiFi)\n",
    "get_column_info(df.WiFi)"
   ]
  },
  {
   "cell_type": "code",
   "execution_count": 50,
   "id": "western-maximum",
   "metadata": {},
   "outputs": [
    {
     "name": "stdout",
     "output_type": "stream",
     "text": [
      "Value Count: \n",
      "no      16127\n",
      "free    12082\n",
      "paid      146\n",
      "Name: WiFi, dtype: int64\n",
      "Number of missing values  0\n"
     ]
    }
   ],
   "source": [
    "#remove single quote\n",
    "df.WiFi = df.WiFi.str.replace(\"'\",\"\")\n",
    "get_column_info(df.WiFi)"
   ]
  },
  {
   "cell_type": "code",
   "execution_count": 51,
   "id": "exempt-finance",
   "metadata": {},
   "outputs": [
    {
     "name": "stdout",
     "output_type": "stream",
     "text": [
      "Value Count: \n",
      "1    16127\n",
      "0    12082\n",
      "2      146\n",
      "Name: WiFi, dtype: int64\n",
      "Number of missing values  0\n"
     ]
    }
   ],
   "source": [
    "df.WiFi = label_encode(df.WiFi)\n",
    "get_column_info(df.WiFi)"
   ]
  },
  {
   "cell_type": "code",
   "execution_count": 52,
   "id": "nervous-above",
   "metadata": {},
   "outputs": [
    {
     "name": "stdout",
     "output_type": "stream",
     "text": [
      "Value Count: \n",
      "True     22350\n",
      "False     4713\n",
      "None        10\n",
      "Name: GoodForKids, dtype: int64\n",
      "Number of missing values  1282\n"
     ]
    }
   ],
   "source": [
    "get_column_info(df.GoodForKids)"
   ]
  },
  {
   "cell_type": "code",
   "execution_count": 53,
   "id": "material-proof",
   "metadata": {},
   "outputs": [
    {
     "name": "stdout",
     "output_type": "stream",
     "text": [
      "Value Count: \n",
      "True     23642\n",
      "False     4713\n",
      "Name: GoodForKids, dtype: int64\n",
      "Number of missing values  0\n"
     ]
    }
   ],
   "source": [
    "#assigned to True \n",
    "df.loc[df.GoodForKids == 'None', 'GoodForKids'] = 'True'\n",
    "df.GoodForKids.fillna('True', inplace = True)\n",
    "get_column_info(df.GoodForKids)"
   ]
  },
  {
   "cell_type": "code",
   "execution_count": 54,
   "id": "appropriate-survey",
   "metadata": {},
   "outputs": [
    {
     "name": "stdout",
     "output_type": "stream",
     "text": [
      "Value Count: \n",
      "1    23642\n",
      "0     4713\n",
      "Name: GoodForKids, dtype: int64\n",
      "Number of missing values  0\n"
     ]
    }
   ],
   "source": [
    "df.GoodForKids = label_encode(df.GoodForKids)\n",
    "get_column_info(df.GoodForKids)"
   ]
  },
  {
   "cell_type": "code",
   "execution_count": 55,
   "id": "opponent-logistics",
   "metadata": {},
   "outputs": [
    {
     "name": "stdout",
     "output_type": "stream",
     "text": [
      "Value Count: \n",
      "False    1376\n",
      "False    1277\n",
      "True      204\n",
      "True      138\n",
      "None        1\n",
      "Name: GoodForDancing, dtype: int64\n",
      "Number of missing values  25359\n"
     ]
    }
   ],
   "source": [
    "get_column_info(df.GoodForDancing)"
   ]
  },
  {
   "cell_type": "code",
   "execution_count": 56,
   "id": "worthy-integrity",
   "metadata": {},
   "outputs": [
    {
     "name": "stdout",
     "output_type": "stream",
     "text": [
      "Value Count: \n",
      "False    28013\n",
      "True       342\n",
      "Name: GoodForDancing, dtype: int64\n",
      "Number of missing values  0\n"
     ]
    }
   ],
   "source": [
    "#change str to bool\n",
    "df.loc[df.GoodForDancing == 'False', 'GoodForDancing'] = False\n",
    "df.loc[df.GoodForDancing == 'True', 'GoodForDancing'] = True\n",
    "\n",
    "#assigned to false \n",
    "df.loc[df.GoodForDancing == 'None', 'GoodForDancing'] = False\n",
    "df.GoodForDancing.fillna(False, inplace = True)\n",
    "get_column_info(df.GoodForDancing)"
   ]
  },
  {
   "cell_type": "code",
   "execution_count": 57,
   "id": "injured-height",
   "metadata": {},
   "outputs": [
    {
     "name": "stdout",
     "output_type": "stream",
     "text": [
      "Value Count: \n",
      "0    28013\n",
      "1      342\n",
      "Name: GoodForDancing, dtype: int64\n",
      "Number of missing values  0\n"
     ]
    }
   ],
   "source": [
    "df.GoodForDancing = label_encode(df.GoodForDancing)\n",
    "get_column_info(df.GoodForDancing)"
   ]
  },
  {
   "cell_type": "code",
   "execution_count": 58,
   "id": "continued-heating",
   "metadata": {},
   "outputs": [
    {
     "name": "stdout",
     "output_type": "stream",
     "text": [
      "Value Count: \n",
      "False    15443\n",
      "True     11490\n",
      "None        20\n",
      "Name: OutdoorSeating, dtype: int64\n",
      "Number of missing values  1402\n"
     ]
    }
   ],
   "source": [
    "get_column_info(df.OutdoorSeating)"
   ]
  },
  {
   "cell_type": "code",
   "execution_count": 59,
   "id": "general-lighting",
   "metadata": {},
   "outputs": [
    {
     "name": "stdout",
     "output_type": "stream",
     "text": [
      "Value Count: \n",
      "False    16865\n",
      "True     11490\n",
      "Name: OutdoorSeating, dtype: int64\n",
      "Number of missing values  0\n"
     ]
    }
   ],
   "source": [
    "#assigned to false \n",
    "df.loc[df.OutdoorSeating == 'None', 'OutdoorSeating'] = 'False'\n",
    "df.OutdoorSeating.fillna('False', inplace = True)\n",
    "get_column_info(df.OutdoorSeating)"
   ]
  },
  {
   "cell_type": "code",
   "execution_count": 60,
   "id": "working-andrew",
   "metadata": {},
   "outputs": [
    {
     "name": "stdout",
     "output_type": "stream",
     "text": [
      "Value Count: \n",
      "0    16865\n",
      "1    11490\n",
      "Name: OutdoorSeating, dtype: int64\n",
      "Number of missing values  0\n"
     ]
    }
   ],
   "source": [
    "df.OutdoorSeating = label_encode(df.OutdoorSeating)\n",
    "get_column_info(df.OutdoorSeating)"
   ]
  },
  {
   "cell_type": "code",
   "execution_count": 61,
   "id": "affected-adult",
   "metadata": {},
   "outputs": [
    {
     "name": "stdout",
     "output_type": "stream",
     "text": [
      "Value Count: \n",
      "u'average'      13919\n",
      "u'quiet'         4133\n",
      "'average'        3225\n",
      "u'loud'          1541\n",
      "'quiet'           777\n",
      "u'very_loud'      516\n",
      "'loud'            265\n",
      "'very_loud'        51\n",
      "None               23\n",
      "Name: NoiseLevel, dtype: int64\n",
      "Number of missing values  3905\n"
     ]
    }
   ],
   "source": [
    "get_column_info(df.NoiseLevel)"
   ]
  },
  {
   "cell_type": "code",
   "execution_count": 62,
   "id": "lightweight-necklace",
   "metadata": {},
   "outputs": [
    {
     "name": "stdout",
     "output_type": "stream",
     "text": [
      "Value Count: \n",
      "'average'      17144\n",
      "'quiet'         4133\n",
      "'loud'          1541\n",
      "quiet'           777\n",
      "'very_loud'      516\n",
      "loud'            265\n",
      "very_loud'        51\n",
      "None              23\n",
      "Name: NoiseLevel, dtype: int64\n",
      "Number of missing values  3905\n"
     ]
    }
   ],
   "source": [
    "#remove u\n",
    "df.NoiseLevel = np.where(df['NoiseLevel'].str.contains(\"u\"), df.NoiseLevel.str[1:], df.NoiseLevel)\n",
    "get_column_info(df.NoiseLevel)"
   ]
  },
  {
   "cell_type": "code",
   "execution_count": 63,
   "id": "marine-devon",
   "metadata": {},
   "outputs": [
    {
     "name": "stdout",
     "output_type": "stream",
     "text": [
      "Value Count: \n",
      "'average'      17144\n",
      "'quiet'         4133\n",
      "average         3928\n",
      "'loud'          1541\n",
      "quiet'           777\n",
      "'very_loud'      516\n",
      "loud'            265\n",
      "very_loud'        51\n",
      "Name: NoiseLevel, dtype: int64\n",
      "Number of missing values  0\n"
     ]
    }
   ],
   "source": [
    "#assign missing value to average noise level\n",
    "df.loc[df.NoiseLevel == 'None', 'NoiseLevel'] = 'average'\n",
    "df.NoiseLevel.fillna('average', inplace = True)\n",
    "get_column_info(df.NoiseLevel)"
   ]
  },
  {
   "cell_type": "code",
   "execution_count": 64,
   "id": "harmful-consultancy",
   "metadata": {},
   "outputs": [
    {
     "name": "stdout",
     "output_type": "stream",
     "text": [
      "Value Count: \n",
      "average      21072\n",
      "quiet         4910\n",
      "loud          1806\n",
      "very_loud      567\n",
      "Name: NoiseLevel, dtype: int64\n",
      "Number of missing values  0\n"
     ]
    }
   ],
   "source": [
    "#remove single quote\n",
    "df.NoiseLevel = df.NoiseLevel.str.replace(\"'\",\"\")\n",
    "get_column_info(df.NoiseLevel)"
   ]
  },
  {
   "cell_type": "code",
   "execution_count": 65,
   "id": "joined-murray",
   "metadata": {},
   "outputs": [
    {
     "name": "stdout",
     "output_type": "stream",
     "text": [
      "Value Count: \n",
      "0    21072\n",
      "2     4910\n",
      "1     1806\n",
      "3      567\n",
      "Name: NoiseLevel, dtype: int64\n",
      "Number of missing values  0\n"
     ]
    }
   ],
   "source": [
    "df.NoiseLevel = label_encode(df.NoiseLevel)\n",
    "get_column_info(df.NoiseLevel)"
   ]
  },
  {
   "cell_type": "code",
   "execution_count": 66,
   "id": "breeding-marine",
   "metadata": {},
   "outputs": [
    {
     "name": "stdout",
     "output_type": "stream",
     "text": [
      "Value Count: \n",
      "{'dairy-free': False, 'gluten-free': True, 'vegan': False, 'kosher': False, 'halal': False, 'soy-free': False, 'vegetarian': False}    6\n",
      "None                                                                                                                                   6\n",
      "{'dairy-free': False, 'gluten-free': False, 'vegan': False, 'kosher': False, 'halal': False, 'soy-free': False, 'vegetarian': True}    4\n",
      "{'dairy-free': False, 'gluten-free': False, 'vegan': True, 'kosher': False, 'halal': False, 'soy-free': False, 'vegetarian': False}    3\n",
      "{'dairy-free': False, 'gluten-free': True, 'vegan': True, 'kosher': False, 'halal': False, 'soy-free': False, 'vegetarian': False}     3\n",
      "{'dairy-free': False, 'gluten-free': False, 'vegan': True, 'kosher': False, 'halal': False, 'soy-free': False, 'vegetarian': True}     2\n",
      "{'dairy-free': True, 'gluten-free': False, 'vegan': True, 'kosher': False, 'halal': False, 'soy-free': False, 'vegetarian': True}      1\n",
      "{'dairy-free': False, 'gluten-free': True, 'vegan': False, 'kosher': False, 'halal': False, 'soy-free': False, 'vegetarian': True}     1\n",
      "{'dairy-free': False, 'gluten-free': False, 'vegan': False, 'kosher': False, 'halal': True, 'soy-free': False, 'vegetarian': False}    1\n",
      "Name: DietaryRestrictions, dtype: int64\n",
      "Number of missing values  28328\n"
     ]
    }
   ],
   "source": [
    "#need extra work on this\n",
    "get_column_info(df.DietaryRestrictions)"
   ]
  },
  {
   "cell_type": "code",
   "execution_count": 67,
   "id": "capable-council",
   "metadata": {},
   "outputs": [
    {
     "name": "stdout",
     "output_type": "stream",
     "text": [
      "Value Count: \n",
      "True     18068\n",
      "False      293\n",
      "None         9\n",
      "Name: BusinessAcceptsCreditCards, dtype: int64\n",
      "Number of missing values  9985\n"
     ]
    }
   ],
   "source": [
    "get_column_info(df.BusinessAcceptsCreditCards)"
   ]
  },
  {
   "cell_type": "code",
   "execution_count": 68,
   "id": "higher-address",
   "metadata": {},
   "outputs": [
    {
     "name": "stdout",
     "output_type": "stream",
     "text": [
      "Value Count: \n",
      "True     28062\n",
      "False      293\n",
      "Name: BusinessAcceptsCreditCards, dtype: int64\n",
      "Number of missing values  0\n"
     ]
    }
   ],
   "source": [
    "#assign missing value to True\n",
    "df.loc[df.BusinessAcceptsCreditCards == 'None', 'BusinessAcceptsCreditCards'] = 'True'\n",
    "df.BusinessAcceptsCreditCards.fillna('True', inplace = True)\n",
    "get_column_info(df.BusinessAcceptsCreditCards)"
   ]
  },
  {
   "cell_type": "code",
   "execution_count": 69,
   "id": "ambient-trout",
   "metadata": {},
   "outputs": [
    {
     "name": "stdout",
     "output_type": "stream",
     "text": [
      "Value Count: \n",
      "1    28062\n",
      "0      293\n",
      "Name: BusinessAcceptsCreditCards, dtype: int64\n",
      "Number of missing values  0\n"
     ]
    }
   ],
   "source": [
    "df.BusinessAcceptsCreditCards = label_encode(df.BusinessAcceptsCreditCards)\n",
    "get_column_info(df.BusinessAcceptsCreditCards)"
   ]
  },
  {
   "cell_type": "code",
   "execution_count": 70,
   "id": "variable-heavy",
   "metadata": {},
   "outputs": [
    {
     "name": "stdout",
     "output_type": "stream",
     "text": [
      "Value Count: \n",
      "False    280\n",
      "True      44\n",
      "Name: BYOB, dtype: int64\n",
      "Number of missing values  28031\n"
     ]
    }
   ],
   "source": [
    "get_column_info(df.BYOB)"
   ]
  },
  {
   "cell_type": "code",
   "execution_count": 71,
   "id": "jewish-privilege",
   "metadata": {},
   "outputs": [
    {
     "data": {
      "text/plain": [
       "(28355, 44)"
      ]
     },
     "execution_count": 71,
     "metadata": {},
     "output_type": "execute_result"
    }
   ],
   "source": [
    "#doesn't give significant values - dorp column\n",
    "df.drop('BYOB', axis=1, inplace=True)\n",
    "df.shape"
   ]
  },
  {
   "cell_type": "code",
   "execution_count": 72,
   "id": "spiritual-wisdom",
   "metadata": {},
   "outputs": [
    {
     "name": "stdout",
     "output_type": "stream",
     "text": [
      "Value Count: \n",
      "{'monday': False, 'tuesday': False, 'friday': True, 'wednesday': False, 'thursday': True, 'sunday': False, 'saturday': True}       501\n",
      "{'monday': False, 'tuesday': False, 'friday': False, 'wednesday': False, 'thursday': False, 'sunday': False, 'saturday': False}    480\n",
      "{'monday': False, 'tuesday': False, 'friday': True, 'wednesday': False, 'thursday': False, 'sunday': True, 'saturday': True}       295\n",
      "{'monday': False, 'tuesday': False, 'friday': False, 'wednesday': False, 'thursday': False, 'sunday': False, 'saturday': True}     196\n",
      "{'monday': False, 'tuesday': False, 'friday': True, 'wednesday': False, 'thursday': False, 'sunday': False, 'saturday': True}      170\n",
      "                                                                                                                                  ... \n",
      "{'monday': False, 'tuesday': True, 'friday': False, 'wednesday': True, 'thursday': False, 'sunday': False, 'saturday': False}        4\n",
      "{'monday': True, 'tuesday': False, 'friday': False, 'wednesday': True, 'thursday': False, 'sunday': False, 'saturday': False}        4\n",
      "{'monday': True, 'tuesday': True, 'friday': False, 'wednesday': False, 'thursday': False, 'sunday': False, 'saturday': False}        2\n",
      "{'monday': True, 'tuesday': False, 'friday': False, 'wednesday': True, 'thursday': False, 'sunday': True, 'saturday': False}         1\n",
      "{'monday': False, 'tuesday': True, 'friday': False, 'wednesday': False, 'thursday': True, 'sunday': True, 'saturday': False}         1\n",
      "Name: BestNights, Length: 65, dtype: int64\n",
      "Number of missing values  25167\n"
     ]
    }
   ],
   "source": [
    "#need to work on\n",
    "get_column_info(df.BestNights)"
   ]
  },
  {
   "cell_type": "code",
   "execution_count": 73,
   "id": "wrong-brighton",
   "metadata": {},
   "outputs": [
    {
     "name": "stdout",
     "output_type": "stream",
     "text": [
      "Value Count: \n",
      "True     9255\n",
      "False    3315\n",
      "None       11\n",
      "Name: RestaurantsTableService, dtype: int64\n",
      "Number of missing values  15774\n"
     ]
    }
   ],
   "source": [
    "get_column_info(df.RestaurantsTableService)"
   ]
  },
  {
   "cell_type": "code",
   "execution_count": 74,
   "id": "deluxe-minister",
   "metadata": {},
   "outputs": [
    {
     "name": "stdout",
     "output_type": "stream",
     "text": [
      "Value Count: \n",
      "False    19100\n",
      "True      9255\n",
      "Name: RestaurantsTableService, dtype: int64\n",
      "Number of missing values  0\n"
     ]
    }
   ],
   "source": [
    "#assign missing value to False\n",
    "df.loc[df.RestaurantsTableService == 'None', 'RestaurantsTableService'] = 'False'\n",
    "df.RestaurantsTableService.fillna('False', inplace = True)\n",
    "get_column_info(df.RestaurantsTableService)"
   ]
  },
  {
   "cell_type": "code",
   "execution_count": 75,
   "id": "tough-korean",
   "metadata": {},
   "outputs": [
    {
     "name": "stdout",
     "output_type": "stream",
     "text": [
      "Value Count: \n",
      "0    19100\n",
      "1     9255\n",
      "Name: RestaurantsTableService, dtype: int64\n",
      "Number of missing values  0\n"
     ]
    }
   ],
   "source": [
    "df.RestaurantsTableService = label_encode(df.RestaurantsTableService)\n",
    "get_column_info(df.RestaurantsTableService)"
   ]
  },
  {
   "cell_type": "code",
   "execution_count": 76,
   "id": "correct-ranch",
   "metadata": {},
   "outputs": [
    {
     "name": "stdout",
     "output_type": "stream",
     "text": [
      "Value Count: \n",
      "u'full_bar'         10061\n",
      "u'none'              6851\n",
      "u'beer_and_wine'     2980\n",
      "'none'               2475\n",
      "'full_bar'           1958\n",
      "'beer_and_wine'      1100\n",
      "None                   22\n",
      "Name: Alcohol, dtype: int64\n",
      "Number of missing values  2908\n"
     ]
    }
   ],
   "source": [
    "get_column_info(df.Alcohol)"
   ]
  },
  {
   "cell_type": "code",
   "execution_count": 77,
   "id": "chemical-artist",
   "metadata": {},
   "outputs": [
    {
     "name": "stdout",
     "output_type": "stream",
     "text": [
      "Value Count: \n",
      "u'full_bar'         10061\n",
      "u'none'              6851\n",
      "u'beer_and_wine'     2980\n",
      "none                 2930\n",
      "'none'               2475\n",
      "'full_bar'           1958\n",
      "'beer_and_wine'      1100\n",
      "Name: Alcohol, dtype: int64\n",
      "Number of missing values  0\n"
     ]
    }
   ],
   "source": [
    "#assign missing value to none\n",
    "df.loc[df.Alcohol == 'None', 'Alcohol'] = 'none'\n",
    "df.Alcohol.fillna('none', inplace = True)\n",
    "get_column_info(df.Alcohol)"
   ]
  },
  {
   "cell_type": "code",
   "execution_count": 78,
   "id": "operational-syndication",
   "metadata": {},
   "outputs": [
    {
     "name": "stdout",
     "output_type": "stream",
     "text": [
      "Value Count: \n",
      "none             12256\n",
      "full_bar         12019\n",
      "beer_and_wine     4080\n",
      "Name: Alcohol, dtype: int64\n",
      "Number of missing values  0\n"
     ]
    }
   ],
   "source": [
    "# remove u and single quote\n",
    "\n",
    "df.Alcohol = np.where(df['Alcohol'].str.contains(\"u\"), df.Alcohol.str[1:], df.Alcohol)\n",
    "df.Alcohol = df.Alcohol.str.replace(\"'\",\"\")\n",
    "get_column_info(df.Alcohol)"
   ]
  },
  {
   "cell_type": "code",
   "execution_count": 79,
   "id": "demographic-allowance",
   "metadata": {},
   "outputs": [
    {
     "name": "stdout",
     "output_type": "stream",
     "text": [
      "Value Count: \n",
      "2    12256\n",
      "1    12019\n",
      "0     4080\n",
      "Name: Alcohol, dtype: int64\n",
      "Number of missing values  0\n"
     ]
    }
   ],
   "source": [
    "df.Alcohol = label_encode(df.Alcohol)\n",
    "get_column_info(df.Alcohol)"
   ]
  },
  {
   "cell_type": "code",
   "execution_count": 80,
   "id": "hollow-smell",
   "metadata": {},
   "outputs": [
    {
     "name": "stdout",
     "output_type": "stream",
     "text": [
      "Value Count: \n",
      "{'garage': False, 'street': False, 'validated': False, 'lot': True, 'valet': False}     11393\n",
      "{'garage': False, 'street': False, 'validated': False, 'lot': False, 'valet': False}     6491\n",
      "{'garage': False, 'street': True, 'validated': False, 'lot': False, 'valet': False}      4327\n",
      "{'garage': False, 'street': True, 'validated': False, 'lot': True, 'valet': False}       1143\n",
      "{'garage': True, 'street': False, 'validated': False, 'lot': False, 'valet': False}       511\n",
      "                                                                                        ...  \n",
      "{'garage': None, 'street': True, 'validated': False, 'lot': True, 'valet': False}           1\n",
      "{'garage': None, 'street': None, 'validated': True, 'lot': True, 'valet': False}            1\n",
      "{'garage': True, 'street': None, 'validated': None, 'lot': True, 'valet': False}            1\n",
      "{'garage': False, 'validated': False, 'street': False, 'lot': False, 'valet': False}        1\n",
      "{'garage': True, 'street': False, 'validated': None, 'lot': True, 'valet': False}           1\n",
      "Name: BusinessParking, Length: 79, dtype: int64\n",
      "Number of missing values  1653\n"
     ]
    }
   ],
   "source": [
    "#need to work on \n",
    "get_column_info(df.BusinessParking)"
   ]
  },
  {
   "cell_type": "code",
   "execution_count": 81,
   "id": "fourth-overall",
   "metadata": {},
   "outputs": [
    {
     "name": "stdout",
     "output_type": "stream",
     "text": [
      "Value Count: \n",
      "u'no'         1237\n",
      "u'outdoor'     788\n",
      "u'yes'         123\n",
      "'no'            10\n",
      "None             3\n",
      "'outdoor'        2\n",
      "Name: Smoking, dtype: int64\n",
      "Number of missing values  26192\n"
     ]
    }
   ],
   "source": [
    "get_column_info(df.Smoking)"
   ]
  },
  {
   "cell_type": "code",
   "execution_count": 82,
   "id": "absolute-genre",
   "metadata": {},
   "outputs": [
    {
     "name": "stdout",
     "output_type": "stream",
     "text": [
      "Value Count: \n",
      "no            26195\n",
      "u'no'          1237\n",
      "u'outdoor'      788\n",
      "u'yes'          123\n",
      "'no'             10\n",
      "'outdoor'         2\n",
      "Name: Smoking, dtype: int64\n",
      "Number of missing values  0\n"
     ]
    }
   ],
   "source": [
    "#assign missing value to no\n",
    "df.loc[df.Smoking == 'None', 'Smoking'] = 'no'\n",
    "df.Smoking.fillna('no', inplace = True)\n",
    "get_column_info(df.Smoking)"
   ]
  },
  {
   "cell_type": "code",
   "execution_count": 83,
   "id": "personal-beads",
   "metadata": {},
   "outputs": [
    {
     "name": "stdout",
     "output_type": "stream",
     "text": [
      "Value Count: \n",
      "no         27442\n",
      "outdoor      790\n",
      "yes          123\n",
      "Name: Smoking, dtype: int64\n",
      "Number of missing values  0\n"
     ]
    }
   ],
   "source": [
    "# remove u and single quote\n",
    "\n",
    "df.Smoking = np.where(df['Smoking'].str.contains(\"u\"), df.Smoking.str[1:], df.Smoking)\n",
    "df.Smoking = df.Smoking.str.replace(\"'\",\"\")\n",
    "get_column_info(df.Smoking)"
   ]
  },
  {
   "cell_type": "code",
   "execution_count": 84,
   "id": "found-hindu",
   "metadata": {},
   "outputs": [
    {
     "name": "stdout",
     "output_type": "stream",
     "text": [
      "Value Count: \n",
      "0    27442\n",
      "1      790\n",
      "2      123\n",
      "Name: Smoking, dtype: int64\n",
      "Number of missing values  0\n"
     ]
    }
   ],
   "source": [
    "df.Smoking = label_encode(df.Smoking)\n",
    "get_column_info(df.Smoking)"
   ]
  },
  {
   "cell_type": "code",
   "execution_count": 85,
   "id": "healthy-elements",
   "metadata": {},
   "outputs": [
    {
     "name": "stdout",
     "output_type": "stream",
     "text": [
      "Value Count: \n",
      "'no'              499\n",
      "'yes_free'        310\n",
      "'yes_corkage'     101\n",
      "u'yes_corkage'     12\n",
      "None                9\n",
      "u'no'               6\n",
      "u'yes_free'         1\n",
      "Name: BYOBCorkage, dtype: int64\n",
      "Number of missing values  27417\n"
     ]
    }
   ],
   "source": [
    "#BYOB: Bring your own Bottle\n",
    "get_column_info(df.BYOBCorkage)"
   ]
  },
  {
   "cell_type": "code",
   "execution_count": 86,
   "id": "established-cancer",
   "metadata": {},
   "outputs": [
    {
     "name": "stdout",
     "output_type": "stream",
     "text": [
      "Value Count: \n",
      "no                27426\n",
      "'no'                499\n",
      "'yes_free'          310\n",
      "'yes_corkage'       101\n",
      "u'yes_corkage'       12\n",
      "u'no'                 6\n",
      "u'yes_free'           1\n",
      "Name: BYOBCorkage, dtype: int64\n",
      "Number of missing values  0\n"
     ]
    }
   ],
   "source": [
    "#assign missing value to no\n",
    "df.loc[df.BYOBCorkage == 'None', 'BYOBCorkage'] = 'no'\n",
    "df.BYOBCorkage.fillna('no', inplace = True)\n",
    "get_column_info(df.BYOBCorkage)"
   ]
  },
  {
   "cell_type": "code",
   "execution_count": 87,
   "id": "forty-portugal",
   "metadata": {},
   "outputs": [
    {
     "name": "stdout",
     "output_type": "stream",
     "text": [
      "Value Count: \n",
      "no             27931\n",
      "yes_free         311\n",
      "yes_corkage      113\n",
      "Name: BYOBCorkage, dtype: int64\n",
      "Number of missing values  0\n"
     ]
    }
   ],
   "source": [
    "# remove u and single quote\n",
    "\n",
    "df.BYOBCorkage = np.where(df['BYOBCorkage'].str.contains(\"u\"), df.BYOBCorkage.str[1:], df.BYOBCorkage)\n",
    "df.BYOBCorkage = df.BYOBCorkage.str.replace(\"'\",\"\")\n",
    "get_column_info(df.BYOBCorkage)"
   ]
  },
  {
   "cell_type": "code",
   "execution_count": 88,
   "id": "reflected-building",
   "metadata": {},
   "outputs": [
    {
     "name": "stdout",
     "output_type": "stream",
     "text": [
      "Value Count: \n",
      "0    27931\n",
      "2      311\n",
      "1      113\n",
      "Name: BYOBCorkage, dtype: int64\n",
      "Number of missing values  0\n"
     ]
    }
   ],
   "source": [
    "df.BYOBCorkage = label_encode(df.BYOBCorkage)\n",
    "get_column_info(df.BYOBCorkage)"
   ]
  },
  {
   "cell_type": "code",
   "execution_count": 89,
   "id": "planned-directive",
   "metadata": {},
   "outputs": [
    {
     "name": "stdout",
     "output_type": "stream",
     "text": [
      "Value Count: \n",
      "False    5737\n",
      "True      934\n",
      "None        8\n",
      "Name: DogsAllowed, dtype: int64\n",
      "Number of missing values  21676\n"
     ]
    }
   ],
   "source": [
    "get_column_info(df.DogsAllowed)"
   ]
  },
  {
   "cell_type": "code",
   "execution_count": 90,
   "id": "warming-adrian",
   "metadata": {},
   "outputs": [
    {
     "name": "stdout",
     "output_type": "stream",
     "text": [
      "Value Count: \n",
      "False    27421\n",
      "True       934\n",
      "Name: DogsAllowed, dtype: int64\n",
      "Number of missing values  0\n"
     ]
    }
   ],
   "source": [
    "#assign missing value to False\n",
    "df.loc[df.DogsAllowed == 'None', 'DogsAllowed'] = 'False'\n",
    "df.DogsAllowed.fillna('False', inplace = True)\n",
    "get_column_info(df.DogsAllowed)"
   ]
  },
  {
   "cell_type": "code",
   "execution_count": 91,
   "id": "tested-faculty",
   "metadata": {},
   "outputs": [
    {
     "name": "stdout",
     "output_type": "stream",
     "text": [
      "Value Count: \n",
      "0    27421\n",
      "1      934\n",
      "Name: DogsAllowed, dtype: int64\n",
      "Number of missing values  0\n"
     ]
    }
   ],
   "source": [
    "df.DogsAllowed = label_encode(df.DogsAllowed)\n",
    "get_column_info(df.DogsAllowed)"
   ]
  },
  {
   "cell_type": "code",
   "execution_count": 92,
   "id": "theoretical-barbados",
   "metadata": {},
   "outputs": [
    {
     "name": "stdout",
     "output_type": "stream",
     "text": [
      "Value Count: \n",
      "True     17733\n",
      "False     5307\n",
      "None        34\n",
      "Name: BikeParking, dtype: int64\n",
      "Number of missing values  5281\n"
     ]
    }
   ],
   "source": [
    "get_column_info(df.BikeParking)"
   ]
  },
  {
   "cell_type": "code",
   "execution_count": 93,
   "id": "maritime-positive",
   "metadata": {},
   "outputs": [
    {
     "name": "stdout",
     "output_type": "stream",
     "text": [
      "Value Count: \n",
      "True     23048\n",
      "False     5307\n",
      "Name: BikeParking, dtype: int64\n",
      "Number of missing values  0\n"
     ]
    }
   ],
   "source": [
    "#assign missing value to True\n",
    "df.loc[df.BikeParking == 'None', 'BikeParking'] = 'True'\n",
    "df.BikeParking.fillna('True', inplace = True)\n",
    "get_column_info(df.BikeParking)"
   ]
  },
  {
   "cell_type": "code",
   "execution_count": 94,
   "id": "hundred-consultation",
   "metadata": {},
   "outputs": [
    {
     "name": "stdout",
     "output_type": "stream",
     "text": [
      "Value Count: \n",
      "1    23048\n",
      "0     5307\n",
      "Name: BikeParking, dtype: int64\n",
      "Number of missing values  0\n"
     ]
    }
   ],
   "source": [
    "df.BikeParking = label_encode(df.BikeParking)\n",
    "get_column_info(df.BikeParking)"
   ]
  },
  {
   "cell_type": "code",
   "execution_count": 95,
   "id": "paperback-flush",
   "metadata": {},
   "outputs": [
    {
     "name": "stdout",
     "output_type": "stream",
     "text": [
      "Value Count: \n",
      "u'casual'    15719\n",
      "'casual'     10040\n",
      "u'dressy'      581\n",
      "'dressy'       252\n",
      "u'formal'       30\n",
      "'formal'        19\n",
      "None             9\n",
      "Name: RestaurantsAttire, dtype: int64\n",
      "Number of missing values  1705\n"
     ]
    }
   ],
   "source": [
    "#dress code\n",
    "get_column_info(df.RestaurantsAttire)"
   ]
  },
  {
   "cell_type": "code",
   "execution_count": 96,
   "id": "above-category",
   "metadata": {},
   "outputs": [
    {
     "name": "stdout",
     "output_type": "stream",
     "text": [
      "Value Count: \n",
      "u'casual'    15719\n",
      "'casual'     10040\n",
      "casual        1714\n",
      "u'dressy'      581\n",
      "'dressy'       252\n",
      "u'formal'       30\n",
      "'formal'        19\n",
      "Name: RestaurantsAttire, dtype: int64\n",
      "Number of missing values  0\n"
     ]
    }
   ],
   "source": [
    "#assign missing value to casual\n",
    "df.loc[df.RestaurantsAttire == 'None', 'RestaurantsAttire'] = 'casual'\n",
    "df.RestaurantsAttire.fillna('casual', inplace = True)\n",
    "get_column_info(df.RestaurantsAttire)"
   ]
  },
  {
   "cell_type": "code",
   "execution_count": 97,
   "id": "happy-terry",
   "metadata": {},
   "outputs": [
    {
     "name": "stdout",
     "output_type": "stream",
     "text": [
      "Value Count: \n",
      "casual    25759\n",
      "asual      1714\n",
      "dressy      833\n",
      "formal       49\n",
      "Name: RestaurantsAttire, dtype: int64\n",
      "Number of missing values  0\n"
     ]
    }
   ],
   "source": [
    "# remove u and single quote\n",
    "\n",
    "df.RestaurantsAttire = np.where(df['RestaurantsAttire'].str.contains(\"u\"), df.RestaurantsAttire.str[1:], df.RestaurantsAttire)\n",
    "df.RestaurantsAttire = df.RestaurantsAttire.str.replace(\"'\",\"\")\n",
    "get_column_info(df.RestaurantsAttire)"
   ]
  },
  {
   "cell_type": "code",
   "execution_count": 98,
   "id": "necessary-metropolitan",
   "metadata": {},
   "outputs": [
    {
     "name": "stdout",
     "output_type": "stream",
     "text": [
      "Value Count: \n",
      "1    25759\n",
      "0     1714\n",
      "2      833\n",
      "3       49\n",
      "Name: RestaurantsAttire, dtype: int64\n",
      "Number of missing values  0\n"
     ]
    }
   ],
   "source": [
    "df.RestaurantsAttire = label_encode(df.RestaurantsAttire)\n",
    "get_column_info(df.RestaurantsAttire)"
   ]
  },
  {
   "cell_type": "code",
   "execution_count": 99,
   "id": "steady-headline",
   "metadata": {},
   "outputs": [
    {
     "name": "stdout",
     "output_type": "stream",
     "text": [
      "Value Count: \n",
      "True     25864\n",
      "False     1685\n",
      "None        31\n",
      "Name: RestaurantsTakeOut, dtype: int64\n",
      "Number of missing values  775\n"
     ]
    }
   ],
   "source": [
    "get_column_info(df.RestaurantsTakeOut)"
   ]
  },
  {
   "cell_type": "code",
   "execution_count": 100,
   "id": "documented-reporter",
   "metadata": {},
   "outputs": [
    {
     "name": "stdout",
     "output_type": "stream",
     "text": [
      "Value Count: \n",
      "True     26670\n",
      "False     1685\n",
      "Name: RestaurantsTakeOut, dtype: int64\n",
      "Number of missing values  0\n"
     ]
    }
   ],
   "source": [
    "#assign missing value to True\n",
    "df.loc[df.RestaurantsTakeOut == 'None', 'RestaurantsTakeOut'] = 'True'\n",
    "df.RestaurantsTakeOut.fillna('True', inplace = True)\n",
    "get_column_info(df.RestaurantsTakeOut)"
   ]
  },
  {
   "cell_type": "code",
   "execution_count": 101,
   "id": "earlier-offer",
   "metadata": {},
   "outputs": [
    {
     "name": "stdout",
     "output_type": "stream",
     "text": [
      "Value Count: \n",
      "1    26670\n",
      "0     1685\n",
      "Name: RestaurantsTakeOut, dtype: int64\n",
      "Number of missing values  0\n"
     ]
    }
   ],
   "source": [
    "df.RestaurantsTakeOut = label_encode(df.RestaurantsTakeOut)\n",
    "get_column_info(df.RestaurantsTakeOut)"
   ]
  },
  {
   "cell_type": "code",
   "execution_count": 102,
   "id": "geological-format",
   "metadata": {},
   "outputs": [
    {
     "name": "stdout",
     "output_type": "stream",
     "text": [
      "Value Count: \n",
      "True     12276\n",
      "False     9158\n",
      "None        52\n",
      "Name: Caters, dtype: int64\n",
      "Number of missing values  6869\n"
     ]
    }
   ],
   "source": [
    "get_column_info(df.Caters)"
   ]
  },
  {
   "cell_type": "code",
   "execution_count": 103,
   "id": "atomic-token",
   "metadata": {},
   "outputs": [
    {
     "name": "stdout",
     "output_type": "stream",
     "text": [
      "Value Count: \n",
      "True     19197\n",
      "False     9158\n",
      "Name: Caters, dtype: int64\n",
      "Number of missing values  0\n"
     ]
    }
   ],
   "source": [
    "#assign missing value to True\n",
    "df.loc[df.Caters == 'None', 'Caters'] = 'True'\n",
    "df.Caters.fillna('True', inplace = True)\n",
    "get_column_info(df.Caters)"
   ]
  },
  {
   "cell_type": "code",
   "execution_count": 104,
   "id": "imposed-compiler",
   "metadata": {},
   "outputs": [
    {
     "name": "stdout",
     "output_type": "stream",
     "text": [
      "Value Count: \n",
      "1    19197\n",
      "0     9158\n",
      "Name: Caters, dtype: int64\n",
      "Number of missing values  0\n"
     ]
    }
   ],
   "source": [
    "df.Caters = label_encode(df.Caters)\n",
    "get_column_info(df.Caters)"
   ]
  },
  {
   "cell_type": "code",
   "execution_count": 105,
   "id": "extreme-illinois",
   "metadata": {},
   "outputs": [
    {
     "name": "stdout",
     "output_type": "stream",
     "text": [
      "Value Count: \n",
      "{'romantic': False, 'intimate': False, 'classy': False, 'hipster': False, 'divey': False, 'touristy': False, 'trendy': False, 'upscale': False, 'casual': True}     4780\n",
      "{'romantic': False, 'intimate': False, 'classy': False, 'hipster': False, 'divey': False, 'touristy': False, 'trendy': False, 'upscale': False, 'casual': False}    3203\n",
      "{'romantic': False, 'intimate': False, 'touristy': False, 'hipster': False, 'divey': False, 'classy': False, 'trendy': False, 'upscale': False, 'casual': True}     3006\n",
      "{'touristy': False, 'hipster': False, 'romantic': False, 'divey': False, 'intimate': False, 'trendy': False, 'upscale': False, 'classy': False, 'casual': False}    2094\n",
      "{'touristy': False, 'hipster': False, 'romantic': False, 'intimate': False, 'trendy': False, 'upscale': False, 'classy': False, 'casual': False}                    1774\n",
      "                                                                                                                                                                    ... \n",
      "{'touristy': None, 'hipster': None, 'romantic': None, 'divey': None, 'intimate': None, 'trendy': False, 'upscale': None, 'classy': None, 'casual': True}               1\n",
      "{'touristy': None, 'hipster': None, 'romantic': False, 'divey': False, 'intimate': None, 'trendy': True, 'upscale': None, 'classy': None, 'casual': True}              1\n",
      "{'touristy': False, 'hipster': None, 'romantic': None, 'divey': False, 'intimate': False, 'trendy': None, 'upscale': False, 'classy': False, 'casual': True}           1\n",
      "{'touristy': True, 'hipster': False, 'romantic': False, 'divey': False, 'intimate': False, 'trendy': False, 'upscale': False, 'classy': False, 'casual': False}        1\n",
      "{'touristy': False, 'hipster': True, 'romantic': None, 'divey': False, 'intimate': None, 'trendy': True, 'upscale': None, 'classy': None, 'casual': True}              1\n",
      "Name: Ambience, Length: 902, dtype: int64\n",
      "Number of missing values  1833\n"
     ]
    }
   ],
   "source": [
    "#need to work on\n",
    "get_column_info(df.Ambience)"
   ]
  },
  {
   "cell_type": "code",
   "execution_count": 106,
   "id": "given-limit",
   "metadata": {},
   "outputs": [
    {
     "name": "stdout",
     "output_type": "stream",
     "text": [
      "Value Count: \n",
      "False    2388\n",
      "True      234\n",
      "None        2\n",
      "Name: CoatCheck, dtype: int64\n",
      "Number of missing values  25731\n"
     ]
    }
   ],
   "source": [
    "get_column_info(df.CoatCheck)"
   ]
  },
  {
   "cell_type": "code",
   "execution_count": 107,
   "id": "hybrid-facing",
   "metadata": {},
   "outputs": [
    {
     "name": "stdout",
     "output_type": "stream",
     "text": [
      "Value Count: \n",
      "False    28121\n",
      "True       234\n",
      "Name: CoatCheck, dtype: int64\n",
      "Number of missing values  0\n"
     ]
    }
   ],
   "source": [
    "#assign missing value to False\n",
    "df.loc[df.CoatCheck == 'None', 'CoatCheck'] = 'False'\n",
    "df.CoatCheck.fillna('False', inplace = True)\n",
    "get_column_info(df.CoatCheck)"
   ]
  },
  {
   "cell_type": "code",
   "execution_count": 108,
   "id": "promotional-valuable",
   "metadata": {},
   "outputs": [
    {
     "name": "stdout",
     "output_type": "stream",
     "text": [
      "Value Count: \n",
      "0    28121\n",
      "1      234\n",
      "Name: CoatCheck, dtype: int64\n",
      "Number of missing values  0\n"
     ]
    }
   ],
   "source": [
    "df.CoatCheck = label_encode(df.CoatCheck)\n",
    "get_column_info(df.CoatCheck)"
   ]
  },
  {
   "cell_type": "code",
   "execution_count": 109,
   "id": "partial-pattern",
   "metadata": {},
   "outputs": [
    {
     "name": "stdout",
     "output_type": "stream",
     "text": [
      "Value Count: \n",
      "False    455\n",
      "True     152\n",
      "None       3\n",
      "Name: Corkage, dtype: int64\n",
      "Number of missing values  27745\n"
     ]
    }
   ],
   "source": [
    "get_column_info(df.Corkage)"
   ]
  },
  {
   "cell_type": "code",
   "execution_count": 110,
   "id": "lonely-spray",
   "metadata": {},
   "outputs": [
    {
     "name": "stdout",
     "output_type": "stream",
     "text": [
      "Value Count: \n",
      "False    28203\n",
      "True       152\n",
      "Name: Corkage, dtype: int64\n",
      "Number of missing values  0\n"
     ]
    }
   ],
   "source": [
    "#assign missing value to False\n",
    "df.loc[df.Corkage == 'None', 'Corkage'] = 'False'\n",
    "df.Corkage.fillna('False', inplace = True)\n",
    "get_column_info(df.Corkage)"
   ]
  },
  {
   "cell_type": "code",
   "execution_count": 111,
   "id": "binding-aruba",
   "metadata": {},
   "outputs": [
    {
     "name": "stdout",
     "output_type": "stream",
     "text": [
      "Value Count: \n",
      "0    28203\n",
      "1      152\n",
      "Name: Corkage, dtype: int64\n",
      "Number of missing values  0\n"
     ]
    }
   ],
   "source": [
    "df.Corkage = label_encode(df.Corkage)\n",
    "get_column_info(df.Corkage)"
   ]
  },
  {
   "cell_type": "code",
   "execution_count": 112,
   "id": "wrong-gender",
   "metadata": {},
   "outputs": [
    {
     "name": "stdout",
     "output_type": "stream",
     "text": [
      "Value Count: \n",
      "False    1123\n",
      "False     952\n",
      "True       61\n",
      "True       30\n",
      "None        2\n",
      "Name: ByAppointmentOnly, dtype: int64\n",
      "Number of missing values  26187\n"
     ]
    }
   ],
   "source": [
    "get_column_info(df.ByAppointmentOnly)"
   ]
  },
  {
   "cell_type": "code",
   "execution_count": 114,
   "id": "documented-cincinnati",
   "metadata": {},
   "outputs": [
    {
     "name": "stdout",
     "output_type": "stream",
     "text": [
      "Value Count: \n",
      "False    28264\n",
      "True        91\n",
      "Name: ByAppointmentOnly, dtype: int64\n",
      "Number of missing values  0\n"
     ]
    }
   ],
   "source": [
    "df.loc[df.ByAppointmentOnly == 'False', 'ByAppointmentOnly'] = False\n",
    "df.loc[df.ByAppointmentOnly == 'True', 'ByAppointmentOnly'] = True\n",
    "\n",
    "#assign missing value to False\n",
    "df.loc[df.ByAppointmentOnly == 'None', 'ByAppointmentOnly'] = False\n",
    "df.ByAppointmentOnly.fillna(False, inplace = True)\n",
    "get_column_info(df.ByAppointmentOnly)"
   ]
  },
  {
   "cell_type": "code",
   "execution_count": 115,
   "id": "governing-camping",
   "metadata": {},
   "outputs": [
    {
     "name": "stdout",
     "output_type": "stream",
     "text": [
      "Value Count: \n",
      "0    28264\n",
      "1       91\n",
      "Name: ByAppointmentOnly, dtype: int64\n",
      "Number of missing values  0\n"
     ]
    }
   ],
   "source": [
    "df.ByAppointmentOnly = label_encode(df.ByAppointmentOnly)\n",
    "get_column_info(df.ByAppointmentOnly)"
   ]
  },
  {
   "cell_type": "code",
   "execution_count": 116,
   "id": "fallen-fitness",
   "metadata": {},
   "outputs": [
    {
     "name": "stdout",
     "output_type": "stream",
     "text": [
      "Value Count: \n",
      "False    906\n",
      "False    880\n",
      "True     199\n",
      "True     164\n",
      "None       1\n",
      "Name: DriveThru, dtype: int64\n",
      "Number of missing values  26205\n"
     ]
    }
   ],
   "source": [
    "get_column_info(df.DriveThru)"
   ]
  },
  {
   "cell_type": "code",
   "execution_count": 117,
   "id": "hungry-limitation",
   "metadata": {},
   "outputs": [
    {
     "name": "stdout",
     "output_type": "stream",
     "text": [
      "Value Count: \n",
      "False    27992\n",
      "True       363\n",
      "Name: DriveThru, dtype: int64\n",
      "Number of missing values  0\n"
     ]
    }
   ],
   "source": [
    "df.loc[df.DriveThru == 'False', 'DriveThru'] = False\n",
    "df.loc[df.DriveThru == 'True', 'DriveThru'] = True\n",
    "\n",
    "#assign missing value to False\n",
    "df.loc[df.DriveThru == 'None', 'DriveThru'] = False\n",
    "df.DriveThru.fillna(False, inplace = True)\n",
    "get_column_info(df.DriveThru)"
   ]
  },
  {
   "cell_type": "code",
   "execution_count": 118,
   "id": "cognitive-handle",
   "metadata": {},
   "outputs": [
    {
     "name": "stdout",
     "output_type": "stream",
     "text": [
      "Value Count: \n",
      "0    27992\n",
      "1      363\n",
      "Name: DriveThru, dtype: int64\n",
      "Number of missing values  0\n"
     ]
    }
   ],
   "source": [
    "df.DriveThru = label_encode(df.DriveThru)\n",
    "get_column_info(df.DriveThru)"
   ]
  },
  {
   "cell_type": "code",
   "execution_count": 119,
   "id": "corresponding-desperate",
   "metadata": {},
   "outputs": [
    {
     "name": "stdout",
     "output_type": "stream",
     "text": [
      "Value Count: \n",
      "True     20078\n",
      "False     6333\n",
      "None        14\n",
      "Name: HasTV, dtype: int64\n",
      "Number of missing values  1930\n"
     ]
    }
   ],
   "source": [
    "get_column_info(df.HasTV)"
   ]
  },
  {
   "cell_type": "code",
   "execution_count": 120,
   "id": "excellent-nicholas",
   "metadata": {},
   "outputs": [
    {
     "name": "stdout",
     "output_type": "stream",
     "text": [
      "Value Count: \n",
      "True     22022\n",
      "False     6333\n",
      "Name: HasTV, dtype: int64\n",
      "Number of missing values  0\n"
     ]
    }
   ],
   "source": [
    "#assign missing value to False\n",
    "df.loc[df.HasTV == 'None', 'HasTV'] = 'True'\n",
    "df.HasTV.fillna('True', inplace = True)\n",
    "get_column_info(df.HasTV)"
   ]
  },
  {
   "cell_type": "code",
   "execution_count": 121,
   "id": "sharp-naples",
   "metadata": {},
   "outputs": [
    {
     "name": "stdout",
     "output_type": "stream",
     "text": [
      "Value Count: \n",
      "1    22022\n",
      "0     6333\n",
      "Name: HasTV, dtype: int64\n",
      "Number of missing values  0\n"
     ]
    }
   ],
   "source": [
    "df.HasTV = label_encode(df.HasTV)\n",
    "get_column_info(df.HasTV)"
   ]
  },
  {
   "cell_type": "code",
   "execution_count": 122,
   "id": "assured-yorkshire",
   "metadata": {},
   "outputs": [
    {
     "name": "stdout",
     "output_type": "stream",
     "text": [
      "Value Count: \n",
      "True     13648\n",
      "False    13447\n",
      "None       136\n",
      "Name: RestaurantsReservations, dtype: int64\n",
      "Number of missing values  1124\n"
     ]
    }
   ],
   "source": [
    "#same as ByAppointmentOnly\n",
    "get_column_info(df.RestaurantsReservations)"
   ]
  },
  {
   "cell_type": "code",
   "execution_count": 123,
   "id": "creative-typing",
   "metadata": {},
   "outputs": [
    {
     "data": {
      "text/plain": [
       "87       False\n",
       "488       True\n",
       "1430       NaN\n",
       "1531      True\n",
       "1535      True\n",
       "         ...  \n",
       "28556     True\n",
       "28609     True\n",
       "29836     True\n",
       "30144     True\n",
       "31810     True\n",
       "Name: RestaurantsReservations, Length: 91, dtype: object"
      ]
     },
     "execution_count": 123,
     "metadata": {},
     "output_type": "execute_result"
    }
   ],
   "source": [
    "df[df.ByAppointmentOnly == 1].RestaurantsReservations"
   ]
  },
  {
   "cell_type": "code",
   "execution_count": 124,
   "id": "typical-module",
   "metadata": {},
   "outputs": [
    {
     "data": {
      "text/plain": [
       "(28355, 43)"
      ]
     },
     "execution_count": 124,
     "metadata": {},
     "output_type": "execute_result"
    }
   ],
   "source": [
    "#remove the ByAppointmentOnly column\n",
    "df.drop('ByAppointmentOnly', axis=1, inplace=True)\n",
    "df.shape"
   ]
  },
  {
   "cell_type": "code",
   "execution_count": 125,
   "id": "banner-burlington",
   "metadata": {},
   "outputs": [
    {
     "name": "stdout",
     "output_type": "stream",
     "text": [
      "Value Count: \n",
      "False    14707\n",
      "True     13648\n",
      "Name: RestaurantsReservations, dtype: int64\n",
      "Number of missing values  0\n"
     ]
    }
   ],
   "source": [
    "#assign missing value to False\n",
    "df.loc[df.RestaurantsReservations == 'None', 'RestaurantsReservations'] = 'False'\n",
    "df.RestaurantsReservations.fillna('False', inplace = True)\n",
    "get_column_info(df.RestaurantsReservations)"
   ]
  },
  {
   "cell_type": "code",
   "execution_count": 126,
   "id": "improving-latvia",
   "metadata": {},
   "outputs": [
    {
     "name": "stdout",
     "output_type": "stream",
     "text": [
      "Value Count: \n",
      "0    14707\n",
      "1    13648\n",
      "Name: RestaurantsReservations, dtype: int64\n",
      "Number of missing values  0\n"
     ]
    }
   ],
   "source": [
    "df.RestaurantsReservations = label_encode(df.RestaurantsReservations)\n",
    "get_column_info(df.RestaurantsReservations)"
   ]
  },
  {
   "cell_type": "code",
   "execution_count": 127,
   "id": "racial-holder",
   "metadata": {},
   "outputs": [
    {
     "name": "stdout",
     "output_type": "stream",
     "text": [
      "Value Count: \n",
      "{'dj': False, 'background_music': False, 'no_music': False, 'jukebox': False, 'live': False, 'video': False, 'karaoke': False}    2527\n",
      "{'dj': False, 'background_music': False, 'no_music': False, 'jukebox': False, 'live': True, 'video': False, 'karaoke': False}      471\n",
      "{'dj': False}                                                                                                                      228\n",
      "{'dj': False, 'background_music': False, 'no_music': False, 'jukebox': True, 'live': False, 'video': False, 'karaoke': False}      114\n",
      "{'dj': False, 'background_music': True, 'no_music': False, 'jukebox': False, 'live': False, 'video': False, 'karaoke': False}       75\n",
      "                                                                                                                                  ... \n",
      "{'dj': True, 'background_music': True, 'no_music': False, 'jukebox': False, 'live': True, 'video': True, 'karaoke': False}           1\n",
      "{'dj': False, 'live': True, 'video': False, 'jukebox': False}                                                                        1\n",
      "{'dj': False, 'background_music': False, 'no_music': False, 'jukebox': False, 'live': True, 'video': False, 'karaoke': True}         1\n",
      "{'dj': None, 'background_music': False, 'no_music': False, 'jukebox': False, 'live': None, 'video': False, 'karaoke': True}          1\n",
      "{'dj': False, 'background_music': True, 'no_music': False, 'jukebox': False, 'live': False, 'video': True, 'karaoke': False}         1\n",
      "Name: Music, Length: 81, dtype: int64\n",
      "Number of missing values  24273\n"
     ]
    }
   ],
   "source": [
    "#need to work on\n",
    "get_column_info(df.Music)"
   ]
  },
  {
   "cell_type": "code",
   "execution_count": 128,
   "id": "breeding-nancy",
   "metadata": {},
   "outputs": [
    {
     "name": "stdout",
     "output_type": "stream",
     "text": [
      "Value Count: \n",
      "True     27818\n",
      "False      537\n",
      "Name: open_weekend, dtype: int64\n",
      "Number of missing values  0\n"
     ]
    }
   ],
   "source": [
    "get_column_info(df.open_weekend)"
   ]
  },
  {
   "cell_type": "code",
   "execution_count": 129,
   "id": "oriental-speech",
   "metadata": {},
   "outputs": [
    {
     "name": "stdout",
     "output_type": "stream",
     "text": [
      "Value Count: \n",
      "1    27818\n",
      "0      537\n",
      "Name: open_weekend, dtype: int64\n",
      "Number of missing values  0\n"
     ]
    }
   ],
   "source": [
    "df.open_weekend = label_encode(df.open_weekend)\n",
    "get_column_info(df.open_weekend)"
   ]
  },
  {
   "cell_type": "code",
   "execution_count": 130,
   "id": "mysterious-dressing",
   "metadata": {},
   "outputs": [
    {
     "name": "stdout",
     "output_type": "stream",
     "text": [
      "Value Count: \n",
      "{'dairy-free': False, 'gluten-free': True, 'vegan': False, 'kosher': False, 'halal': False, 'soy-free': False, 'vegetarian': False}    6\n",
      "None                                                                                                                                   6\n",
      "{'dairy-free': False, 'gluten-free': False, 'vegan': False, 'kosher': False, 'halal': False, 'soy-free': False, 'vegetarian': True}    4\n",
      "{'dairy-free': False, 'gluten-free': False, 'vegan': True, 'kosher': False, 'halal': False, 'soy-free': False, 'vegetarian': False}    3\n",
      "{'dairy-free': False, 'gluten-free': True, 'vegan': True, 'kosher': False, 'halal': False, 'soy-free': False, 'vegetarian': False}     3\n",
      "{'dairy-free': False, 'gluten-free': False, 'vegan': True, 'kosher': False, 'halal': False, 'soy-free': False, 'vegetarian': True}     2\n",
      "{'dairy-free': True, 'gluten-free': False, 'vegan': True, 'kosher': False, 'halal': False, 'soy-free': False, 'vegetarian': True}      1\n",
      "{'dairy-free': False, 'gluten-free': True, 'vegan': False, 'kosher': False, 'halal': False, 'soy-free': False, 'vegetarian': True}     1\n",
      "{'dairy-free': False, 'gluten-free': False, 'vegan': False, 'kosher': False, 'halal': True, 'soy-free': False, 'vegetarian': False}    1\n",
      "Name: DietaryRestrictions, dtype: int64\n",
      "Number of missing values  28328\n"
     ]
    }
   ],
   "source": [
    "#There are few features that need extra work\n",
    "#DietaryRestrictions, BestNights, BusinessParking, Music, Ambience, GoodForMeal\n",
    "get_column_info(df.DietaryRestrictions)"
   ]
  },
  {
   "cell_type": "code",
   "execution_count": 131,
   "id": "usual-account",
   "metadata": {},
   "outputs": [
    {
     "data": {
      "text/plain": [
       "(28355, 42)"
      ]
     },
     "execution_count": 131,
     "metadata": {},
     "output_type": "execute_result"
    }
   ],
   "source": [
    "#most have NaN value - remove this column\n",
    "df.drop('DietaryRestrictions', axis=1, inplace=True)\n",
    "df.shape"
   ]
  },
  {
   "cell_type": "code",
   "execution_count": 132,
   "id": "starting-helen",
   "metadata": {},
   "outputs": [
    {
     "name": "stdout",
     "output_type": "stream",
     "text": [
      "Value Count: \n",
      "{'monday': False, 'tuesday': False, 'friday': True, 'wednesday': False, 'thursday': True, 'sunday': False, 'saturday': True}       501\n",
      "{'monday': False, 'tuesday': False, 'friday': False, 'wednesday': False, 'thursday': False, 'sunday': False, 'saturday': False}    480\n",
      "{'monday': False, 'tuesday': False, 'friday': True, 'wednesday': False, 'thursday': False, 'sunday': True, 'saturday': True}       295\n",
      "{'monday': False, 'tuesday': False, 'friday': False, 'wednesday': False, 'thursday': False, 'sunday': False, 'saturday': True}     196\n",
      "{'monday': False, 'tuesday': False, 'friday': True, 'wednesday': False, 'thursday': False, 'sunday': False, 'saturday': True}      170\n",
      "                                                                                                                                  ... \n",
      "{'monday': False, 'tuesday': True, 'friday': False, 'wednesday': True, 'thursday': False, 'sunday': False, 'saturday': False}        4\n",
      "{'monday': True, 'tuesday': False, 'friday': False, 'wednesday': True, 'thursday': False, 'sunday': False, 'saturday': False}        4\n",
      "{'monday': True, 'tuesday': True, 'friday': False, 'wednesday': False, 'thursday': False, 'sunday': False, 'saturday': False}        2\n",
      "{'monday': True, 'tuesday': False, 'friday': False, 'wednesday': True, 'thursday': False, 'sunday': True, 'saturday': False}         1\n",
      "{'monday': False, 'tuesday': True, 'friday': False, 'wednesday': False, 'thursday': True, 'sunday': True, 'saturday': False}         1\n",
      "Name: BestNights, Length: 65, dtype: int64\n",
      "Number of missing values  25167\n"
     ]
    }
   ],
   "source": [
    "get_column_info(df.BestNights)"
   ]
  },
  {
   "cell_type": "code",
   "execution_count": 133,
   "id": "unexpected-greek",
   "metadata": {},
   "outputs": [
    {
     "data": {
      "text/plain": [
       "(28355, 41)"
      ]
     },
     "execution_count": 133,
     "metadata": {},
     "output_type": "execute_result"
    }
   ],
   "source": [
    "#we consider the resturants rather than bar/club so we can remove this column\n",
    "#many rows don't have this data \n",
    "df.drop('BestNights', axis=1, inplace=True)\n",
    "df.shape"
   ]
  },
  {
   "cell_type": "code",
   "execution_count": 134,
   "id": "strategic-commodity",
   "metadata": {},
   "outputs": [
    {
     "name": "stdout",
     "output_type": "stream",
     "text": [
      "Value Count: \n",
      "{'garage': False, 'street': False, 'validated': False, 'lot': True, 'valet': False}     11393\n",
      "{'garage': False, 'street': False, 'validated': False, 'lot': False, 'valet': False}     6491\n",
      "{'garage': False, 'street': True, 'validated': False, 'lot': False, 'valet': False}      4327\n",
      "{'garage': False, 'street': True, 'validated': False, 'lot': True, 'valet': False}       1143\n",
      "{'garage': True, 'street': False, 'validated': False, 'lot': False, 'valet': False}       511\n",
      "                                                                                        ...  \n",
      "{'garage': None, 'street': True, 'validated': False, 'lot': True, 'valet': False}           1\n",
      "{'garage': None, 'street': None, 'validated': True, 'lot': True, 'valet': False}            1\n",
      "{'garage': True, 'street': None, 'validated': None, 'lot': True, 'valet': False}            1\n",
      "{'garage': False, 'validated': False, 'street': False, 'lot': False, 'valet': False}        1\n",
      "{'garage': True, 'street': False, 'validated': None, 'lot': True, 'valet': False}           1\n",
      "Name: BusinessParking, Length: 79, dtype: int64\n",
      "Number of missing values  1653\n"
     ]
    }
   ],
   "source": [
    "get_column_info(df.BusinessParking)"
   ]
  },
  {
   "cell_type": "code",
   "execution_count": 135,
   "id": "juvenile-pearl",
   "metadata": {},
   "outputs": [],
   "source": [
    "def is_parking_available(df_column):\n",
    "    if not isinstance(df_column, float) and df_column is not None:\n",
    "        return df_column.get('garage') or df_column.get('street') or df_column.get('lot') or df_column.get('valet')\n",
    "    else:\n",
    "        return False"
   ]
  },
  {
   "cell_type": "code",
   "execution_count": 136,
   "id": "prescribed-democracy",
   "metadata": {},
   "outputs": [
    {
     "name": "stdout",
     "output_type": "stream",
     "text": [
      "Value Count: \n",
      "True     19475\n",
      "False     8880\n",
      "Name: Parking, dtype: int64\n",
      "Number of missing values  0\n"
     ]
    }
   ],
   "source": [
    "#let consider four keys: garage, street, lot, and valet\n",
    "#if any value of them are True then they have parking\n",
    "\n",
    "df['Parking'] = df.BusinessParking.apply(lambda x: is_parking_available(literal_return(x)))\n",
    "get_column_info(df.Parking)"
   ]
  },
  {
   "cell_type": "code",
   "execution_count": 137,
   "id": "royal-values",
   "metadata": {},
   "outputs": [
    {
     "data": {
      "text/plain": [
       "(28355, 41)"
      ]
     },
     "execution_count": 137,
     "metadata": {},
     "output_type": "execute_result"
    }
   ],
   "source": [
    "#drop BusinessParking\n",
    "df.drop('BusinessParking', axis=1, inplace=True)\n",
    "df.shape"
   ]
  },
  {
   "cell_type": "code",
   "execution_count": 138,
   "id": "living-europe",
   "metadata": {},
   "outputs": [
    {
     "name": "stdout",
     "output_type": "stream",
     "text": [
      "Value Count: \n",
      "1    19475\n",
      "0     8880\n",
      "Name: Parking, dtype: int64\n",
      "Number of missing values  0\n"
     ]
    }
   ],
   "source": [
    "df.Parking = label_encode(df.Parking)\n",
    "get_column_info(df.Parking)"
   ]
  },
  {
   "cell_type": "code",
   "execution_count": 139,
   "id": "humanitarian-throw",
   "metadata": {},
   "outputs": [
    {
     "name": "stdout",
     "output_type": "stream",
     "text": [
      "Value Count: \n",
      "{'romantic': False, 'intimate': False, 'classy': False, 'hipster': False, 'divey': False, 'touristy': False, 'trendy': False, 'upscale': False, 'casual': True}     4780\n",
      "{'romantic': False, 'intimate': False, 'classy': False, 'hipster': False, 'divey': False, 'touristy': False, 'trendy': False, 'upscale': False, 'casual': False}    3203\n",
      "{'romantic': False, 'intimate': False, 'touristy': False, 'hipster': False, 'divey': False, 'classy': False, 'trendy': False, 'upscale': False, 'casual': True}     3006\n",
      "{'touristy': False, 'hipster': False, 'romantic': False, 'divey': False, 'intimate': False, 'trendy': False, 'upscale': False, 'classy': False, 'casual': False}    2094\n",
      "{'touristy': False, 'hipster': False, 'romantic': False, 'intimate': False, 'trendy': False, 'upscale': False, 'classy': False, 'casual': False}                    1774\n",
      "                                                                                                                                                                    ... \n",
      "{'touristy': None, 'hipster': None, 'romantic': None, 'divey': None, 'intimate': None, 'trendy': False, 'upscale': None, 'classy': None, 'casual': True}               1\n",
      "{'touristy': None, 'hipster': None, 'romantic': False, 'divey': False, 'intimate': None, 'trendy': True, 'upscale': None, 'classy': None, 'casual': True}              1\n",
      "{'touristy': False, 'hipster': None, 'romantic': None, 'divey': False, 'intimate': False, 'trendy': None, 'upscale': False, 'classy': False, 'casual': True}           1\n",
      "{'touristy': True, 'hipster': False, 'romantic': False, 'divey': False, 'intimate': False, 'trendy': False, 'upscale': False, 'classy': False, 'casual': False}        1\n",
      "{'touristy': False, 'hipster': True, 'romantic': None, 'divey': False, 'intimate': None, 'trendy': True, 'upscale': None, 'classy': None, 'casual': True}              1\n",
      "Name: Ambience, Length: 902, dtype: int64\n",
      "Number of missing values  1833\n"
     ]
    }
   ],
   "source": [
    "get_column_info(df.Ambience)"
   ]
  },
  {
   "cell_type": "code",
   "execution_count": 140,
   "id": "civil-swaziland",
   "metadata": {},
   "outputs": [],
   "source": [
    "#find out unique key of Ambience\n",
    "ambience_list = df.Ambience.to_list()\n",
    "ambience_list = [ambience for ambience in ambience_list if str(ambience) != 'nan' and ambience is not None and str(ambience) != 'None']\n",
    "\n",
    "ambience_list = [list(ast.literal_eval(ambience).keys()) for ambience in ambience_list  if not isinstance(ambience, float) and ambience is not None]\n",
    "ambience_list = [item for sublist in ambience_list for item in sublist]\n",
    "ambience_list = list(set(ambience_list))"
   ]
  },
  {
   "cell_type": "code",
   "execution_count": 141,
   "id": "hundred-typing",
   "metadata": {},
   "outputs": [
    {
     "data": {
      "text/plain": [
       "['hipster',\n",
       " 'trendy',\n",
       " 'intimate',\n",
       " 'romantic',\n",
       " 'touristy',\n",
       " 'casual',\n",
       " 'classy',\n",
       " 'upscale',\n",
       " 'divey']"
      ]
     },
     "execution_count": 141,
     "metadata": {},
     "output_type": "execute_result"
    }
   ],
   "source": [
    "ambience_list"
   ]
  },
  {
   "cell_type": "code",
   "execution_count": 142,
   "id": "billion-wayne",
   "metadata": {},
   "outputs": [],
   "source": [
    "def get_value(df_column, key_name):\n",
    "    if str(df_column) != 'nan' and df_column is not None and str(df_column) != 'None':\n",
    "        value = df_column.get(key_name)\n",
    "        if str(value) != 'None':\n",
    "            return value\n",
    "        else:\n",
    "            return False\n",
    "    else:\n",
    "        return False"
   ]
  },
  {
   "cell_type": "code",
   "execution_count": 143,
   "id": "personal-trout",
   "metadata": {},
   "outputs": [],
   "source": [
    "for ambience in ambience_list:\n",
    "    df[ambience] = df.Ambience.apply(lambda x: get_value(literal_return(x), ambience))"
   ]
  },
  {
   "cell_type": "code",
   "execution_count": 144,
   "id": "talented-trader",
   "metadata": {},
   "outputs": [
    {
     "name": "stdout",
     "output_type": "stream",
     "text": [
      "Value Count: \n",
      "False    27845\n",
      "True       510\n",
      "Name: hipster, dtype: int64\n",
      "Number of missing values  0\n",
      "Value Count: \n",
      "False    26522\n",
      "True      1833\n",
      "Name: trendy, dtype: int64\n",
      "Number of missing values  0\n",
      "Value Count: \n",
      "False    27839\n",
      "True       516\n",
      "Name: intimate, dtype: int64\n",
      "Number of missing values  0\n",
      "Value Count: \n",
      "False    27870\n",
      "True       485\n",
      "Name: romantic, dtype: int64\n",
      "Number of missing values  0\n",
      "Value Count: \n",
      "False    28224\n",
      "True       131\n",
      "Name: touristy, dtype: int64\n",
      "Number of missing values  0\n",
      "Value Count: \n",
      "True     14467\n",
      "False    13888\n",
      "Name: casual, dtype: int64\n",
      "Number of missing values  0\n",
      "Value Count: \n",
      "False    24079\n",
      "True      4276\n",
      "Name: classy, dtype: int64\n",
      "Number of missing values  0\n",
      "Value Count: \n",
      "False    28001\n",
      "True       354\n",
      "Name: upscale, dtype: int64\n",
      "Number of missing values  0\n",
      "Value Count: \n",
      "False    27918\n",
      "True       437\n",
      "Name: divey, dtype: int64\n",
      "Number of missing values  0\n"
     ]
    }
   ],
   "source": [
    "for ambience in ambience_list:\n",
    "    get_column_info(df[ambience])"
   ]
  },
  {
   "cell_type": "code",
   "execution_count": 145,
   "id": "arctic-germany",
   "metadata": {},
   "outputs": [
    {
     "data": {
      "text/plain": [
       "(28355, 49)"
      ]
     },
     "execution_count": 145,
     "metadata": {},
     "output_type": "execute_result"
    }
   ],
   "source": [
    "#drop Ambience column\n",
    "df.drop('Ambience', axis=1, inplace=True)\n",
    "df.shape"
   ]
  },
  {
   "cell_type": "code",
   "execution_count": 146,
   "id": "duplicate-brooklyn",
   "metadata": {},
   "outputs": [
    {
     "name": "stdout",
     "output_type": "stream",
     "text": [
      "Value Count: \n",
      "0    27845\n",
      "1      510\n",
      "Name: hipster, dtype: int64\n",
      "Number of missing values  0\n",
      "Value Count: \n",
      "0    26522\n",
      "1     1833\n",
      "Name: trendy, dtype: int64\n",
      "Number of missing values  0\n",
      "Value Count: \n",
      "0    27839\n",
      "1      516\n",
      "Name: intimate, dtype: int64\n",
      "Number of missing values  0\n",
      "Value Count: \n",
      "0    27870\n",
      "1      485\n",
      "Name: romantic, dtype: int64\n",
      "Number of missing values  0\n",
      "Value Count: \n",
      "0    28224\n",
      "1      131\n",
      "Name: touristy, dtype: int64\n",
      "Number of missing values  0\n",
      "Value Count: \n",
      "1    14467\n",
      "0    13888\n",
      "Name: casual, dtype: int64\n",
      "Number of missing values  0\n",
      "Value Count: \n",
      "0    24079\n",
      "1     4276\n",
      "Name: classy, dtype: int64\n",
      "Number of missing values  0\n",
      "Value Count: \n",
      "0    28001\n",
      "1      354\n",
      "Name: upscale, dtype: int64\n",
      "Number of missing values  0\n",
      "Value Count: \n",
      "0    27918\n",
      "1      437\n",
      "Name: divey, dtype: int64\n",
      "Number of missing values  0\n"
     ]
    }
   ],
   "source": [
    "for ambience in ambience_list:\n",
    "    df[ambience] = label_encode(df[ambience])\n",
    "    get_column_info(df[ambience])"
   ]
  },
  {
   "cell_type": "code",
   "execution_count": 147,
   "id": "prescription-gospel",
   "metadata": {},
   "outputs": [
    {
     "name": "stdout",
     "output_type": "stream",
     "text": [
      "Value Count: \n",
      "{'dj': False, 'background_music': False, 'no_music': False, 'jukebox': False, 'live': False, 'video': False, 'karaoke': False}    2527\n",
      "{'dj': False, 'background_music': False, 'no_music': False, 'jukebox': False, 'live': True, 'video': False, 'karaoke': False}      471\n",
      "{'dj': False}                                                                                                                      228\n",
      "{'dj': False, 'background_music': False, 'no_music': False, 'jukebox': True, 'live': False, 'video': False, 'karaoke': False}      114\n",
      "{'dj': False, 'background_music': True, 'no_music': False, 'jukebox': False, 'live': False, 'video': False, 'karaoke': False}       75\n",
      "                                                                                                                                  ... \n",
      "{'dj': True, 'background_music': True, 'no_music': False, 'jukebox': False, 'live': True, 'video': True, 'karaoke': False}           1\n",
      "{'dj': False, 'live': True, 'video': False, 'jukebox': False}                                                                        1\n",
      "{'dj': False, 'background_music': False, 'no_music': False, 'jukebox': False, 'live': True, 'video': False, 'karaoke': True}         1\n",
      "{'dj': None, 'background_music': False, 'no_music': False, 'jukebox': False, 'live': None, 'video': False, 'karaoke': True}          1\n",
      "{'dj': False, 'background_music': True, 'no_music': False, 'jukebox': False, 'live': False, 'video': True, 'karaoke': False}         1\n",
      "Name: Music, Length: 81, dtype: int64\n",
      "Number of missing values  24273\n"
     ]
    }
   ],
   "source": [
    "get_column_info(df.Music)"
   ]
  },
  {
   "cell_type": "code",
   "execution_count": 148,
   "id": "forced-nursery",
   "metadata": {},
   "outputs": [],
   "source": [
    "#if any value except  no_music, video then treat as turn on music\n",
    "def is_music_available(df_column):\n",
    "    if not isinstance(df_column, float) and df_column is not None:\n",
    "        value = df_column.get('dj') or df_column.get('background_music') or df_column.get('jukebox') or df_column.get('live') or df_column.get('karaoke')\n",
    "        if not isinstance(value, float) and value is not None:\n",
    "            return value\n",
    "        else:\n",
    "            return False\n",
    "    else:\n",
    "        return False"
   ]
  },
  {
   "cell_type": "code",
   "execution_count": 149,
   "id": "mysterious-appendix",
   "metadata": {},
   "outputs": [
    {
     "name": "stdout",
     "output_type": "stream",
     "text": [
      "Value Count: \n",
      "False    27356\n",
      "True       999\n",
      "Name: OpenMusic, dtype: int64\n",
      "Number of missing values  0\n"
     ]
    }
   ],
   "source": [
    "df['OpenMusic'] = df.Music.apply(lambda x: is_music_available(literal_return(x)))\n",
    "get_column_info(df.OpenMusic)"
   ]
  },
  {
   "cell_type": "code",
   "execution_count": 150,
   "id": "competitive-apple",
   "metadata": {},
   "outputs": [
    {
     "data": {
      "text/plain": [
       "(28355, 49)"
      ]
     },
     "execution_count": 150,
     "metadata": {},
     "output_type": "execute_result"
    }
   ],
   "source": [
    "#drop Music column\n",
    "df.drop('Music', axis=1, inplace=True)\n",
    "df.shape"
   ]
  },
  {
   "cell_type": "code",
   "execution_count": 151,
   "id": "applied-finder",
   "metadata": {},
   "outputs": [
    {
     "name": "stdout",
     "output_type": "stream",
     "text": [
      "Value Count: \n",
      "0    27356\n",
      "1      999\n",
      "Name: OpenMusic, dtype: int64\n",
      "Number of missing values  0\n"
     ]
    }
   ],
   "source": [
    "df.OpenMusic = label_encode(df.OpenMusic)\n",
    "get_column_info(df.OpenMusic)"
   ]
  },
  {
   "cell_type": "code",
   "execution_count": 152,
   "id": "renewable-shopping",
   "metadata": {},
   "outputs": [
    {
     "name": "stdout",
     "output_type": "stream",
     "text": [
      "Value Count: \n",
      "{'dessert': False, 'latenight': False, 'lunch': False, 'dinner': False, 'brunch': False, 'breakfast': False}    5241\n",
      "{'dessert': False, 'latenight': False, 'lunch': True, 'dinner': True, 'brunch': False, 'breakfast': False}      5046\n",
      "{'dessert': False, 'latenight': False, 'lunch': False, 'dinner': True, 'brunch': False, 'breakfast': False}     1874\n",
      "{'dessert': False, 'latenight': False, 'lunch': True, 'dinner': False, 'brunch': False, 'breakfast': False}     1747\n",
      "{'dessert': False, 'latenight': False, 'lunch': True, 'dinner': False, 'brunch': True, 'breakfast': True}        438\n",
      "                                                                                                                ... \n",
      "{'dessert': None, 'latenight': None, 'lunch': False, 'dinner': True, 'brunch': None, 'breakfast': False}           1\n",
      "{'dessert': False, 'latenight': True, 'lunch': True, 'dinner': None, 'brunch': False, 'breakfast': False}          1\n",
      "{'dessert': None, 'latenight': False, 'lunch': True, 'dinner': None, 'brunch': False, 'breakfast': False}          1\n",
      "{'dessert': None, 'latenight': True, 'lunch': True, 'dinner': True, 'brunch': False, 'breakfast': None}            1\n",
      "{'dessert': False, 'latenight': True, 'lunch': True, 'dinner': False, 'brunch': True, 'breakfast': False}          1\n",
      "Name: GoodForMeal, Length: 266, dtype: int64\n",
      "Number of missing values  7999\n"
     ]
    }
   ],
   "source": [
    "get_column_info(df.GoodForMeal)"
   ]
  },
  {
   "cell_type": "code",
   "execution_count": null,
   "id": "welcome-yahoo",
   "metadata": {},
   "outputs": [],
   "source": [
    "# there are 3462 resturants with missing values\n",
    "# drop these rows\n",
    "df = df.dropna(axis=0, subset=['GoodForMeal'])\n",
    "df = df[df.GoodForMeal != 'None']\n",
    "get_column_info(df.GoodForMeal)"
   ]
  },
  {
   "cell_type": "code",
   "execution_count": 153,
   "id": "continuous-summer",
   "metadata": {},
   "outputs": [],
   "source": [
    "meal_list = df.GoodForMeal.to_list()\n",
    "meal_list = [meal for meal in meal_list if str(meal) != 'nan' and meal is not None and str(meal) != 'None']\n",
    "\n",
    "meal_list = [list(ast.literal_eval(meal).keys()) for meal in meal_list  if not isinstance(meal, float) and meal is not None and str(meal) != 'None']\n",
    "meal_list = [item for sublist in meal_list for item in sublist]\n",
    "meal_list = list(set(meal_list))"
   ]
  },
  {
   "cell_type": "code",
   "execution_count": 154,
   "id": "floating-valentine",
   "metadata": {},
   "outputs": [
    {
     "data": {
      "text/plain": [
       "['brunch', 'dinner', 'breakfast', 'latenight', 'lunch', 'dessert']"
      ]
     },
     "execution_count": 154,
     "metadata": {},
     "output_type": "execute_result"
    }
   ],
   "source": [
    "meal_list"
   ]
  },
  {
   "cell_type": "code",
   "execution_count": 155,
   "id": "concrete-elder",
   "metadata": {},
   "outputs": [],
   "source": [
    "for meal in meal_list:\n",
    "    df[meal] = df.GoodForMeal.apply(lambda x: get_value(literal_return(x), meal))"
   ]
  },
  {
   "cell_type": "code",
   "execution_count": 156,
   "id": "musical-species",
   "metadata": {},
   "outputs": [
    {
     "name": "stdout",
     "output_type": "stream",
     "text": [
      "Value Count: \n",
      "False    26185\n",
      "True      2170\n",
      "Name: brunch, dtype: int64\n",
      "Number of missing values  0\n",
      "Value Count: \n",
      "False    17447\n",
      "True     10908\n",
      "Name: dinner, dtype: int64\n",
      "Number of missing values  0\n",
      "Value Count: \n",
      "False    26691\n",
      "True      1664\n",
      "Name: breakfast, dtype: int64\n",
      "Number of missing values  0\n",
      "Value Count: \n",
      "False    26912\n",
      "True      1443\n",
      "Name: latenight, dtype: int64\n",
      "Number of missing values  0\n",
      "Value Count: \n",
      "False    17231\n",
      "True     11124\n",
      "Name: lunch, dtype: int64\n",
      "Number of missing values  0\n",
      "Value Count: \n",
      "False    26963\n",
      "True      1392\n",
      "Name: dessert, dtype: int64\n",
      "Number of missing values  0\n"
     ]
    }
   ],
   "source": [
    "for meal in meal_list:\n",
    "    get_column_info(df[meal])"
   ]
  },
  {
   "cell_type": "code",
   "execution_count": 157,
   "id": "irish-cross",
   "metadata": {},
   "outputs": [
    {
     "data": {
      "text/plain": [
       "(28355, 54)"
      ]
     },
     "execution_count": 157,
     "metadata": {},
     "output_type": "execute_result"
    }
   ],
   "source": [
    "df.drop('GoodForMeal', axis=1, inplace=True)\n",
    "df.shape"
   ]
  },
  {
   "cell_type": "code",
   "execution_count": 158,
   "id": "cross-attempt",
   "metadata": {},
   "outputs": [
    {
     "name": "stdout",
     "output_type": "stream",
     "text": [
      "Value Count: \n",
      "0    26185\n",
      "1     2170\n",
      "Name: brunch, dtype: int64\n",
      "Number of missing values  0\n",
      "Value Count: \n",
      "0    17447\n",
      "1    10908\n",
      "Name: dinner, dtype: int64\n",
      "Number of missing values  0\n",
      "Value Count: \n",
      "0    26691\n",
      "1     1664\n",
      "Name: breakfast, dtype: int64\n",
      "Number of missing values  0\n",
      "Value Count: \n",
      "0    26912\n",
      "1     1443\n",
      "Name: latenight, dtype: int64\n",
      "Number of missing values  0\n",
      "Value Count: \n",
      "0    17231\n",
      "1    11124\n",
      "Name: lunch, dtype: int64\n",
      "Number of missing values  0\n",
      "Value Count: \n",
      "0    26963\n",
      "1     1392\n",
      "Name: dessert, dtype: int64\n",
      "Number of missing values  0\n"
     ]
    }
   ],
   "source": [
    "for meal in meal_list:\n",
    "    df[meal] = label_encode(df[meal])\n",
    "    get_column_info(df[meal])"
   ]
  },
  {
   "cell_type": "code",
   "execution_count": 159,
   "id": "fuzzy-progress",
   "metadata": {},
   "outputs": [
    {
     "name": "stdout",
     "output_type": "stream",
     "text": [
      "Value Count: \n",
      "American (Traditional)    5013\n",
      "Mexican                   3481\n",
      "Italian                   3436\n",
      "American (New)            3092\n",
      "Chinese                   2491\n",
      "                          ... \n",
      "Trinidadian                  4\n",
      "Czech                        4\n",
      "Uzbek                        2\n",
      "Mauritius                    2\n",
      "Bulgarian                    1\n",
      "Name: Cursine, Length: 68, dtype: int64\n",
      "Number of missing values  0\n"
     ]
    }
   ],
   "source": [
    "get_column_info(df.Cursine)"
   ]
  },
  {
   "cell_type": "code",
   "execution_count": 160,
   "id": "historical-thermal",
   "metadata": {},
   "outputs": [
    {
     "name": "stdout",
     "output_type": "stream",
     "text": [
      "Value Count: \n",
      "3     5013\n",
      "44    3481\n",
      "36    3436\n",
      "2     3092\n",
      "18    2491\n",
      "      ... \n",
      "62       4\n",
      "20       4\n",
      "42       2\n",
      "65       2\n",
      "12       1\n",
      "Name: Cursine, Length: 68, dtype: int64\n",
      "Number of missing values  0\n"
     ]
    }
   ],
   "source": [
    "df.Cursine = label_encode(df.Cursine)\n",
    "get_column_info(df.Cursine)"
   ]
  },
  {
   "cell_type": "code",
   "execution_count": 161,
   "id": "close-bikini",
   "metadata": {},
   "outputs": [
    {
     "name": "stdout",
     "output_type": "stream",
     "text": [
      "Value Count: \n",
      "465    3673\n",
      "206    3493\n",
      "344    1985\n",
      "283    1550\n",
      "75     1384\n",
      "       ... \n",
      "82        1\n",
      "268       1\n",
      "360       1\n",
      "300       1\n",
      "357       1\n",
      "Name: city, Length: 517, dtype: int64\n",
      "Number of missing values  0\n"
     ]
    }
   ],
   "source": [
    "df.city = label_encode(df.city)\n",
    "get_column_info(df.city)"
   ]
  },
  {
   "cell_type": "code",
   "execution_count": 162,
   "id": "prospective-district",
   "metadata": {},
   "outputs": [
    {
     "name": "stdout",
     "output_type": "stream",
     "text": [
      "Value Count: \n",
      "12    6882\n",
      "1     5974\n",
      "9     4161\n",
      "11    2540\n",
      "15    2155\n",
      "8     2140\n",
      "14    1858\n",
      "0     1312\n",
      "20     851\n",
      "6      299\n",
      "16     168\n",
      "10       3\n",
      "17       3\n",
      "3        2\n",
      "4        1\n",
      "7        1\n",
      "19       1\n",
      "18       1\n",
      "2        1\n",
      "13       1\n",
      "5        1\n",
      "Name: state, dtype: int64\n",
      "Number of missing values  0\n"
     ]
    }
   ],
   "source": [
    "df.state = label_encode(df.state)\n",
    "get_column_info(df.state)"
   ]
  },
  {
   "cell_type": "code",
   "execution_count": 163,
   "id": "delayed-needle",
   "metadata": {},
   "outputs": [
    {
     "name": "stdout",
     "output_type": "stream",
     "text": [
      "Value Count: \n",
      "4.0    7991\n",
      "3.5    7641\n",
      "3.0    5071\n",
      "4.5    3461\n",
      "2.5    2423\n",
      "2.0    1074\n",
      "5.0     354\n",
      "1.5     275\n",
      "1.0      65\n",
      "Name: stars, dtype: int64\n",
      "Number of missing values  0\n"
     ]
    }
   ],
   "source": [
    "get_column_info(df.stars)"
   ]
  },
  {
   "cell_type": "code",
   "execution_count": 164,
   "id": "specified-denmark",
   "metadata": {},
   "outputs": [],
   "source": [
    "def get_star_type(df_column):\n",
    "    if df_column <= 2.5:\n",
    "        return 0\n",
    "    elif df_column >= 3.5:\n",
    "        return 1\n",
    "    else:\n",
    "        return 'None'"
   ]
  },
  {
   "cell_type": "code",
   "execution_count": 165,
   "id": "given-plane",
   "metadata": {},
   "outputs": [
    {
     "data": {
      "text/plain": [
       "1       19447\n",
       "None     5071\n",
       "0        3837\n",
       "Name: star_type, dtype: int64"
      ]
     },
     "execution_count": 165,
     "metadata": {},
     "output_type": "execute_result"
    }
   ],
   "source": [
    "#transform into two types of rating low (1-2.5) vs high (3.5 - 5)\n",
    "df['star_type'] = df.stars.apply(lambda x: get_star_type((x)))\n",
    "df.star_type.value_counts()"
   ]
  },
  {
   "cell_type": "code",
   "execution_count": 166,
   "id": "illegal-charlotte",
   "metadata": {},
   "outputs": [
    {
     "data": {
      "text/plain": [
       "1    19447\n",
       "0     3837\n",
       "Name: star_type, dtype: int64"
      ]
     },
     "execution_count": 166,
     "metadata": {},
     "output_type": "execute_result"
    }
   ],
   "source": [
    "#drop natural rating, i.e., None\n",
    "df = df[df.star_type != 'None']\n",
    "df.star_type.value_counts()"
   ]
  },
  {
   "cell_type": "code",
   "execution_count": 167,
   "id": "terminal-welding",
   "metadata": {},
   "outputs": [],
   "source": [
    "#drop stars column\n",
    "df.drop('stars', axis=1, inplace=True)"
   ]
  },
  {
   "cell_type": "code",
   "execution_count": 168,
   "id": "received-encyclopedia",
   "metadata": {},
   "outputs": [],
   "source": [
    "df.reset_index(drop=True, inplace=True)"
   ]
  },
  {
   "cell_type": "code",
   "execution_count": 169,
   "id": "sound-strike",
   "metadata": {},
   "outputs": [
    {
     "data": {
      "text/plain": [
       "(23284, 54)"
      ]
     },
     "execution_count": 169,
     "metadata": {},
     "output_type": "execute_result"
    }
   ],
   "source": [
    "df.shape"
   ]
  },
  {
   "cell_type": "code",
   "execution_count": 170,
   "id": "subject-jones",
   "metadata": {},
   "outputs": [],
   "source": [
    "#export to new file\n",
    "df.to_csv('./yelp_dataset/resturants_cleaned.csv', index=False)"
   ]
  },
  {
   "cell_type": "code",
   "execution_count": null,
   "id": "round-poison",
   "metadata": {},
   "outputs": [],
   "source": []
  }
 ],
 "metadata": {
  "kernelspec": {
   "display_name": "Python 3",
   "language": "python",
   "name": "python3"
  },
  "language_info": {
   "codemirror_mode": {
    "name": "ipython",
    "version": 3
   },
   "file_extension": ".py",
   "mimetype": "text/x-python",
   "name": "python",
   "nbconvert_exporter": "python",
   "pygments_lexer": "ipython3",
   "version": "3.8.5"
  }
 },
 "nbformat": 4,
 "nbformat_minor": 5
}
